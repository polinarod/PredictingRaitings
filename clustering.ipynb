{
 "cells": [
  {
   "cell_type": "code",
   "execution_count": 1,
   "metadata": {},
   "outputs": [],
   "source": [
    "%matplotlib inline\n",
    "import pandas as pd\n",
    "import matplotlib.pyplot as plt\n",
    "import numpy as np\n",
    "from sklearn.cluster import KMeans,DBSCAN\n",
    "from sklearn.metrics.cluster import silhouette_score\n",
    "import pickle"
   ]
  },
  {
   "cell_type": "code",
   "execution_count": 2,
   "metadata": {},
   "outputs": [
    {
     "data": {
      "text/html": [
       "<div>\n",
       "<style scoped>\n",
       "    .dataframe tbody tr th:only-of-type {\n",
       "        vertical-align: middle;\n",
       "    }\n",
       "\n",
       "    .dataframe tbody tr th {\n",
       "        vertical-align: top;\n",
       "    }\n",
       "\n",
       "    .dataframe thead th {\n",
       "        text-align: right;\n",
       "    }\n",
       "</style>\n",
       "<table border=\"1\" class=\"dataframe\">\n",
       "  <thead>\n",
       "    <tr style=\"text-align: right;\">\n",
       "      <th></th>\n",
       "      <th>0</th>\n",
       "      <th>1</th>\n",
       "      <th>3</th>\n",
       "      <th>10</th>\n",
       "      <th>11</th>\n",
       "      <th>12</th>\n",
       "      <th>13</th>\n",
       "      <th>14</th>\n",
       "      <th>17</th>\n",
       "      <th>18</th>\n",
       "      <th>...</th>\n",
       "      <th>213</th>\n",
       "      <th>214</th>\n",
       "      <th>215</th>\n",
       "      <th>216</th>\n",
       "      <th>217</th>\n",
       "      <th>219</th>\n",
       "      <th>220</th>\n",
       "      <th>221</th>\n",
       "      <th>222</th>\n",
       "      <th>223</th>\n",
       "    </tr>\n",
       "  </thead>\n",
       "  <tbody>\n",
       "    <tr>\n",
       "      <th>0</th>\n",
       "      <td>0.5</td>\n",
       "      <td>19.0</td>\n",
       "      <td>3.0</td>\n",
       "      <td>698.63</td>\n",
       "      <td>-26.0</td>\n",
       "      <td>70.0</td>\n",
       "      <td>20.736842</td>\n",
       "      <td>21.0</td>\n",
       "      <td>1.0</td>\n",
       "      <td>35.0</td>\n",
       "      <td>...</td>\n",
       "      <td>1.0</td>\n",
       "      <td>1.0</td>\n",
       "      <td>1.0</td>\n",
       "      <td>1.0</td>\n",
       "      <td>6.0</td>\n",
       "      <td>1.0</td>\n",
       "      <td>2.0</td>\n",
       "      <td>0.0</td>\n",
       "      <td>0.0</td>\n",
       "      <td>0.0</td>\n",
       "    </tr>\n",
       "    <tr>\n",
       "      <th>1</th>\n",
       "      <td>0.0</td>\n",
       "      <td>53.0</td>\n",
       "      <td>18.0</td>\n",
       "      <td>5226398.31</td>\n",
       "      <td>-10866.0</td>\n",
       "      <td>69.0</td>\n",
       "      <td>-721.301887</td>\n",
       "      <td>66.0</td>\n",
       "      <td>18.0</td>\n",
       "      <td>-10866.0</td>\n",
       "      <td>...</td>\n",
       "      <td>0.0</td>\n",
       "      <td>0.0</td>\n",
       "      <td>0.0</td>\n",
       "      <td>0.0</td>\n",
       "      <td>2.0</td>\n",
       "      <td>0.0</td>\n",
       "      <td>1.0</td>\n",
       "      <td>4.0</td>\n",
       "      <td>0.0</td>\n",
       "      <td>0.0</td>\n",
       "    </tr>\n",
       "    <tr>\n",
       "      <th>2</th>\n",
       "      <td>1.0</td>\n",
       "      <td>39.0</td>\n",
       "      <td>31.0</td>\n",
       "      <td>2654.84</td>\n",
       "      <td>-27.0</td>\n",
       "      <td>198.0</td>\n",
       "      <td>43.435897</td>\n",
       "      <td>34.0</td>\n",
       "      <td>-11.0</td>\n",
       "      <td>196.0</td>\n",
       "      <td>...</td>\n",
       "      <td>1.0</td>\n",
       "      <td>0.0</td>\n",
       "      <td>0.0</td>\n",
       "      <td>1.0</td>\n",
       "      <td>4.0</td>\n",
       "      <td>0.0</td>\n",
       "      <td>1.0</td>\n",
       "      <td>1.0</td>\n",
       "      <td>0.0</td>\n",
       "      <td>0.0</td>\n",
       "    </tr>\n",
       "    <tr>\n",
       "      <th>3</th>\n",
       "      <td>1.0</td>\n",
       "      <td>25.0</td>\n",
       "      <td>18.0</td>\n",
       "      <td>98134.08</td>\n",
       "      <td>10.0</td>\n",
       "      <td>875.0</td>\n",
       "      <td>293.520000</td>\n",
       "      <td>140.0</td>\n",
       "      <td>18.0</td>\n",
       "      <td>875.0</td>\n",
       "      <td>...</td>\n",
       "      <td>0.0</td>\n",
       "      <td>1.0</td>\n",
       "      <td>1.0</td>\n",
       "      <td>1.0</td>\n",
       "      <td>4.0</td>\n",
       "      <td>2.0</td>\n",
       "      <td>2.0</td>\n",
       "      <td>0.0</td>\n",
       "      <td>0.0</td>\n",
       "      <td>0.0</td>\n",
       "    </tr>\n",
       "    <tr>\n",
       "      <th>4</th>\n",
       "      <td>0.5</td>\n",
       "      <td>29.0</td>\n",
       "      <td>18.0</td>\n",
       "      <td>617.32</td>\n",
       "      <td>-12.0</td>\n",
       "      <td>94.0</td>\n",
       "      <td>29.448276</td>\n",
       "      <td>24.0</td>\n",
       "      <td>29.0</td>\n",
       "      <td>-7.0</td>\n",
       "      <td>...</td>\n",
       "      <td>0.0</td>\n",
       "      <td>0.0</td>\n",
       "      <td>1.0</td>\n",
       "      <td>0.0</td>\n",
       "      <td>5.0</td>\n",
       "      <td>0.0</td>\n",
       "      <td>1.0</td>\n",
       "      <td>0.0</td>\n",
       "      <td>0.0</td>\n",
       "      <td>0.0</td>\n",
       "    </tr>\n",
       "  </tbody>\n",
       "</table>\n",
       "<p>5 rows × 126 columns</p>\n",
       "</div>"
      ],
      "text/plain": [
       "     0     1     3          10       11     12          13     14    17  \\\n",
       "0  0.5  19.0   3.0      698.63    -26.0   70.0   20.736842   21.0   1.0   \n",
       "1  0.0  53.0  18.0  5226398.31 -10866.0   69.0 -721.301887   66.0  18.0   \n",
       "2  1.0  39.0  31.0     2654.84    -27.0  198.0   43.435897   34.0 -11.0   \n",
       "3  1.0  25.0  18.0    98134.08     10.0  875.0  293.520000  140.0  18.0   \n",
       "4  0.5  29.0  18.0      617.32    -12.0   94.0   29.448276   24.0  29.0   \n",
       "\n",
       "        18 ...   213  214  215  216  217  219  220  221  222  223  \n",
       "0     35.0 ...   1.0  1.0  1.0  1.0  6.0  1.0  2.0  0.0  0.0  0.0  \n",
       "1 -10866.0 ...   0.0  0.0  0.0  0.0  2.0  0.0  1.0  4.0  0.0  0.0  \n",
       "2    196.0 ...   1.0  0.0  0.0  1.0  4.0  0.0  1.0  1.0  0.0  0.0  \n",
       "3    875.0 ...   0.0  1.0  1.0  1.0  4.0  2.0  2.0  0.0  0.0  0.0  \n",
       "4     -7.0 ...   0.0  0.0  1.0  0.0  5.0  0.0  1.0  0.0  0.0  0.0  \n",
       "\n",
       "[5 rows x 126 columns]"
      ]
     },
     "execution_count": 2,
     "metadata": {},
     "output_type": "execute_result"
    }
   ],
   "source": [
    "features=pd.read_csv(r'C:\\Users\\Asus\\PredictingRatings\\data\\features_corr.csv')\n",
    "#features=pd.read_csv(r'C:\\Users\\vznam\\Downloads\\PredictingRatings-master\\data\\features_corr.csv')\n",
    "features.head()"
   ]
  },
  {
   "cell_type": "code",
   "execution_count": 3,
   "metadata": {},
   "outputs": [
    {
     "data": {
      "text/html": [
       "<div>\n",
       "<style scoped>\n",
       "    .dataframe tbody tr th:only-of-type {\n",
       "        vertical-align: middle;\n",
       "    }\n",
       "\n",
       "    .dataframe tbody tr th {\n",
       "        vertical-align: top;\n",
       "    }\n",
       "\n",
       "    .dataframe thead th {\n",
       "        text-align: right;\n",
       "    }\n",
       "</style>\n",
       "<table border=\"1\" class=\"dataframe\">\n",
       "  <thead>\n",
       "    <tr style=\"text-align: right;\">\n",
       "      <th></th>\n",
       "      <th>WhiteElo</th>\n",
       "      <th>BlackElo</th>\n",
       "      <th>MeanElos</th>\n",
       "      <th>DiffElos</th>\n",
       "      <th>SumElos</th>\n",
       "    </tr>\n",
       "  </thead>\n",
       "  <tbody>\n",
       "    <tr>\n",
       "      <th>0</th>\n",
       "      <td>2354</td>\n",
       "      <td>2411</td>\n",
       "      <td>2382</td>\n",
       "      <td>-57</td>\n",
       "      <td>4765</td>\n",
       "    </tr>\n",
       "    <tr>\n",
       "      <th>1</th>\n",
       "      <td>1915</td>\n",
       "      <td>1999</td>\n",
       "      <td>1957</td>\n",
       "      <td>-84</td>\n",
       "      <td>3914</td>\n",
       "    </tr>\n",
       "    <tr>\n",
       "      <th>2</th>\n",
       "      <td>2446</td>\n",
       "      <td>2191</td>\n",
       "      <td>2318</td>\n",
       "      <td>255</td>\n",
       "      <td>4637</td>\n",
       "    </tr>\n",
       "    <tr>\n",
       "      <th>3</th>\n",
       "      <td>2168</td>\n",
       "      <td>2075</td>\n",
       "      <td>2121</td>\n",
       "      <td>93</td>\n",
       "      <td>4243</td>\n",
       "    </tr>\n",
       "    <tr>\n",
       "      <th>4</th>\n",
       "      <td>2437</td>\n",
       "      <td>2254</td>\n",
       "      <td>2345</td>\n",
       "      <td>183</td>\n",
       "      <td>4691</td>\n",
       "    </tr>\n",
       "  </tbody>\n",
       "</table>\n",
       "</div>"
      ],
      "text/plain": [
       "   WhiteElo  BlackElo  MeanElos  DiffElos  SumElos\n",
       "0      2354      2411      2382       -57     4765\n",
       "1      1915      1999      1957       -84     3914\n",
       "2      2446      2191      2318       255     4637\n",
       "3      2168      2075      2121        93     4243\n",
       "4      2437      2254      2345       183     4691"
      ]
     },
     "execution_count": 3,
     "metadata": {},
     "output_type": "execute_result"
    }
   ],
   "source": [
    "elos=pd.read_csv(r'C:\\Users\\Asus\\PredictingRatings\\data\\clean_elos.csv')\n",
    "#elos=pd.read_csv(r'C:\\Users\\vznam\\Downloads\\PredictingRatings-master\\data\\clean_elos.csv')\n",
    "elos.head()"
   ]
  },
  {
   "cell_type": "code",
   "execution_count": 31,
   "metadata": {},
   "outputs": [],
   "source": [
    "kmeans = KMeans(n_clusters=4)\n",
    "kmeans.fit(features)\n",
    "y_kmeans = kmeans.predict(features)"
   ]
  },
  {
   "cell_type": "code",
   "execution_count": 32,
   "metadata": {},
   "outputs": [],
   "source": [
    "with open('kmeans.pkl', 'wb') as f:\n",
    "    pickle.dump(kmeans,f) "
   ]
  },
  {
   "cell_type": "code",
   "execution_count": 5,
   "metadata": {},
   "outputs": [],
   "source": [
    "kmeans1 = KMeans(n_clusters=4)\n",
    "kmeans1.fit(elos)\n",
    "y_kmeans1 = kmeans1.predict(elos)"
   ]
  },
  {
   "cell_type": "code",
   "execution_count": 7,
   "metadata": {},
   "outputs": [
    {
     "data": {
      "text/plain": [
       "0.3822265011527394"
      ]
     },
     "execution_count": 7,
     "metadata": {},
     "output_type": "execute_result"
    }
   ],
   "source": [
    "silhouette_kmeans1 = silhouette_score(elos,y_kmeans1)\n",
    "silhouette_kmeans1"
   ]
  },
  {
   "cell_type": "code",
   "execution_count": 30,
   "metadata": {},
   "outputs": [],
   "source": [
    "with open('kmeans1.pkl', 'wb') as f:\n",
    "    pickle.dump(kmeans1,f) "
   ]
  },
  {
   "cell_type": "code",
   "execution_count": 6,
   "metadata": {},
   "outputs": [
    {
     "data": {
      "text/plain": [
       "(24255, array([0, 2, 0, ..., 0, 0, 0]))"
      ]
     },
     "execution_count": 6,
     "metadata": {},
     "output_type": "execute_result"
    }
   ],
   "source": [
    "len(y_kmeans),y_kmeans"
   ]
  },
  {
   "cell_type": "code",
   "execution_count": 5,
   "metadata": {},
   "outputs": [
    {
     "data": {
      "text/plain": [
       "0.8932492025238834"
      ]
     },
     "execution_count": 5,
     "metadata": {},
     "output_type": "execute_result"
    }
   ],
   "source": [
    "silhouette_kmeans = silhouette_score(features,y_kmeans)\n",
    "silhouette_kmeans"
   ]
  },
  {
   "cell_type": "code",
   "execution_count": 19,
   "metadata": {},
   "outputs": [],
   "source": [
    "kmeans1 = KMeans(n_clusters=5)\n",
    "kmeans1.fit(features)\n",
    "y_kmeans1 = kmeans1.predict(features)"
   ]
  },
  {
   "cell_type": "code",
   "execution_count": 20,
   "metadata": {},
   "outputs": [
    {
     "data": {
      "text/plain": [
       "0.880045607689205"
      ]
     },
     "execution_count": 20,
     "metadata": {},
     "output_type": "execute_result"
    }
   ],
   "source": [
    "silhouette_kmeans1 = silhouette_score(features,y_kmeans1)\n",
    "silhouette_kmeans1"
   ]
  },
  {
   "cell_type": "code",
   "execution_count": 21,
   "metadata": {},
   "outputs": [],
   "source": [
    "kmeans2 = KMeans(n_clusters=6)\n",
    "kmeans2.fit(features)\n",
    "y_kmeans2 = kmeans2.predict(features)"
   ]
  },
  {
   "cell_type": "code",
   "execution_count": 22,
   "metadata": {},
   "outputs": [
    {
     "data": {
      "text/plain": [
       "0.8610049938810798"
      ]
     },
     "execution_count": 22,
     "metadata": {},
     "output_type": "execute_result"
    }
   ],
   "source": [
    "silhouette_kmeans2 = silhouette_score(features,y_kmeans2)\n",
    "silhouette_kmeans2"
   ]
  },
  {
   "cell_type": "code",
   "execution_count": 7,
   "metadata": {},
   "outputs": [
    {
     "data": {
      "text/plain": [
       "(array([-1, -1, -1, ..., -1, -1, -1], dtype=int64), array([], dtype=int64))"
      ]
     },
     "execution_count": 7,
     "metadata": {},
     "output_type": "execute_result"
    }
   ],
   "source": [
    "dbscan = DBSCAN(eps=3, min_samples=2).fit(features)\n",
    "y_dbscan=dbscan.labels_\n",
    "y_dbscan,dbscan.core_sample_indices_"
   ]
  },
  {
   "cell_type": "markdown",
   "metadata": {},
   "source": [
    "### Не очень вышел dbscan, кластеризуем признаки по kmeans"
   ]
  },
  {
   "cell_type": "code",
   "execution_count": 8,
   "metadata": {},
   "outputs": [
    {
     "data": {
      "text/html": [
       "<div>\n",
       "<style scoped>\n",
       "    .dataframe tbody tr th:only-of-type {\n",
       "        vertical-align: middle;\n",
       "    }\n",
       "\n",
       "    .dataframe tbody tr th {\n",
       "        vertical-align: top;\n",
       "    }\n",
       "\n",
       "    .dataframe thead th {\n",
       "        text-align: right;\n",
       "    }\n",
       "</style>\n",
       "<table border=\"1\" class=\"dataframe\">\n",
       "  <thead>\n",
       "    <tr style=\"text-align: right;\">\n",
       "      <th></th>\n",
       "      <th>WhiteElo</th>\n",
       "      <th>BlackElo</th>\n",
       "      <th>MeanElos</th>\n",
       "      <th>DiffElos</th>\n",
       "      <th>SumElos</th>\n",
       "      <th>Class</th>\n",
       "    </tr>\n",
       "  </thead>\n",
       "  <tbody>\n",
       "    <tr>\n",
       "      <th>0</th>\n",
       "      <td>2354</td>\n",
       "      <td>2411</td>\n",
       "      <td>2382</td>\n",
       "      <td>-57</td>\n",
       "      <td>4765</td>\n",
       "      <td>0</td>\n",
       "    </tr>\n",
       "    <tr>\n",
       "      <th>1</th>\n",
       "      <td>1915</td>\n",
       "      <td>1999</td>\n",
       "      <td>1957</td>\n",
       "      <td>-84</td>\n",
       "      <td>3914</td>\n",
       "      <td>3</td>\n",
       "    </tr>\n",
       "    <tr>\n",
       "      <th>2</th>\n",
       "      <td>2446</td>\n",
       "      <td>2191</td>\n",
       "      <td>2318</td>\n",
       "      <td>255</td>\n",
       "      <td>4637</td>\n",
       "      <td>2</td>\n",
       "    </tr>\n",
       "    <tr>\n",
       "      <th>3</th>\n",
       "      <td>2168</td>\n",
       "      <td>2075</td>\n",
       "      <td>2121</td>\n",
       "      <td>93</td>\n",
       "      <td>4243</td>\n",
       "      <td>2</td>\n",
       "    </tr>\n",
       "    <tr>\n",
       "      <th>4</th>\n",
       "      <td>2437</td>\n",
       "      <td>2254</td>\n",
       "      <td>2345</td>\n",
       "      <td>183</td>\n",
       "      <td>4691</td>\n",
       "      <td>2</td>\n",
       "    </tr>\n",
       "  </tbody>\n",
       "</table>\n",
       "</div>"
      ],
      "text/plain": [
       "   WhiteElo  BlackElo  MeanElos  DiffElos  SumElos  Class\n",
       "0      2354      2411      2382       -57     4765      0\n",
       "1      1915      1999      1957       -84     3914      3\n",
       "2      2446      2191      2318       255     4637      2\n",
       "3      2168      2075      2121        93     4243      2\n",
       "4      2437      2254      2345       183     4691      2"
      ]
     },
     "execution_count": 8,
     "metadata": {},
     "output_type": "execute_result"
    }
   ],
   "source": [
    "elos['Class'] = y_kmeans1\n",
    "elos.head()"
   ]
  },
  {
   "cell_type": "code",
   "execution_count": 9,
   "metadata": {},
   "outputs": [
    {
     "data": {
      "text/plain": [
       "(8251, 6)"
      ]
     },
     "execution_count": 9,
     "metadata": {},
     "output_type": "execute_result"
    }
   ],
   "source": [
    "elos_1=elos[elos['Class']==0]\n",
    "elos_1.shape"
   ]
  },
  {
   "cell_type": "code",
   "execution_count": 11,
   "metadata": {},
   "outputs": [
    {
     "data": {
      "text/plain": [
       "(5808, 7)"
      ]
     },
     "execution_count": 11,
     "metadata": {},
     "output_type": "execute_result"
    }
   ],
   "source": [
    "elos_2=elos[elos['Class']==1]\n",
    "elos_2.shape"
   ]
  },
  {
   "cell_type": "code",
   "execution_count": 12,
   "metadata": {},
   "outputs": [
    {
     "data": {
      "text/plain": [
       "(5952, 7)"
      ]
     },
     "execution_count": 12,
     "metadata": {},
     "output_type": "execute_result"
    }
   ],
   "source": [
    "elos_3=elos[elos['Class']==2]\n",
    "elos_3.shape"
   ]
  },
  {
   "cell_type": "code",
   "execution_count": 13,
   "metadata": {},
   "outputs": [
    {
     "data": {
      "text/plain": [
       "(4244, 7)"
      ]
     },
     "execution_count": 13,
     "metadata": {},
     "output_type": "execute_result"
    }
   ],
   "source": [
    "elos_4=elos[elos['Class']==3]\n",
    "elos_4.shape"
   ]
  },
  {
   "cell_type": "code",
   "execution_count": 14,
   "metadata": {},
   "outputs": [
    {
     "data": {
      "text/plain": [
       "24255"
      ]
     },
     "execution_count": 14,
     "metadata": {},
     "output_type": "execute_result"
    }
   ],
   "source": [
    "elos_1.shape[0]+elos_2.shape[0]+elos_3.shape[0]+elos_4.shape[0]"
   ]
  },
  {
   "cell_type": "code",
   "execution_count": 15,
   "metadata": {},
   "outputs": [],
   "source": [
    "elos_1.to_csv(r'C:\\Users\\Asus\\PredictingRatings\\data\\elos1.csv',sep=',',index=False)\n",
    "elos_2.to_csv(r'C:\\Users\\Asus\\PredictingRatings\\data\\elos2.csv',sep=',',index=False)\n",
    "elos_3.to_csv(r'C:\\Users\\Asus\\PredictingRatings\\data\\elos3.csv',sep=',',index=False)\n",
    "elos_4.to_csv(r'C:\\Users\\Asus\\PredictingRatings\\data\\elos4.csv',sep=',',index=False)"
   ]
  },
  {
   "cell_type": "code",
   "execution_count": 16,
   "metadata": {},
   "outputs": [
    {
     "data": {
      "text/plain": [
       "(8251, 126)"
      ]
     },
     "execution_count": 16,
     "metadata": {},
     "output_type": "execute_result"
    }
   ],
   "source": [
    "features_1=features[features.index.isin(elos_1.index)]\n",
    "features_1.shape"
   ]
  },
  {
   "cell_type": "code",
   "execution_count": 17,
   "metadata": {},
   "outputs": [],
   "source": [
    "features_2=features[features.index.isin(elos_2.index)]\n",
    "features_3=features[features.index.isin(elos_3.index)]\n",
    "features_4=features[features.index.isin(elos_4.index)]"
   ]
  },
  {
   "cell_type": "code",
   "execution_count": 18,
   "metadata": {},
   "outputs": [],
   "source": [
    "features_1.to_csv(r'C:\\Users\\Asus\\PredictingRatings\\data\\features1.csv',sep=',',index=False)\n",
    "features_2.to_csv(r'C:\\Users\\Asus\\PredictingRatings\\data\\features2.csv',sep=',',index=False)\n",
    "features_3.to_csv(r'C:\\Users\\Asus\\PredictingRatings\\data\\features3.csv',sep=',',index=False)\n",
    "features_4.to_csv(r'C:\\Users\\Asus\\PredictingRatings\\data\\features4.csv',sep=',',index=False)"
   ]
  },
  {
   "cell_type": "code",
   "execution_count": null,
   "metadata": {},
   "outputs": [],
   "source": []
  }
 ],
 "metadata": {
  "kernelspec": {
   "display_name": "Python 3",
   "language": "python",
   "name": "python3"
  },
  "language_info": {
   "codemirror_mode": {
    "name": "ipython",
    "version": 3
   },
   "file_extension": ".py",
   "mimetype": "text/x-python",
   "name": "python",
   "nbconvert_exporter": "python",
   "pygments_lexer": "ipython3",
   "version": "3.6.4"
  }
 },
 "nbformat": 4,
 "nbformat_minor": 2
}
