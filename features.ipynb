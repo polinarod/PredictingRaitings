{
 "cells": [
  {
   "cell_type": "code",
   "execution_count": null,
   "metadata": {},
   "outputs": [],
   "source": [
    "%matplotlib inline\n",
    "import pandas as pd\n",
    "import matplotlib.pyplot as plt\n",
    "import chess.pgn as pgn\n",
    "import chess\n",
    "import numpy as np\n",
    "from math import ceil"
   ]
  },
  {
   "cell_type": "code",
   "execution_count": null,
   "metadata": {},
   "outputs": [],
   "source": [
    "data=pd.read_csv(r'C:\\Users\\Asus\\PredictingRatings\\data\\clean_games.csv')\n",
    "data.Scores=data.Scores.str.replace(' ','').str.replace('[','').str.replace(']','').str.replace(',',' ')\n",
    "data.Scores=data.Scores.apply(lambda x: list(map(int,x.split())))\n",
    "data.Scores=data.Scores.apply(lambda x: list(map(int,x)))\n",
    "data.Moves=data.Moves.str.replace('\"','').str.replace(\"'\",\"\").str.replace('[','').str.replace(']','').str.replace(',',' ')\n",
    "data.Moves=data.Moves.apply(lambda x: x.split())\n",
    "data.UCI=data.UCI.str.replace('\"','').str.replace(\"'\",\"\").str.replace('[','').str.replace(']','').str.replace(',',' ')\n",
    "data.UCI=data.UCI.apply(lambda x: x.split())\n",
    "data.head()"
   ]
  },
  {
   "cell_type": "code",
   "execution_count": null,
   "metadata": {},
   "outputs": [],
   "source": [
    "elos=pd.read_csv(r'C:\\Users\\Asus\\PredictingRatings\\data\\clean_elos.csv')\n",
    "elos.head()"
   ]
  },
  {
   "cell_type": "code",
   "execution_count": null,
   "metadata": {},
   "outputs": [],
   "source": [
    "features=data.copy()\n",
    "\n",
    "'''\n",
    "# Может попробовать так? (долго думает, пока непонятно надо это или нет)\n",
    "wins = pd.DataFrame(columns = [\"WhiteWins\", \"BlackWins\"])\n",
    "features=features.append(wins)\n",
    "features.update(features[[\"WhiteWins\", \"BlackWins\"]].fillna(0, inplace=False), overwrite=False)\n",
    "\n",
    "for i,x in enumerate(features['Result']):\n",
    "    if (x == \"1/2-1/2\"):\n",
    "        features['WhiteWins'][i] = 1\n",
    "        features['BlackWins'][i] = 1\n",
    "    elif (x == \"1-0\"):\n",
    "        features['WhiteWins'][i] = 1\n",
    "    else:\n",
    "        features['BlackWins'][i] = 1\n",
    "        '''\n",
    "\n",
    "features.Result=features.Result.apply(lambda x: 0.5 if x=='1/2-1/2' else x)\n",
    "features.Result=features.Result.apply(lambda x: 1 if x=='1-0' else x)\n",
    "features.Result=features.Result.apply(lambda x: 0 if x=='0-1' else x)\n",
    "\n",
    "features['FullMoves']=features.Moves.apply(lambda x: len(x))\n",
    "\n",
    "features=features.drop(columns=['Moves','Scores','UCI'])\n",
    "features.head()"
   ]
  },
  {
   "cell_type": "code",
   "execution_count": null,
   "metadata": {},
   "outputs": [],
   "source": [
    "data['WhiteMoves']=data.Moves.apply(lambda x: x[::2])\n",
    "data['WhiteMovesUCI']=data.UCI.apply(lambda x: x[::2])\n",
    "data['WhiteScores']=data.Scores.apply(lambda x: x[::2])\n",
    "data['BlackMoves']=data.Moves.apply(lambda x: x[1::2])\n",
    "data['BlackMovesUCI']=data.UCI.apply(lambda x: x[1::2])\n",
    "data['BlackScores']=data.Scores.apply(lambda x: x[1::2])\n",
    "data['DiffScores']=data.Scores.apply(lambda x: np.diff(x).tolist())\n",
    "data['DiffWhiteScores']=data.DiffScores.apply(lambda x: x[::2])\n",
    "data['DiffBlackScores']=data.DiffScores.apply(lambda x: x[1::2])\n",
    "\n",
    "data=data.drop(columns=['NumMoves','MeanScore','ModeScore','FinalScore'])\n",
    "data.head(3)"
   ]
  },
  {
   "cell_type": "markdown",
   "metadata": {},
   "source": [
    "#### Условные разделения на дебют, миттельшпиль и эндшпиль.\n",
    "##### (1-15 - дебют, 16-35 - миттельшпиль, 36+ эндшпиль)\n",
    "Разделения очень-очень условные, но имеют основания, так как игроки могут по-разному показывать себя в разных частях партии."
   ]
  },
  {
   "cell_type": "code",
   "execution_count": null,
   "metadata": {},
   "outputs": [],
   "source": [
    "data = data.append(pd.DataFrame(columns = [\"DebScores\", \"MitScores\", \"EndScores\"]))\n",
    "\n",
    "data['DebScores']=data.Scores.apply(lambda x: x[:16])\n",
    "data['MitScores']=data.Scores.apply(lambda x: x[16:36])\n",
    "data['EndScores']=data.Scores.apply(lambda x: x[36:])\n",
    "\n",
    "\n",
    "modes=['DebScores','MitScores','EndScores']\n",
    "var=['White','Black','Diff','DiffWhite','DiffBlack']\n",
    "\n",
    "for m in modes:\n",
    "    data['White' + m]=data[m].apply(lambda x: x[::2])\n",
    "    data['Black' + m]=data[m].apply(lambda x: x[1::2])\n",
    "    data['Diff'+m]=data[m].apply(lambda x: np.diff(x).tolist())\n",
    "    data['DiffWhite'+m]=data['Diff'+m].apply(lambda x: x[::2])\n",
    "    data['DiffBlack'+m]=data['Diff'+m].apply(lambda x: x[1::2])\n"
   ]
  },
  {
   "cell_type": "code",
   "execution_count": null,
   "metadata": {},
   "outputs": [],
   "source": [
    "data.head()"
   ]
  },
  {
   "cell_type": "code",
   "execution_count": null,
   "metadata": {},
   "outputs": [],
   "source": [
    "stats = [np.min, np.max, np.mean, lambda x: np.median(np.abs(x)),np.std, \n",
    "         lambda x: round(np.var(x),2), lambda x: max(set(x), key=x.count)]\n",
    "stat_names = ['Min', 'Max', 'Mean', 'Median','Std','Variance','Mode']\n",
    "color=['White','Black']\n",
    "\n",
    "# общие оценки\n",
    "for stat, stat_name in zip(stats, stat_names):\n",
    "    features[stat_name + 'Score'] = data.Scores.apply(lambda x: stat(x))\n",
    "    \n",
    "# общие оценки по цветам\n",
    "for c in color:\n",
    "    for stat, stat_name in zip(stats, stat_names):\n",
    "        features[stat_name + c + 'Score'] = data[c+'Scores'].apply(lambda x: stat(x))\n",
    "        \n",
    "    features['Final' +c+ 'Score']=data[c+'Scores'].apply(lambda x: x[-1])\n",
    "\n",
    "\n",
    "# по разнцие в оценках в общем\n",
    "for stat, stat_name in zip(stats, stat_names):\n",
    "    features[stat_name + 'DeltaScore'] = data.DiffScores.apply(lambda x: stat(x))\n",
    "    \n",
    "# по разнцие в оценках по цветам\n",
    "for c in color:\n",
    "    for stat, stat_name in zip(stats, stat_names):\n",
    "        features[stat_name + c + 'DeltaScore'] = data['Diff'+c+'Scores'].apply(lambda x: stat(x))\n",
    "    \n",
    "##########################################################################################################################    \n",
    "# по частям партий (и все тоже самое, что выше)\n",
    "modes=['Deb','Mit','End']\n",
    "\n",
    "for m in modes:\n",
    "    for stat, stat_name in zip(stats, stat_names):\n",
    "        features[stat_name + m+'Score'] = data[m+'Scores'].apply(lambda x: stat(x) if  len(x)!=0 else -1)\n",
    "\n",
    "# по цветам\n",
    "for c in color:\n",
    "    for stat, stat_name in zip(stats, stat_names):\n",
    "        features[stat_name + c + m+'Score'] = data[c+m+'Scores'].apply(lambda x: stat(x) if  len(x)!=0 else -1)\n",
    "\n",
    "    features['Final' +c+ m+'Score']=data[c+m+'Scores'].apply(lambda x: x[-1]  if  len(x)!=0 else 0)\n",
    "\n",
    "# по разнцие в оценках\n",
    "for m in modes:\n",
    "    for stat, stat_name in zip(stats, stat_names):\n",
    "        features[stat_name + m+'DeltaScore'] = data['Diff'+m+'Scores'].apply(lambda x: stat(x)  if  len(x)!=0 else -1)\n",
    "        \n",
    "# по разнцие в оценках по цветам\n",
    "for c in color:\n",
    "    for m in modes:\n",
    "        for stat, stat_name in zip(stats, stat_names):\n",
    "            features[stat_name + c + m+'DeltaScore'] = data['Diff'+c+m+'Scores'].apply(lambda x: stat(x)  if  len(x)!=0 else -1)    \n"
   ]
  },
  {
   "cell_type": "code",
   "execution_count": null,
   "metadata": {},
   "outputs": [],
   "source": [
    "print(features.shape)\n",
    "features.head(3)"
   ]
  },
  {
   "cell_type": "code",
   "execution_count": null,
   "metadata": {},
   "outputs": [],
   "source": [
    "features.to_csv(r'C:\\Users\\Asus\\PredictingRatings\\data\\features.csv', sep=',',index=False)"
   ]
  },
  {
   "cell_type": "markdown",
   "metadata": {},
   "source": [
    "#### Индекс первого и последнего хода, когда белые или черные получили преимущество (>100 cp)\n",
    "+победили ли они после получения преимущества (если не было преимущества - то сверяем с ничьей)"
   ]
  },
  {
   "cell_type": "code",
   "execution_count": null,
   "metadata": {},
   "outputs": [],
   "source": [
    "def find_advantage(scores):\n",
    "    for i,x in enumerate(scores):\n",
    "        if abs(x) >=100:\n",
    "            return i\n",
    "    return 0\n",
    "\n",
    "def is_realised_advantage(ind,result,num=0):\n",
    "    if ind == num and num != 0:\n",
    "        return 1\n",
    "    elif ind==0 and result==0.5:\n",
    "        return 1\n",
    "    elif ind!=0 and ind %2!=0 and result==1:\n",
    "        return 1\n",
    "    elif ind!=0 and ind %2==0 and result==0:\n",
    "        return 1\n",
    "    else:\n",
    "        return 0        \n",
    "    \n",
    "    \n",
    "features['FirstAdvantageInd']=data.Scores.apply(find_advantage)\n",
    "features['IsFirstAdvantageRealised']=features[['FirstAdvantageInd','Result']].apply(lambda x: is_realised_advantage(*x),axis=1)\n",
    "features['FirstAdvantageInd']=features['FirstAdvantageInd'].apply(lambda x: ceil(x/2))\n",
    "\n",
    "features['LastAdvantageInd']=data.Scores.apply(lambda x: np.argmax(np.absolute(x) >=100) or len(x))\n",
    "features['IsLastAdvantageRealised']=features[['LastAdvantageInd','Result','NumMoves']].apply(lambda x: is_realised_advantage(*x),axis=1)\n",
    "features['LastAdvantageInd']=features['LastAdvantageInd'].apply(lambda x: ceil(x/2))\n",
    "\n",
    "features.head()"
   ]
  },
  {
   "cell_type": "markdown",
   "metadata": {},
   "source": [
    "#### Кто предложил ничью?"
   ]
  },
  {
   "cell_type": "code",
   "execution_count": null,
   "metadata": {},
   "outputs": [],
   "source": [
    "def who_offer_draw(res,num):\n",
    "    if res==0.5:\n",
    "        if num % 2==0:\n",
    "            return 0 # код для черных\n",
    "        else:\n",
    "            return 1 # код для белых\n",
    "    else:\n",
    "        return -1 # никто не предлагал\n",
    "        \n",
    "features['OfferDraw']=features[['Result','NumMoves']].apply(lambda x: who_offer_draw(*x),axis=1)\n",
    "features.head()"
   ]
  },
  {
   "cell_type": "code",
   "execution_count": null,
   "metadata": {},
   "outputs": [],
   "source": [
    "features[features['OfferDraw']!=-1]"
   ]
  },
  {
   "cell_type": "code",
   "execution_count": null,
   "metadata": {},
   "outputs": [],
   "source": [
    "features.to_csv(r'C:\\Users\\Asus\\PredictingRatings\\data\\features.csv', sep=',',index=False)"
   ]
  }
 ],
 "metadata": {
  "kernelspec": {
   "display_name": "Python 3",
   "language": "python",
   "name": "python3"
  },
  "language_info": {
   "codemirror_mode": {
    "name": "ipython",
    "version": 3
   },
   "file_extension": ".py",
   "mimetype": "text/x-python",
   "name": "python",
   "nbconvert_exporter": "python",
   "pygments_lexer": "ipython3",
   "version": "3.6.4"
  }
 },
 "nbformat": 4,
 "nbformat_minor": 2
}
