{
 "cells": [
  {
   "cell_type": "code",
   "execution_count": 1,
   "metadata": {},
   "outputs": [
    {
     "name": "stderr",
     "output_type": "stream",
     "text": [
      "C:\\Users\\Asus\\Anaconda3\\lib\\site-packages\\sklearn\\externals\\joblib\\__init__.py:15: DeprecationWarning: sklearn.externals.joblib is deprecated in 0.21 and will be removed in 0.23. Please import this functionality directly from joblib, which can be installed with: pip install joblib. If this warning is raised when loading pickled models, you may need to re-serialize those models with scikit-learn 0.21+.\n",
      "  warnings.warn(msg, category=DeprecationWarning)\n"
     ]
    }
   ],
   "source": [
    "%matplotlib inline\n",
    "import pandas as pd\n",
    "import matplotlib.pyplot as plt\n",
    "import numpy as np\n",
    "import time\n",
    "from sklearn.metrics import mean_absolute_error as mae\n",
    "from sklearn.metrics import mean_squared_error as mse\n",
    "from sklearn.ensemble import ExtraTreesRegressor,RandomForestRegressor, AdaBoostClassifier, VotingClassifier\n",
    "from sklearn.linear_model import LinearRegression, ElasticNet\n",
    "from sklearn import model_selection as ms\n",
    "from scipy.stats import pearsonr\n",
    "from sklearn.metrics import make_scorer\n",
    "from sklearn import metrics\n",
    "from sklearn.feature_selection import VarianceThreshold\n",
    "\n",
    "from warnings import simplefilter\n",
    "\n",
    "import pickle\n",
    "from sklearn.externals import joblib\n",
    "\n",
    "rand_st=4\n",
    "#simplefilter(\"ignore\") \n"
   ]
  },
  {
   "cell_type": "code",
   "execution_count": 2,
   "metadata": {},
   "outputs": [
    {
     "data": {
      "text/html": [
       "<div>\n",
       "<style scoped>\n",
       "    .dataframe tbody tr th:only-of-type {\n",
       "        vertical-align: middle;\n",
       "    }\n",
       "\n",
       "    .dataframe tbody tr th {\n",
       "        vertical-align: top;\n",
       "    }\n",
       "\n",
       "    .dataframe thead th {\n",
       "        text-align: right;\n",
       "    }\n",
       "</style>\n",
       "<table border=\"1\" class=\"dataframe\">\n",
       "  <thead>\n",
       "    <tr style=\"text-align: right;\">\n",
       "      <th></th>\n",
       "      <th>WhiteElo</th>\n",
       "      <th>BlackElo</th>\n",
       "      <th>MeanElos</th>\n",
       "      <th>DiffElos</th>\n",
       "      <th>SumElos</th>\n",
       "      <th>Class</th>\n",
       "    </tr>\n",
       "  </thead>\n",
       "  <tbody>\n",
       "    <tr>\n",
       "      <th>0</th>\n",
       "      <td>2354</td>\n",
       "      <td>2411</td>\n",
       "      <td>2382</td>\n",
       "      <td>-57</td>\n",
       "      <td>4765</td>\n",
       "      <td>master</td>\n",
       "    </tr>\n",
       "    <tr>\n",
       "      <th>1</th>\n",
       "      <td>1915</td>\n",
       "      <td>1999</td>\n",
       "      <td>1957</td>\n",
       "      <td>-84</td>\n",
       "      <td>3914</td>\n",
       "      <td>novice</td>\n",
       "    </tr>\n",
       "    <tr>\n",
       "      <th>2</th>\n",
       "      <td>2446</td>\n",
       "      <td>2191</td>\n",
       "      <td>2318</td>\n",
       "      <td>255</td>\n",
       "      <td>4637</td>\n",
       "      <td>master</td>\n",
       "    </tr>\n",
       "    <tr>\n",
       "      <th>3</th>\n",
       "      <td>2168</td>\n",
       "      <td>2075</td>\n",
       "      <td>2121</td>\n",
       "      <td>93</td>\n",
       "      <td>4243</td>\n",
       "      <td>average</td>\n",
       "    </tr>\n",
       "    <tr>\n",
       "      <th>4</th>\n",
       "      <td>2437</td>\n",
       "      <td>2254</td>\n",
       "      <td>2345</td>\n",
       "      <td>183</td>\n",
       "      <td>4691</td>\n",
       "      <td>master</td>\n",
       "    </tr>\n",
       "  </tbody>\n",
       "</table>\n",
       "</div>"
      ],
      "text/plain": [
       "   WhiteElo  BlackElo  MeanElos  DiffElos  SumElos    Class\n",
       "0      2354      2411      2382       -57     4765   master\n",
       "1      1915      1999      1957       -84     3914   novice\n",
       "2      2446      2191      2318       255     4637   master\n",
       "3      2168      2075      2121        93     4243  average\n",
       "4      2437      2254      2345       183     4691   master"
      ]
     },
     "execution_count": 2,
     "metadata": {},
     "output_type": "execute_result"
    }
   ],
   "source": [
    "elos=pd.read_csv(r'C:\\Users\\Asus\\PredictingRatings\\data\\class_elos.csv')\n",
    "#elos=pd.read_csv(r'C:\\Users\\vznam\\Downloads\\PredictingRatings-master\\data\\clean_elos.csv')\n",
    "elos.head()"
   ]
  },
  {
   "cell_type": "code",
   "execution_count": 3,
   "metadata": {},
   "outputs": [
    {
     "name": "stdout",
     "output_type": "stream",
     "text": [
      "<class 'pandas.core.frame.DataFrame'>\n",
      "RangeIndex: 24255 entries, 0 to 24254\n",
      "Columns: 224 entries, 0 to 223\n",
      "dtypes: float64(224)\n",
      "memory usage: 41.5 MB\n",
      "None\n",
      "(24255, 224)\n"
     ]
    },
    {
     "data": {
      "text/html": [
       "<div>\n",
       "<style scoped>\n",
       "    .dataframe tbody tr th:only-of-type {\n",
       "        vertical-align: middle;\n",
       "    }\n",
       "\n",
       "    .dataframe tbody tr th {\n",
       "        vertical-align: top;\n",
       "    }\n",
       "\n",
       "    .dataframe thead th {\n",
       "        text-align: right;\n",
       "    }\n",
       "</style>\n",
       "<table border=\"1\" class=\"dataframe\">\n",
       "  <thead>\n",
       "    <tr style=\"text-align: right;\">\n",
       "      <th></th>\n",
       "      <th>0</th>\n",
       "      <th>1</th>\n",
       "      <th>2</th>\n",
       "      <th>3</th>\n",
       "      <th>4</th>\n",
       "      <th>5</th>\n",
       "      <th>6</th>\n",
       "      <th>7</th>\n",
       "      <th>8</th>\n",
       "      <th>9</th>\n",
       "      <th>...</th>\n",
       "      <th>214</th>\n",
       "      <th>215</th>\n",
       "      <th>216</th>\n",
       "      <th>217</th>\n",
       "      <th>218</th>\n",
       "      <th>219</th>\n",
       "      <th>220</th>\n",
       "      <th>221</th>\n",
       "      <th>222</th>\n",
       "      <th>223</th>\n",
       "    </tr>\n",
       "  </thead>\n",
       "  <tbody>\n",
       "    <tr>\n",
       "      <th>count</th>\n",
       "      <td>24255.000000</td>\n",
       "      <td>24255.000000</td>\n",
       "      <td>24255.000000</td>\n",
       "      <td>24255.000000</td>\n",
       "      <td>24255.000000</td>\n",
       "      <td>24255.000000</td>\n",
       "      <td>24255.000000</td>\n",
       "      <td>24255.000000</td>\n",
       "      <td>24255.000000</td>\n",
       "      <td>24255.000000</td>\n",
       "      <td>...</td>\n",
       "      <td>24255.000000</td>\n",
       "      <td>24255.000000</td>\n",
       "      <td>24255.000000</td>\n",
       "      <td>24255.00000</td>\n",
       "      <td>24255.000000</td>\n",
       "      <td>24255.000000</td>\n",
       "      <td>24255.00000</td>\n",
       "      <td>24255.000000</td>\n",
       "      <td>24255.000000</td>\n",
       "      <td>24255.000000</td>\n",
       "    </tr>\n",
       "    <tr>\n",
       "      <th>mean</th>\n",
       "      <td>0.544877</td>\n",
       "      <td>42.252690</td>\n",
       "      <td>30.881103</td>\n",
       "      <td>11.907442</td>\n",
       "      <td>111.901711</td>\n",
       "      <td>83.967223</td>\n",
       "      <td>-794.591878</td>\n",
       "      <td>988.643950</td>\n",
       "      <td>68.913894</td>\n",
       "      <td>314.678490</td>\n",
       "      <td>...</td>\n",
       "      <td>0.479365</td>\n",
       "      <td>0.465512</td>\n",
       "      <td>0.467697</td>\n",
       "      <td>4.07384</td>\n",
       "      <td>0.472727</td>\n",
       "      <td>0.631293</td>\n",
       "      <td>1.03892</td>\n",
       "      <td>2.015584</td>\n",
       "      <td>1.457308</td>\n",
       "      <td>0.910740</td>\n",
       "    </tr>\n",
       "    <tr>\n",
       "      <th>std</th>\n",
       "      <td>0.417736</td>\n",
       "      <td>16.235593</td>\n",
       "      <td>233.709202</td>\n",
       "      <td>445.214702</td>\n",
       "      <td>2310.851869</td>\n",
       "      <td>32.489872</td>\n",
       "      <td>2126.099646</td>\n",
       "      <td>2275.840558</td>\n",
       "      <td>64.170646</td>\n",
       "      <td>475.478471</td>\n",
       "      <td>...</td>\n",
       "      <td>0.619074</td>\n",
       "      <td>0.502279</td>\n",
       "      <td>0.611065</td>\n",
       "      <td>1.83264</td>\n",
       "      <td>0.502640</td>\n",
       "      <td>0.676858</td>\n",
       "      <td>0.74847</td>\n",
       "      <td>2.874868</td>\n",
       "      <td>4.179615</td>\n",
       "      <td>3.663225</td>\n",
       "    </tr>\n",
       "    <tr>\n",
       "      <th>min</th>\n",
       "      <td>0.000000</td>\n",
       "      <td>10.000000</td>\n",
       "      <td>-2162.262500</td>\n",
       "      <td>-11447.000000</td>\n",
       "      <td>-12261.000000</td>\n",
       "      <td>19.000000</td>\n",
       "      <td>-12348.000000</td>\n",
       "      <td>-51.000000</td>\n",
       "      <td>0.000000</td>\n",
       "      <td>7.795716</td>\n",
       "      <td>...</td>\n",
       "      <td>0.000000</td>\n",
       "      <td>0.000000</td>\n",
       "      <td>0.000000</td>\n",
       "      <td>0.00000</td>\n",
       "      <td>0.000000</td>\n",
       "      <td>0.000000</td>\n",
       "      <td>0.00000</td>\n",
       "      <td>0.000000</td>\n",
       "      <td>0.000000</td>\n",
       "      <td>0.000000</td>\n",
       "    </tr>\n",
       "    <tr>\n",
       "      <th>25%</th>\n",
       "      <td>0.000000</td>\n",
       "      <td>31.000000</td>\n",
       "      <td>-60.758665</td>\n",
       "      <td>0.000000</td>\n",
       "      <td>-362.000000</td>\n",
       "      <td>61.000000</td>\n",
       "      <td>-482.000000</td>\n",
       "      <td>67.000000</td>\n",
       "      <td>30.000000</td>\n",
       "      <td>61.336328</td>\n",
       "      <td>...</td>\n",
       "      <td>0.000000</td>\n",
       "      <td>0.000000</td>\n",
       "      <td>0.000000</td>\n",
       "      <td>3.00000</td>\n",
       "      <td>0.000000</td>\n",
       "      <td>0.000000</td>\n",
       "      <td>0.00000</td>\n",
       "      <td>0.000000</td>\n",
       "      <td>0.000000</td>\n",
       "      <td>0.000000</td>\n",
       "    </tr>\n",
       "    <tr>\n",
       "      <th>50%</th>\n",
       "      <td>0.500000</td>\n",
       "      <td>40.000000</td>\n",
       "      <td>24.563636</td>\n",
       "      <td>0.000000</td>\n",
       "      <td>0.000000</td>\n",
       "      <td>79.000000</td>\n",
       "      <td>-75.000000</td>\n",
       "      <td>156.000000</td>\n",
       "      <td>49.000000</td>\n",
       "      <td>145.621548</td>\n",
       "      <td>...</td>\n",
       "      <td>0.000000</td>\n",
       "      <td>0.000000</td>\n",
       "      <td>0.000000</td>\n",
       "      <td>4.00000</td>\n",
       "      <td>0.000000</td>\n",
       "      <td>1.000000</td>\n",
       "      <td>1.00000</td>\n",
       "      <td>1.000000</td>\n",
       "      <td>0.000000</td>\n",
       "      <td>0.000000</td>\n",
       "    </tr>\n",
       "    <tr>\n",
       "      <th>75%</th>\n",
       "      <td>1.000000</td>\n",
       "      <td>51.000000</td>\n",
       "      <td>123.987715</td>\n",
       "      <td>26.000000</td>\n",
       "      <td>546.500000</td>\n",
       "      <td>102.000000</td>\n",
       "      <td>-18.000000</td>\n",
       "      <td>700.000000</td>\n",
       "      <td>84.000000</td>\n",
       "      <td>291.317992</td>\n",
       "      <td>...</td>\n",
       "      <td>1.000000</td>\n",
       "      <td>1.000000</td>\n",
       "      <td>1.000000</td>\n",
       "      <td>5.00000</td>\n",
       "      <td>1.000000</td>\n",
       "      <td>1.000000</td>\n",
       "      <td>2.00000</td>\n",
       "      <td>3.000000</td>\n",
       "      <td>0.000000</td>\n",
       "      <td>0.000000</td>\n",
       "    </tr>\n",
       "    <tr>\n",
       "      <th>max</th>\n",
       "      <td>1.000000</td>\n",
       "      <td>165.000000</td>\n",
       "      <td>2073.289256</td>\n",
       "      <td>11259.000000</td>\n",
       "      <td>12337.000000</td>\n",
       "      <td>329.000000</td>\n",
       "      <td>26.000000</td>\n",
       "      <td>12352.000000</td>\n",
       "      <td>784.000000</td>\n",
       "      <td>3962.575036</td>\n",
       "      <td>...</td>\n",
       "      <td>2.000000</td>\n",
       "      <td>2.000000</td>\n",
       "      <td>2.000000</td>\n",
       "      <td>8.00000</td>\n",
       "      <td>2.000000</td>\n",
       "      <td>2.000000</td>\n",
       "      <td>2.00000</td>\n",
       "      <td>71.000000</td>\n",
       "      <td>35.000000</td>\n",
       "      <td>36.000000</td>\n",
       "    </tr>\n",
       "  </tbody>\n",
       "</table>\n",
       "<p>8 rows × 224 columns</p>\n",
       "</div>"
      ],
      "text/plain": [
       "                  0             1             2             3             4  \\\n",
       "count  24255.000000  24255.000000  24255.000000  24255.000000  24255.000000   \n",
       "mean       0.544877     42.252690     30.881103     11.907442    111.901711   \n",
       "std        0.417736     16.235593    233.709202    445.214702   2310.851869   \n",
       "min        0.000000     10.000000  -2162.262500 -11447.000000 -12261.000000   \n",
       "25%        0.000000     31.000000    -60.758665      0.000000   -362.000000   \n",
       "50%        0.500000     40.000000     24.563636      0.000000      0.000000   \n",
       "75%        1.000000     51.000000    123.987715     26.000000    546.500000   \n",
       "max        1.000000    165.000000   2073.289256  11259.000000  12337.000000   \n",
       "\n",
       "                  5             6             7             8             9  \\\n",
       "count  24255.000000  24255.000000  24255.000000  24255.000000  24255.000000   \n",
       "mean      83.967223   -794.591878    988.643950     68.913894    314.678490   \n",
       "std       32.489872   2126.099646   2275.840558     64.170646    475.478471   \n",
       "min       19.000000 -12348.000000    -51.000000      0.000000      7.795716   \n",
       "25%       61.000000   -482.000000     67.000000     30.000000     61.336328   \n",
       "50%       79.000000    -75.000000    156.000000     49.000000    145.621548   \n",
       "75%      102.000000    -18.000000    700.000000     84.000000    291.317992   \n",
       "max      329.000000     26.000000  12352.000000    784.000000   3962.575036   \n",
       "\n",
       "           ...                214           215           216          217  \\\n",
       "count      ...       24255.000000  24255.000000  24255.000000  24255.00000   \n",
       "mean       ...           0.479365      0.465512      0.467697      4.07384   \n",
       "std        ...           0.619074      0.502279      0.611065      1.83264   \n",
       "min        ...           0.000000      0.000000      0.000000      0.00000   \n",
       "25%        ...           0.000000      0.000000      0.000000      3.00000   \n",
       "50%        ...           0.000000      0.000000      0.000000      4.00000   \n",
       "75%        ...           1.000000      1.000000      1.000000      5.00000   \n",
       "max        ...           2.000000      2.000000      2.000000      8.00000   \n",
       "\n",
       "                218           219          220           221           222  \\\n",
       "count  24255.000000  24255.000000  24255.00000  24255.000000  24255.000000   \n",
       "mean       0.472727      0.631293      1.03892      2.015584      1.457308   \n",
       "std        0.502640      0.676858      0.74847      2.874868      4.179615   \n",
       "min        0.000000      0.000000      0.00000      0.000000      0.000000   \n",
       "25%        0.000000      0.000000      0.00000      0.000000      0.000000   \n",
       "50%        0.000000      1.000000      1.00000      1.000000      0.000000   \n",
       "75%        1.000000      1.000000      2.00000      3.000000      0.000000   \n",
       "max        2.000000      2.000000      2.00000     71.000000     35.000000   \n",
       "\n",
       "                223  \n",
       "count  24255.000000  \n",
       "mean       0.910740  \n",
       "std        3.663225  \n",
       "min        0.000000  \n",
       "25%        0.000000  \n",
       "50%        0.000000  \n",
       "75%        0.000000  \n",
       "max       36.000000  \n",
       "\n",
       "[8 rows x 224 columns]"
      ]
     },
     "execution_count": 3,
     "metadata": {},
     "output_type": "execute_result"
    }
   ],
   "source": [
    "#features=pd.read_csv(r'C:\\Users\\Asus\\PredictingRatings\\data\\features.csv')\n",
    "features=pd.read_csv(r'C:\\Users\\Asus\\PredictingRatings\\data\\features_new.csv')\n",
    "\n",
    "print(features.info())\n",
    "print(features.shape)\n",
    "features.describe()"
   ]
  },
  {
   "cell_type": "code",
   "execution_count": 4,
   "metadata": {},
   "outputs": [
    {
     "name": "stdout",
     "output_type": "stream",
     "text": [
      "Train data size: 16978 instances \n",
      "Test data size: 16978 instances\n",
      "(16978, 224)\n",
      "(16978,)\n",
      "(7277, 224)\n",
      "(7277,)\n"
     ]
    }
   ],
   "source": [
    "X_train, X_test, Y_train, Y_test =ms.train_test_split(features, elos['Class'], test_size = 0.3,random_state=rand_st)\n",
    "print ('Train data size: {} instances \\nTest data size: {} instances'.format(len(X_train), len(Y_train)))\n",
    "print(X_train.shape)\n",
    "print(Y_train.shape)\n",
    "print(X_test.shape)\n",
    "print(Y_test.shape)"
   ]
  },
  {
   "cell_type": "code",
   "execution_count": 5,
   "metadata": {},
   "outputs": [],
   "source": [
    "def find_mean_error(pred,elos):\n",
    "    er=0\n",
    "    count=0\n",
    "    for ind, val in enumerate(pred):\n",
    "        er+=abs(elos.iloc[ind,0]-val[0])\n",
    "        er+=abs(elos.iloc[ind,1]-val[1])\n",
    "        count+=2\n",
    "    return round(er/count,3)\n",
    "\n",
    "def find_abs_error(pred,elos):\n",
    "    er=0\n",
    "    for ind, val in enumerate(pred):\n",
    "        er+=abs(elos.iloc[ind,0]-val[0])\n",
    "        er+=abs(elos.iloc[ind,1]-val[1])\n",
    "    return round(er,3)\n",
    "\n",
    "def find_root_mean_squared_error(pred,elos):\n",
    "    er=0\n",
    "    count=0\n",
    "    for ind, val in enumerate(pred):\n",
    "        er+=(elos.iloc[ind,0]-val[0])**2\n",
    "        er+=(elos.iloc[ind,1]-val[1])**2\n",
    "        count+=2\n",
    "    return round((er/count)**0.5,3)"
   ]
  },
  {
   "cell_type": "code",
   "execution_count": 6,
   "metadata": {},
   "outputs": [],
   "source": [
    "with open(r'C:\\Users\\Asus\\PredictingRatings\\voting_class.pkl', 'rb') as f:\n",
    "    voting_class = pickle.load(f)\n",
    "    \n",
    "class_predictions = voting_class.predict(features)"
   ]
  },
  {
   "cell_type": "code",
   "execution_count": 7,
   "metadata": {},
   "outputs": [
    {
     "data": {
      "text/plain": [
       "0    average\n",
       "1    average\n",
       "2    average\n",
       "3    average\n",
       "4     master\n",
       "dtype: object"
      ]
     },
     "execution_count": 7,
     "metadata": {},
     "output_type": "execute_result"
    }
   ],
   "source": [
    "classes=pd.Series(class_predictions)\n",
    "classes.head()"
   ]
  },
  {
   "cell_type": "markdown",
   "metadata": {},
   "source": [
    "### Подбор модели для новичков"
   ]
  },
  {
   "cell_type": "code",
   "execution_count": 8,
   "metadata": {},
   "outputs": [
    {
     "name": "stdout",
     "output_type": "stream",
     "text": [
      "(6448, 6)\n"
     ]
    },
    {
     "data": {
      "text/html": [
       "<div>\n",
       "<style scoped>\n",
       "    .dataframe tbody tr th:only-of-type {\n",
       "        vertical-align: middle;\n",
       "    }\n",
       "\n",
       "    .dataframe tbody tr th {\n",
       "        vertical-align: top;\n",
       "    }\n",
       "\n",
       "    .dataframe thead th {\n",
       "        text-align: right;\n",
       "    }\n",
       "</style>\n",
       "<table border=\"1\" class=\"dataframe\">\n",
       "  <thead>\n",
       "    <tr style=\"text-align: right;\">\n",
       "      <th></th>\n",
       "      <th>WhiteElo</th>\n",
       "      <th>BlackElo</th>\n",
       "      <th>MeanElos</th>\n",
       "      <th>DiffElos</th>\n",
       "      <th>SumElos</th>\n",
       "      <th>Class</th>\n",
       "    </tr>\n",
       "  </thead>\n",
       "  <tbody>\n",
       "    <tr>\n",
       "      <th>6</th>\n",
       "      <td>1813</td>\n",
       "      <td>1643</td>\n",
       "      <td>1728</td>\n",
       "      <td>170</td>\n",
       "      <td>3456</td>\n",
       "      <td>novice</td>\n",
       "    </tr>\n",
       "    <tr>\n",
       "      <th>14</th>\n",
       "      <td>2406</td>\n",
       "      <td>2147</td>\n",
       "      <td>2276</td>\n",
       "      <td>259</td>\n",
       "      <td>4553</td>\n",
       "      <td>average</td>\n",
       "    </tr>\n",
       "    <tr>\n",
       "      <th>15</th>\n",
       "      <td>2054</td>\n",
       "      <td>2099</td>\n",
       "      <td>2076</td>\n",
       "      <td>-45</td>\n",
       "      <td>4153</td>\n",
       "      <td>novice</td>\n",
       "    </tr>\n",
       "    <tr>\n",
       "      <th>16</th>\n",
       "      <td>2250</td>\n",
       "      <td>2132</td>\n",
       "      <td>2191</td>\n",
       "      <td>118</td>\n",
       "      <td>4382</td>\n",
       "      <td>average</td>\n",
       "    </tr>\n",
       "    <tr>\n",
       "      <th>18</th>\n",
       "      <td>1942</td>\n",
       "      <td>1663</td>\n",
       "      <td>1802</td>\n",
       "      <td>279</td>\n",
       "      <td>3605</td>\n",
       "      <td>novice</td>\n",
       "    </tr>\n",
       "  </tbody>\n",
       "</table>\n",
       "</div>"
      ],
      "text/plain": [
       "    WhiteElo  BlackElo  MeanElos  DiffElos  SumElos    Class\n",
       "6       1813      1643      1728       170     3456   novice\n",
       "14      2406      2147      2276       259     4553  average\n",
       "15      2054      2099      2076       -45     4153   novice\n",
       "16      2250      2132      2191       118     4382  average\n",
       "18      1942      1663      1802       279     3605   novice"
      ]
     },
     "execution_count": 8,
     "metadata": {},
     "output_type": "execute_result"
    }
   ],
   "source": [
    "class_novice=classes[classes=='novice']\n",
    "elos_novice=elos[elos.index.isin(class_novice.index)]\n",
    "print(elos_novice.shape)\n",
    "elos_novice.head()"
   ]
  },
  {
   "cell_type": "code",
   "execution_count": 9,
   "metadata": {},
   "outputs": [
    {
     "name": "stdout",
     "output_type": "stream",
     "text": [
      "(6448, 224)\n"
     ]
    },
    {
     "data": {
      "text/html": [
       "<div>\n",
       "<style scoped>\n",
       "    .dataframe tbody tr th:only-of-type {\n",
       "        vertical-align: middle;\n",
       "    }\n",
       "\n",
       "    .dataframe tbody tr th {\n",
       "        vertical-align: top;\n",
       "    }\n",
       "\n",
       "    .dataframe thead th {\n",
       "        text-align: right;\n",
       "    }\n",
       "</style>\n",
       "<table border=\"1\" class=\"dataframe\">\n",
       "  <thead>\n",
       "    <tr style=\"text-align: right;\">\n",
       "      <th></th>\n",
       "      <th>0</th>\n",
       "      <th>1</th>\n",
       "      <th>2</th>\n",
       "      <th>3</th>\n",
       "      <th>4</th>\n",
       "      <th>5</th>\n",
       "      <th>6</th>\n",
       "      <th>7</th>\n",
       "      <th>8</th>\n",
       "      <th>9</th>\n",
       "      <th>...</th>\n",
       "      <th>214</th>\n",
       "      <th>215</th>\n",
       "      <th>216</th>\n",
       "      <th>217</th>\n",
       "      <th>218</th>\n",
       "      <th>219</th>\n",
       "      <th>220</th>\n",
       "      <th>221</th>\n",
       "      <th>222</th>\n",
       "      <th>223</th>\n",
       "    </tr>\n",
       "  </thead>\n",
       "  <tbody>\n",
       "    <tr>\n",
       "      <th>6</th>\n",
       "      <td>0.5</td>\n",
       "      <td>64.0</td>\n",
       "      <td>-1081.496063</td>\n",
       "      <td>0.0</td>\n",
       "      <td>0.0</td>\n",
       "      <td>127.0</td>\n",
       "      <td>-10293.0</td>\n",
       "      <td>64.0</td>\n",
       "      <td>100.0</td>\n",
       "      <td>2132.508389</td>\n",
       "      <td>...</td>\n",
       "      <td>0.0</td>\n",
       "      <td>0.0</td>\n",
       "      <td>0.0</td>\n",
       "      <td>0.0</td>\n",
       "      <td>0.0</td>\n",
       "      <td>0.0</td>\n",
       "      <td>0.0</td>\n",
       "      <td>9.0</td>\n",
       "      <td>12.0</td>\n",
       "      <td>0.0</td>\n",
       "    </tr>\n",
       "    <tr>\n",
       "      <th>14</th>\n",
       "      <td>0.5</td>\n",
       "      <td>36.0</td>\n",
       "      <td>30.041667</td>\n",
       "      <td>0.0</td>\n",
       "      <td>0.0</td>\n",
       "      <td>72.0</td>\n",
       "      <td>-23.0</td>\n",
       "      <td>81.0</td>\n",
       "      <td>32.0</td>\n",
       "      <td>23.075623</td>\n",
       "      <td>...</td>\n",
       "      <td>0.0</td>\n",
       "      <td>0.0</td>\n",
       "      <td>0.0</td>\n",
       "      <td>5.0</td>\n",
       "      <td>0.0</td>\n",
       "      <td>1.0</td>\n",
       "      <td>1.0</td>\n",
       "      <td>0.0</td>\n",
       "      <td>0.0</td>\n",
       "      <td>0.0</td>\n",
       "    </tr>\n",
       "    <tr>\n",
       "      <th>15</th>\n",
       "      <td>1.0</td>\n",
       "      <td>32.0</td>\n",
       "      <td>318.317460</td>\n",
       "      <td>1.0</td>\n",
       "      <td>730.0</td>\n",
       "      <td>63.0</td>\n",
       "      <td>-59.0</td>\n",
       "      <td>751.0</td>\n",
       "      <td>417.0</td>\n",
       "      <td>282.440488</td>\n",
       "      <td>...</td>\n",
       "      <td>1.0</td>\n",
       "      <td>1.0</td>\n",
       "      <td>1.0</td>\n",
       "      <td>5.0</td>\n",
       "      <td>1.0</td>\n",
       "      <td>1.0</td>\n",
       "      <td>2.0</td>\n",
       "      <td>0.0</td>\n",
       "      <td>0.0</td>\n",
       "      <td>0.0</td>\n",
       "    </tr>\n",
       "    <tr>\n",
       "      <th>16</th>\n",
       "      <td>0.0</td>\n",
       "      <td>88.0</td>\n",
       "      <td>-289.965909</td>\n",
       "      <td>-169.0</td>\n",
       "      <td>-5003.0</td>\n",
       "      <td>176.0</td>\n",
       "      <td>-5227.0</td>\n",
       "      <td>385.0</td>\n",
       "      <td>163.5</td>\n",
       "      <td>771.440888</td>\n",
       "      <td>...</td>\n",
       "      <td>0.0</td>\n",
       "      <td>0.0</td>\n",
       "      <td>0.0</td>\n",
       "      <td>1.0</td>\n",
       "      <td>0.0</td>\n",
       "      <td>1.0</td>\n",
       "      <td>0.0</td>\n",
       "      <td>6.0</td>\n",
       "      <td>0.0</td>\n",
       "      <td>0.0</td>\n",
       "    </tr>\n",
       "    <tr>\n",
       "      <th>18</th>\n",
       "      <td>0.0</td>\n",
       "      <td>40.0</td>\n",
       "      <td>-127.153846</td>\n",
       "      <td>-1137.0</td>\n",
       "      <td>-1136.0</td>\n",
       "      <td>80.0</td>\n",
       "      <td>-1137.0</td>\n",
       "      <td>65.0</td>\n",
       "      <td>48.5</td>\n",
       "      <td>312.097539</td>\n",
       "      <td>...</td>\n",
       "      <td>0.0</td>\n",
       "      <td>1.0</td>\n",
       "      <td>0.0</td>\n",
       "      <td>6.0</td>\n",
       "      <td>1.0</td>\n",
       "      <td>1.0</td>\n",
       "      <td>0.0</td>\n",
       "      <td>6.0</td>\n",
       "      <td>0.0</td>\n",
       "      <td>0.0</td>\n",
       "    </tr>\n",
       "  </tbody>\n",
       "</table>\n",
       "<p>5 rows × 224 columns</p>\n",
       "</div>"
      ],
      "text/plain": [
       "      0     1            2       3       4      5        6      7      8  \\\n",
       "6   0.5  64.0 -1081.496063     0.0     0.0  127.0 -10293.0   64.0  100.0   \n",
       "14  0.5  36.0    30.041667     0.0     0.0   72.0    -23.0   81.0   32.0   \n",
       "15  1.0  32.0   318.317460     1.0   730.0   63.0    -59.0  751.0  417.0   \n",
       "16  0.0  88.0  -289.965909  -169.0 -5003.0  176.0  -5227.0  385.0  163.5   \n",
       "18  0.0  40.0  -127.153846 -1137.0 -1136.0   80.0  -1137.0   65.0   48.5   \n",
       "\n",
       "              9 ...   214  215  216  217  218  219  220  221   222  223  \n",
       "6   2132.508389 ...   0.0  0.0  0.0  0.0  0.0  0.0  0.0  9.0  12.0  0.0  \n",
       "14    23.075623 ...   0.0  0.0  0.0  5.0  0.0  1.0  1.0  0.0   0.0  0.0  \n",
       "15   282.440488 ...   1.0  1.0  1.0  5.0  1.0  1.0  2.0  0.0   0.0  0.0  \n",
       "16   771.440888 ...   0.0  0.0  0.0  1.0  0.0  1.0  0.0  6.0   0.0  0.0  \n",
       "18   312.097539 ...   0.0  1.0  0.0  6.0  1.0  1.0  0.0  6.0   0.0  0.0  \n",
       "\n",
       "[5 rows x 224 columns]"
      ]
     },
     "execution_count": 9,
     "metadata": {},
     "output_type": "execute_result"
    }
   ],
   "source": [
    "features_novice=features[features.index.isin(class_novice.index)]\n",
    "print(features_novice.shape)\n",
    "features_novice.head()"
   ]
  },
  {
   "cell_type": "code",
   "execution_count": 10,
   "metadata": {},
   "outputs": [],
   "source": [
    "target_white_novice=elos_novice['WhiteElo']\n",
    "target_black_novice=elos_novice['BlackElo']\n",
    "target_mean_novice=elos_novice['MeanElos']\n",
    "target_diff_novice=elos_novice['DiffElos']\n",
    "target_sum_novice=elos_novice['SumElos']"
   ]
  },
  {
   "cell_type": "code",
   "execution_count": 11,
   "metadata": {},
   "outputs": [],
   "source": [
    "elos_novice.to_csv(r'C:\\Users\\Asus\\PredictingRatings\\data\\elos_novice.csv', sep=',',index=False)\n",
    "features_novice.to_csv(r'C:\\Users\\Asus\\PredictingRatings\\data\\features_novice.csv', sep=',',index=False)"
   ]
  },
  {
   "cell_type": "markdown",
   "metadata": {},
   "source": [
    "#### baseline"
   ]
  },
  {
   "cell_type": "code",
   "execution_count": 12,
   "metadata": {},
   "outputs": [
    {
     "name": "stdout",
     "output_type": "stream",
     "text": [
      "0.104 c\n"
     ]
    }
   ],
   "source": [
    "start1 = time.time()\n",
    "lr_mean_novice= LinearRegression()\n",
    "lr_mean_novice.fit(features_novice, target_mean_novice)\n",
    "lr_mean_pred_novice = lr_mean_novice.predict(features_novice)\n",
    "full_time1=round(time.time() - start1,3)\n",
    "print(full_time1, 'c')"
   ]
  },
  {
   "cell_type": "code",
   "execution_count": 13,
   "metadata": {},
   "outputs": [
    {
     "data": {
      "image/png": "[encoded data removed]",
      "text/plain": [
       "<matplotlib.figure.Figure at 0x227bda5bf60>"
      ]
     },
     "metadata": {},
     "output_type": "display_data"
    }
   ],
   "source": [
    "plt.figure(figsize=(8, 8))\n",
    "plt.scatter(lr_mean_pred_novice,target_mean_novice, color = 'b',alpha=0.5)\n",
    "plt.xlabel('Модель LR для новичков - predictions')\n",
    "plt.ylabel('Средний рейтинг (target)')\n",
    "# Линия тренда\n",
    "z = np.polyfit(lr_mean_pred_novice,target_mean_novice, 1)\n",
    "p = np.poly1d(z)\n",
    "plt.plot(lr_mean_pred_novice,p(lr_mean_pred_novice),\"r\")\n",
    "plt.show()"
   ]
  },
  {
   "cell_type": "code",
   "execution_count": 14,
   "metadata": {},
   "outputs": [
    {
     "name": "stdout",
     "output_type": "stream",
     "text": [
      "MAE = 185.454\n",
      "RMSE = 232.791\n",
      "Correlation coefficient = 0.272\n"
     ]
    }
   ],
   "source": [
    "mae1=mae(target_mean_novice,lr_mean_pred_novice)\n",
    "print ('MAE = {:.3f}'.format(mae1))\n",
    "rmse1 = (mse(target_mean_novice, lr_mean_pred_novice))**0.5\n",
    "print ('RMSE = {:.3f}'.format(rmse1))\n",
    "corr_coef1 = pearsonr(target_mean_novice, lr_mean_pred_novice)\n",
    "print(\"Correlation coefficient = {:.3f}\".format(corr_coef1[0]))"
   ]
  },
  {
   "cell_type": "code",
   "execution_count": 15,
   "metadata": {},
   "outputs": [],
   "source": [
    "output = pd.DataFrame([[str(lr_mean_novice), mae1,rmse1, corr_coef1[0],full_time1,'Обучение на среднем ЭЛО по начинающим']],\n",
    "                   columns=['Модель', 'MAE','RMSE','Коэффициент корр. Пирсона', 'Время работы (c)', 'Комментарий'])\n",
    "\n",
    "output.to_excel(r'C:\\Users\\Asus\\PredictingRatings\\models\\class_results.xlsx',index=False)"
   ]
  },
  {
   "cell_type": "code",
   "execution_count": 16,
   "metadata": {},
   "outputs": [
    {
     "name": "stdout",
     "output_type": "stream",
     "text": [
      "0.117 c\n"
     ]
    }
   ],
   "source": [
    "start2 = time.time()\n",
    "lr_diff_novice= LinearRegression()\n",
    "lr_diff_novice.fit(features_novice, target_diff_novice)\n",
    "lr_diff_pred_novice = lr_diff_novice.predict(features_novice)\n",
    "full_time2=round(time.time() - start2,3)\n",
    "print(full_time2, 'c')"
   ]
  },
  {
   "cell_type": "code",
   "execution_count": 17,
   "metadata": {},
   "outputs": [
    {
     "data": {
      "image/png": "[encoded data removed]",
      "text/plain": [
       "<matplotlib.figure.Figure at 0x227bcde4240>"
      ]
     },
     "metadata": {},
     "output_type": "display_data"
    }
   ],
   "source": [
    "plt.figure(figsize=(8, 8))\n",
    "plt.scatter(lr_diff_pred_novice,target_diff_novice, color = 'b',alpha=0.5)\n",
    "plt.xlabel('Модель LR для новичков - predictions')\n",
    "plt.ylabel('Разница в рейтинге (target)')\n",
    "# Линия тренда\n",
    "z = np.polyfit(lr_diff_pred_novice,target_diff_novice, 1)\n",
    "p = np.poly1d(z)\n",
    "plt.plot(lr_diff_pred_novice,p(lr_diff_pred_novice),\"r\")\n",
    "plt.show()"
   ]
  },
  {
   "cell_type": "code",
   "execution_count": 18,
   "metadata": {},
   "outputs": [
    {
     "name": "stdout",
     "output_type": "stream",
     "text": [
      "MAE = 167.848\n",
      "RMSE = 213.397\n",
      "Correlation coefficient = 0.604\n"
     ]
    }
   ],
   "source": [
    "mae2=mae(target_diff_novice,lr_diff_pred_novice)\n",
    "print ('MAE = {:.3f}'.format(mae2))\n",
    "rmse2 = (mse(target_diff_novice, lr_diff_pred_novice))**0.5\n",
    "print ('RMSE = {:.3f}'.format(rmse2))\n",
    "corr_coef2 = pearsonr(target_diff_novice, lr_diff_pred_novice)\n",
    "print(\"Correlation coefficient = {:.3f}\".format(corr_coef2[0]))"
   ]
  },
  {
   "cell_type": "code",
   "execution_count": 19,
   "metadata": {},
   "outputs": [
    {
     "data": {
      "text/html": [
       "<div>\n",
       "<style scoped>\n",
       "    .dataframe tbody tr th:only-of-type {\n",
       "        vertical-align: middle;\n",
       "    }\n",
       "\n",
       "    .dataframe tbody tr th {\n",
       "        vertical-align: top;\n",
       "    }\n",
       "\n",
       "    .dataframe thead th {\n",
       "        text-align: right;\n",
       "    }\n",
       "</style>\n",
       "<table border=\"1\" class=\"dataframe\">\n",
       "  <thead>\n",
       "    <tr style=\"text-align: right;\">\n",
       "      <th></th>\n",
       "      <th>Модель</th>\n",
       "      <th>MAE</th>\n",
       "      <th>RMSE</th>\n",
       "      <th>Коэффициент корр. Пирсона</th>\n",
       "      <th>Время работы (c)</th>\n",
       "      <th>Комментарий</th>\n",
       "    </tr>\n",
       "  </thead>\n",
       "  <tbody>\n",
       "    <tr>\n",
       "      <th>0</th>\n",
       "      <td>LinearRegression(copy_X=True, fit_intercept=Tr...</td>\n",
       "      <td>185.454373</td>\n",
       "      <td>232.791414</td>\n",
       "      <td>0.272042</td>\n",
       "      <td>0.104</td>\n",
       "      <td>Обучение на среднем ЭЛО по начинающим</td>\n",
       "    </tr>\n",
       "    <tr>\n",
       "      <th>1</th>\n",
       "      <td>LinearRegression(copy_X=True, fit_intercept=Tr...</td>\n",
       "      <td>167.847740</td>\n",
       "      <td>213.396908</td>\n",
       "      <td>0.604164</td>\n",
       "      <td>0.117</td>\n",
       "      <td>Обучение на разнице ЭЛО по начинающим</td>\n",
       "    </tr>\n",
       "  </tbody>\n",
       "</table>\n",
       "</div>"
      ],
      "text/plain": [
       "                                              Модель         MAE        RMSE  \\\n",
       "0  LinearRegression(copy_X=True, fit_intercept=Tr...  185.454373  232.791414   \n",
       "1  LinearRegression(copy_X=True, fit_intercept=Tr...  167.847740  213.396908   \n",
       "\n",
       "   Коэффициент корр. Пирсона  Время работы (c)  \\\n",
       "0                   0.272042             0.104   \n",
       "1                   0.604164             0.117   \n",
       "\n",
       "                             Комментарий  \n",
       "0  Обучение на среднем ЭЛО по начинающим  \n",
       "1  Обучение на разнице ЭЛО по начинающим  "
      ]
     },
     "execution_count": 19,
     "metadata": {},
     "output_type": "execute_result"
    }
   ],
   "source": [
    "output = output.append(pd.Series([str(lr_diff_novice), mae2,rmse2, \n",
    "                                  corr_coef2[0],full_time2,'Обучение на разнице ЭЛО по начинающим'],\n",
    "                                 index=output.columns ),\n",
    "                      ignore_index=True)\n",
    "\n",
    "output"
   ]
  },
  {
   "cell_type": "code",
   "execution_count": 21,
   "metadata": {},
   "outputs": [],
   "source": [
    "output.to_excel(r'C:\\Users\\Asus\\PredictingRatings\\models\\class_results.xlsx',index=False)"
   ]
  },
  {
   "cell_type": "code",
   "execution_count": 22,
   "metadata": {
    "scrolled": true
   },
   "outputs": [
    {
     "name": "stdout",
     "output_type": "stream",
     "text": [
      "6448\n"
     ]
    },
    {
     "data": {
      "text/plain": [
       "[(2139.804307234145, 2056.396694537587),\n",
       " (2061.9392054150176, 2032.95193318807),\n",
       " (2036.1493573687756, 1906.943161900527),\n",
       " (2024.9612829780003, 2146.7595824710593),\n",
       " (1976.3031218296032, 2097.902032124966)]"
      ]
     },
     "execution_count": 22,
     "metadata": {},
     "output_type": "execute_result"
    }
   ],
   "source": [
    "white_elos_novice = lr_mean_pred_novice + lr_diff_pred_novice/2\n",
    "black_elos_novice = lr_mean_pred_novice-lr_diff_pred_novice/2\n",
    "pred_elos1=list(zip(white_elos_novice,black_elos_novice))\n",
    "print(len(pred_elos1))\n",
    "pred_elos1[:5]"
   ]
  },
  {
   "cell_type": "code",
   "execution_count": 23,
   "metadata": {},
   "outputs": [
    {
     "data": {
      "text/plain": [
       "(2636123.624, 204.414, 256.08)"
      ]
     },
     "execution_count": 23,
     "metadata": {},
     "output_type": "execute_result"
    }
   ],
   "source": [
    "find_abs_error(pred_elos1,elos_novice),find_mean_error(pred_elos1,elos_novice),find_root_mean_squared_error(pred_elos1,elos_novice)"
   ]
  },
  {
   "cell_type": "code",
   "execution_count": 24,
   "metadata": {},
   "outputs": [],
   "source": [
    "inner_mae_novice=find_mean_error(pred_elos1,elos_novice)"
   ]
  },
  {
   "cell_type": "code",
   "execution_count": 25,
   "metadata": {},
   "outputs": [],
   "source": [
    "errors = pd.DataFrame([['Слабые игроки','LinearRegression',\n",
    "                  find_abs_error(pred_elos1,elos_novice),\n",
    "                  find_mean_error(pred_elos1,elos_novice),\n",
    "                   find_root_mean_squared_error(pred_elos1,elos_novice) ]],\n",
    "                   columns=['Группа','Модель','Абсолютная ошибка', 'MAE','RMSE'])"
   ]
  },
  {
   "cell_type": "code",
   "execution_count": 26,
   "metadata": {},
   "outputs": [],
   "source": [
    "errors.to_excel(r'C:\\Users\\Asus\\PredictingRatings\\models\\class_errors.xlsx',index=False)"
   ]
  },
  {
   "cell_type": "markdown",
   "metadata": {},
   "source": [
    "### Подбор модели для среднего уровня"
   ]
  },
  {
   "cell_type": "code",
   "execution_count": 27,
   "metadata": {},
   "outputs": [
    {
     "name": "stdout",
     "output_type": "stream",
     "text": [
      "(7082, 6)\n"
     ]
    },
    {
     "data": {
      "text/html": [
       "<div>\n",
       "<style scoped>\n",
       "    .dataframe tbody tr th:only-of-type {\n",
       "        vertical-align: middle;\n",
       "    }\n",
       "\n",
       "    .dataframe tbody tr th {\n",
       "        vertical-align: top;\n",
       "    }\n",
       "\n",
       "    .dataframe thead th {\n",
       "        text-align: right;\n",
       "    }\n",
       "</style>\n",
       "<table border=\"1\" class=\"dataframe\">\n",
       "  <thead>\n",
       "    <tr style=\"text-align: right;\">\n",
       "      <th></th>\n",
       "      <th>WhiteElo</th>\n",
       "      <th>BlackElo</th>\n",
       "      <th>MeanElos</th>\n",
       "      <th>DiffElos</th>\n",
       "      <th>SumElos</th>\n",
       "      <th>Class</th>\n",
       "    </tr>\n",
       "  </thead>\n",
       "  <tbody>\n",
       "    <tr>\n",
       "      <th>0</th>\n",
       "      <td>2354</td>\n",
       "      <td>2411</td>\n",
       "      <td>2382</td>\n",
       "      <td>-57</td>\n",
       "      <td>4765</td>\n",
       "      <td>master</td>\n",
       "    </tr>\n",
       "    <tr>\n",
       "      <th>1</th>\n",
       "      <td>1915</td>\n",
       "      <td>1999</td>\n",
       "      <td>1957</td>\n",
       "      <td>-84</td>\n",
       "      <td>3914</td>\n",
       "      <td>novice</td>\n",
       "    </tr>\n",
       "    <tr>\n",
       "      <th>2</th>\n",
       "      <td>2446</td>\n",
       "      <td>2191</td>\n",
       "      <td>2318</td>\n",
       "      <td>255</td>\n",
       "      <td>4637</td>\n",
       "      <td>master</td>\n",
       "    </tr>\n",
       "    <tr>\n",
       "      <th>3</th>\n",
       "      <td>2168</td>\n",
       "      <td>2075</td>\n",
       "      <td>2121</td>\n",
       "      <td>93</td>\n",
       "      <td>4243</td>\n",
       "      <td>average</td>\n",
       "    </tr>\n",
       "    <tr>\n",
       "      <th>9</th>\n",
       "      <td>2306</td>\n",
       "      <td>2093</td>\n",
       "      <td>2199</td>\n",
       "      <td>213</td>\n",
       "      <td>4399</td>\n",
       "      <td>average</td>\n",
       "    </tr>\n",
       "  </tbody>\n",
       "</table>\n",
       "</div>"
      ],
      "text/plain": [
       "   WhiteElo  BlackElo  MeanElos  DiffElos  SumElos    Class\n",
       "0      2354      2411      2382       -57     4765   master\n",
       "1      1915      1999      1957       -84     3914   novice\n",
       "2      2446      2191      2318       255     4637   master\n",
       "3      2168      2075      2121        93     4243  average\n",
       "9      2306      2093      2199       213     4399  average"
      ]
     },
     "execution_count": 27,
     "metadata": {},
     "output_type": "execute_result"
    }
   ],
   "source": [
    "class_avg=classes[classes=='average']\n",
    "elos_avg=elos[elos.index.isin(class_avg.index)]\n",
    "print(elos_avg.shape)\n",
    "elos_avg.head()"
   ]
  },
  {
   "cell_type": "code",
   "execution_count": 28,
   "metadata": {},
   "outputs": [
    {
     "name": "stdout",
     "output_type": "stream",
     "text": [
      "(7082, 224)\n"
     ]
    },
    {
     "data": {
      "text/html": [
       "<div>\n",
       "<style scoped>\n",
       "    .dataframe tbody tr th:only-of-type {\n",
       "        vertical-align: middle;\n",
       "    }\n",
       "\n",
       "    .dataframe tbody tr th {\n",
       "        vertical-align: top;\n",
       "    }\n",
       "\n",
       "    .dataframe thead th {\n",
       "        text-align: right;\n",
       "    }\n",
       "</style>\n",
       "<table border=\"1\" class=\"dataframe\">\n",
       "  <thead>\n",
       "    <tr style=\"text-align: right;\">\n",
       "      <th></th>\n",
       "      <th>0</th>\n",
       "      <th>1</th>\n",
       "      <th>2</th>\n",
       "      <th>3</th>\n",
       "      <th>4</th>\n",
       "      <th>5</th>\n",
       "      <th>6</th>\n",
       "      <th>7</th>\n",
       "      <th>8</th>\n",
       "      <th>9</th>\n",
       "      <th>...</th>\n",
       "      <th>214</th>\n",
       "      <th>215</th>\n",
       "      <th>216</th>\n",
       "      <th>217</th>\n",
       "      <th>218</th>\n",
       "      <th>219</th>\n",
       "      <th>220</th>\n",
       "      <th>221</th>\n",
       "      <th>222</th>\n",
       "      <th>223</th>\n",
       "    </tr>\n",
       "  </thead>\n",
       "  <tbody>\n",
       "    <tr>\n",
       "      <th>0</th>\n",
       "      <td>0.5</td>\n",
       "      <td>19.0</td>\n",
       "      <td>23.947368</td>\n",
       "      <td>3.0</td>\n",
       "      <td>54.0</td>\n",
       "      <td>38.0</td>\n",
       "      <td>-26.0</td>\n",
       "      <td>73.0</td>\n",
       "      <td>20.5</td>\n",
       "      <td>26.431587</td>\n",
       "      <td>...</td>\n",
       "      <td>1.0</td>\n",
       "      <td>1.0</td>\n",
       "      <td>1.0</td>\n",
       "      <td>6.0</td>\n",
       "      <td>1.0</td>\n",
       "      <td>1.0</td>\n",
       "      <td>2.0</td>\n",
       "      <td>0.0</td>\n",
       "      <td>0.0</td>\n",
       "      <td>0.0</td>\n",
       "    </tr>\n",
       "    <tr>\n",
       "      <th>1</th>\n",
       "      <td>0.0</td>\n",
       "      <td>53.0</td>\n",
       "      <td>-692.198113</td>\n",
       "      <td>18.0</td>\n",
       "      <td>-11544.0</td>\n",
       "      <td>106.0</td>\n",
       "      <td>-11544.0</td>\n",
       "      <td>93.0</td>\n",
       "      <td>63.0</td>\n",
       "      <td>2286.131735</td>\n",
       "      <td>...</td>\n",
       "      <td>0.0</td>\n",
       "      <td>0.0</td>\n",
       "      <td>0.0</td>\n",
       "      <td>2.0</td>\n",
       "      <td>0.0</td>\n",
       "      <td>0.0</td>\n",
       "      <td>1.0</td>\n",
       "      <td>4.0</td>\n",
       "      <td>0.0</td>\n",
       "      <td>0.0</td>\n",
       "    </tr>\n",
       "    <tr>\n",
       "      <th>2</th>\n",
       "      <td>1.0</td>\n",
       "      <td>39.0</td>\n",
       "      <td>49.246753</td>\n",
       "      <td>31.0</td>\n",
       "      <td>196.0</td>\n",
       "      <td>77.0</td>\n",
       "      <td>-30.0</td>\n",
       "      <td>198.0</td>\n",
       "      <td>37.0</td>\n",
       "      <td>51.525093</td>\n",
       "      <td>...</td>\n",
       "      <td>0.0</td>\n",
       "      <td>0.0</td>\n",
       "      <td>1.0</td>\n",
       "      <td>4.0</td>\n",
       "      <td>0.0</td>\n",
       "      <td>0.0</td>\n",
       "      <td>1.0</td>\n",
       "      <td>1.0</td>\n",
       "      <td>0.0</td>\n",
       "      <td>0.0</td>\n",
       "    </tr>\n",
       "    <tr>\n",
       "      <th>3</th>\n",
       "      <td>1.0</td>\n",
       "      <td>25.0</td>\n",
       "      <td>306.040816</td>\n",
       "      <td>18.0</td>\n",
       "      <td>875.0</td>\n",
       "      <td>49.0</td>\n",
       "      <td>10.0</td>\n",
       "      <td>917.0</td>\n",
       "      <td>142.0</td>\n",
       "      <td>313.263595</td>\n",
       "      <td>...</td>\n",
       "      <td>1.0</td>\n",
       "      <td>1.0</td>\n",
       "      <td>1.0</td>\n",
       "      <td>4.0</td>\n",
       "      <td>1.0</td>\n",
       "      <td>2.0</td>\n",
       "      <td>2.0</td>\n",
       "      <td>0.0</td>\n",
       "      <td>0.0</td>\n",
       "      <td>0.0</td>\n",
       "    </tr>\n",
       "    <tr>\n",
       "      <th>9</th>\n",
       "      <td>1.0</td>\n",
       "      <td>38.0</td>\n",
       "      <td>253.746667</td>\n",
       "      <td>39.0</td>\n",
       "      <td>1240.0</td>\n",
       "      <td>75.0</td>\n",
       "      <td>15.0</td>\n",
       "      <td>1581.0</td>\n",
       "      <td>65.0</td>\n",
       "      <td>345.365356</td>\n",
       "      <td>...</td>\n",
       "      <td>0.0</td>\n",
       "      <td>0.0</td>\n",
       "      <td>1.0</td>\n",
       "      <td>6.0</td>\n",
       "      <td>0.0</td>\n",
       "      <td>0.0</td>\n",
       "      <td>2.0</td>\n",
       "      <td>3.0</td>\n",
       "      <td>0.0</td>\n",
       "      <td>0.0</td>\n",
       "    </tr>\n",
       "  </tbody>\n",
       "</table>\n",
       "<p>5 rows × 224 columns</p>\n",
       "</div>"
      ],
      "text/plain": [
       "     0     1           2     3        4      5        6       7      8  \\\n",
       "0  0.5  19.0   23.947368   3.0     54.0   38.0    -26.0    73.0   20.5   \n",
       "1  0.0  53.0 -692.198113  18.0 -11544.0  106.0 -11544.0    93.0   63.0   \n",
       "2  1.0  39.0   49.246753  31.0    196.0   77.0    -30.0   198.0   37.0   \n",
       "3  1.0  25.0  306.040816  18.0    875.0   49.0     10.0   917.0  142.0   \n",
       "9  1.0  38.0  253.746667  39.0   1240.0   75.0     15.0  1581.0   65.0   \n",
       "\n",
       "             9 ...   214  215  216  217  218  219  220  221  222  223  \n",
       "0    26.431587 ...   1.0  1.0  1.0  6.0  1.0  1.0  2.0  0.0  0.0  0.0  \n",
       "1  2286.131735 ...   0.0  0.0  0.0  2.0  0.0  0.0  1.0  4.0  0.0  0.0  \n",
       "2    51.525093 ...   0.0  0.0  1.0  4.0  0.0  0.0  1.0  1.0  0.0  0.0  \n",
       "3   313.263595 ...   1.0  1.0  1.0  4.0  1.0  2.0  2.0  0.0  0.0  0.0  \n",
       "9   345.365356 ...   0.0  0.0  1.0  6.0  0.0  0.0  2.0  3.0  0.0  0.0  \n",
       "\n",
       "[5 rows x 224 columns]"
      ]
     },
     "execution_count": 28,
     "metadata": {},
     "output_type": "execute_result"
    }
   ],
   "source": [
    "features_avg=features[features.index.isin(class_avg.index)]\n",
    "print(features_avg.shape)\n",
    "features_avg.head()"
   ]
  },
  {
   "cell_type": "code",
   "execution_count": 29,
   "metadata": {},
   "outputs": [],
   "source": [
    "target_white_avg=elos_avg['WhiteElo']\n",
    "target_black_avg=elos_avg['BlackElo']\n",
    "target_mean_avg=elos_avg['MeanElos']\n",
    "target_diff_avg=elos_avg['DiffElos']\n",
    "target_sum_avg=elos_avg['SumElos']"
   ]
  },
  {
   "cell_type": "code",
   "execution_count": 30,
   "metadata": {},
   "outputs": [],
   "source": [
    "elos_avg.to_csv(r'C:\\Users\\Asus\\PredictingRatings\\data\\elos_avg.csv', sep=',',index=False)\n",
    "features_avg.to_csv(r'C:\\Users\\Asus\\PredictingRatings\\data\\features_avg.csv', sep=',',index=False)"
   ]
  },
  {
   "cell_type": "markdown",
   "metadata": {},
   "source": [
    "#### baseline"
   ]
  },
  {
   "cell_type": "code",
   "execution_count": 31,
   "metadata": {},
   "outputs": [
    {
     "name": "stdout",
     "output_type": "stream",
     "text": [
      "0.104 c\n"
     ]
    }
   ],
   "source": [
    "start3 = time.time()\n",
    "lr_mean_avg= LinearRegression()\n",
    "lr_mean_avg.fit(features_avg, target_mean_avg)\n",
    "lr_mean_pred_avg = lr_mean_avg.predict(features_avg)\n",
    "full_time3=round(time.time() - start3,3)\n",
    "print(full_time3, 'c')"
   ]
  },
  {
   "cell_type": "code",
   "execution_count": 32,
   "metadata": {},
   "outputs": [
    {
     "data": {
      "image/png": "[encoded data removed]",
      "text/plain": [
       "<matplotlib.figure.Figure at 0x227bce37470>"
      ]
     },
     "metadata": {},
     "output_type": "display_data"
    }
   ],
   "source": [
    "plt.figure(figsize=(8, 8))\n",
    "plt.scatter(lr_mean_pred_avg,target_mean_avg, color = 'b',alpha=0.5)\n",
    "plt.xlabel('Модель LR для средних игроков - predictions')\n",
    "plt.ylabel('Средний рейтинг (target)')\n",
    "# Линия тренда\n",
    "z = np.polyfit(lr_mean_pred_avg,target_mean_avg, 1)\n",
    "p = np.poly1d(z)\n",
    "plt.plot(lr_mean_pred_avg,p(lr_mean_pred_avg),\"r\")\n",
    "plt.show()"
   ]
  },
  {
   "cell_type": "code",
   "execution_count": 33,
   "metadata": {},
   "outputs": [
    {
     "name": "stdout",
     "output_type": "stream",
     "text": [
      "MAE = 148.775\n",
      "RMSE = 195.120\n",
      "Correlation coefficient = 0.196\n"
     ]
    }
   ],
   "source": [
    "mae4=mae(target_mean_avg,lr_mean_pred_avg)\n",
    "print ('MAE = {:.3f}'.format(mae4))\n",
    "rmse4 = (mse(target_mean_avg, lr_mean_pred_avg))**0.5\n",
    "print ('RMSE = {:.3f}'.format(rmse4))\n",
    "corr_coef4 = pearsonr(target_mean_avg, lr_mean_pred_avg)\n",
    "print(\"Correlation coefficient = {:.3f}\".format(corr_coef4[0]))"
   ]
  },
  {
   "cell_type": "code",
   "execution_count": 34,
   "metadata": {},
   "outputs": [
    {
     "data": {
      "text/html": [
       "<div>\n",
       "<style scoped>\n",
       "    .dataframe tbody tr th:only-of-type {\n",
       "        vertical-align: middle;\n",
       "    }\n",
       "\n",
       "    .dataframe tbody tr th {\n",
       "        vertical-align: top;\n",
       "    }\n",
       "\n",
       "    .dataframe thead th {\n",
       "        text-align: right;\n",
       "    }\n",
       "</style>\n",
       "<table border=\"1\" class=\"dataframe\">\n",
       "  <thead>\n",
       "    <tr style=\"text-align: right;\">\n",
       "      <th></th>\n",
       "      <th>Модель</th>\n",
       "      <th>MAE</th>\n",
       "      <th>RMSE</th>\n",
       "      <th>Коэффициент корр. Пирсона</th>\n",
       "      <th>Время работы (c)</th>\n",
       "      <th>Комментарий</th>\n",
       "    </tr>\n",
       "  </thead>\n",
       "  <tbody>\n",
       "    <tr>\n",
       "      <th>0</th>\n",
       "      <td>LinearRegression(copy_X=True, fit_intercept=Tr...</td>\n",
       "      <td>185.454373</td>\n",
       "      <td>232.791414</td>\n",
       "      <td>0.272042</td>\n",
       "      <td>0.104</td>\n",
       "      <td>Обучение на среднем ЭЛО по начинающим</td>\n",
       "    </tr>\n",
       "    <tr>\n",
       "      <th>1</th>\n",
       "      <td>LinearRegression(copy_X=True, fit_intercept=Tr...</td>\n",
       "      <td>167.847740</td>\n",
       "      <td>213.396908</td>\n",
       "      <td>0.604164</td>\n",
       "      <td>0.117</td>\n",
       "      <td>Обучение на разнице ЭЛО по начинающим</td>\n",
       "    </tr>\n",
       "    <tr>\n",
       "      <th>2</th>\n",
       "      <td>LinearRegression(copy_X=True, fit_intercept=Tr...</td>\n",
       "      <td>148.774801</td>\n",
       "      <td>195.120413</td>\n",
       "      <td>0.195972</td>\n",
       "      <td>0.104</td>\n",
       "      <td>Обучение на среднем ЭЛО по средним игрокам</td>\n",
       "    </tr>\n",
       "  </tbody>\n",
       "</table>\n",
       "</div>"
      ],
      "text/plain": [
       "                                              Модель         MAE        RMSE  \\\n",
       "0  LinearRegression(copy_X=True, fit_intercept=Tr...  185.454373  232.791414   \n",
       "1  LinearRegression(copy_X=True, fit_intercept=Tr...  167.847740  213.396908   \n",
       "2  LinearRegression(copy_X=True, fit_intercept=Tr...  148.774801  195.120413   \n",
       "\n",
       "   Коэффициент корр. Пирсона  Время работы (c)  \\\n",
       "0                   0.272042             0.104   \n",
       "1                   0.604164             0.117   \n",
       "2                   0.195972             0.104   \n",
       "\n",
       "                                  Комментарий  \n",
       "0       Обучение на среднем ЭЛО по начинающим  \n",
       "1       Обучение на разнице ЭЛО по начинающим  \n",
       "2  Обучение на среднем ЭЛО по средним игрокам  "
      ]
     },
     "execution_count": 34,
     "metadata": {},
     "output_type": "execute_result"
    }
   ],
   "source": [
    "output = output.append(pd.Series([str(lr_mean_avg), mae4,rmse4, \n",
    "                                  corr_coef4[0],full_time3,'Обучение на среднем ЭЛО по средним игрокам'],\n",
    "                                 index=output.columns ),\n",
    "                      ignore_index=True)\n",
    "\n",
    "output"
   ]
  },
  {
   "cell_type": "code",
   "execution_count": 35,
   "metadata": {},
   "outputs": [
    {
     "name": "stdout",
     "output_type": "stream",
     "text": [
      "0.105 c\n"
     ]
    }
   ],
   "source": [
    "start5 = time.time()\n",
    "lr_diff_avg= LinearRegression()\n",
    "lr_diff_avg.fit(features_avg, target_diff_avg)\n",
    "lr_diff_pred_avg = lr_diff_avg.predict(features_avg)\n",
    "full_time5=round(time.time() - start5,3)\n",
    "print(full_time5, 'c')"
   ]
  },
  {
   "cell_type": "code",
   "execution_count": 36,
   "metadata": {},
   "outputs": [
    {
     "data": {
      "image/png": "[encoded data removed]",
      "text/plain": [
       "<matplotlib.figure.Figure at 0x227bce33198>"
      ]
     },
     "metadata": {},
     "output_type": "display_data"
    }
   ],
   "source": [
    "plt.figure(figsize=(8, 8))\n",
    "plt.scatter(lr_diff_pred_avg,target_diff_avg, color = 'b',alpha=0.5)\n",
    "plt.xlabel('Модель LR для средних игроков - predictions')\n",
    "plt.ylabel('Разница в рейтинге (target)')\n",
    "# Линия тренда\n",
    "z = np.polyfit(lr_diff_pred_avg,target_diff_avg, 1)\n",
    "p = np.poly1d(z)\n",
    "plt.plot(lr_diff_pred_avg,p(lr_diff_pred_avg),\"r\")\n",
    "plt.show()"
   ]
  },
  {
   "cell_type": "code",
   "execution_count": 37,
   "metadata": {},
   "outputs": [
    {
     "name": "stdout",
     "output_type": "stream",
     "text": [
      "MAE = 153.681\n",
      "RMSE = 194.776\n",
      "Correlation coefficient = 0.622\n"
     ]
    }
   ],
   "source": [
    "mae5=mae(target_diff_avg,lr_diff_pred_avg)\n",
    "print ('MAE = {:.3f}'.format(mae5))\n",
    "rmse5 = (mse(target_diff_avg, lr_diff_pred_avg))**0.5\n",
    "print ('RMSE = {:.3f}'.format(rmse5))\n",
    "corr_coef5 = pearsonr(target_diff_avg, lr_diff_pred_avg)\n",
    "print(\"Correlation coefficient = {:.3f}\".format(corr_coef5[0]))"
   ]
  },
  {
   "cell_type": "code",
   "execution_count": 38,
   "metadata": {},
   "outputs": [
    {
     "data": {
      "text/html": [
       "<div>\n",
       "<style scoped>\n",
       "    .dataframe tbody tr th:only-of-type {\n",
       "        vertical-align: middle;\n",
       "    }\n",
       "\n",
       "    .dataframe tbody tr th {\n",
       "        vertical-align: top;\n",
       "    }\n",
       "\n",
       "    .dataframe thead th {\n",
       "        text-align: right;\n",
       "    }\n",
       "</style>\n",
       "<table border=\"1\" class=\"dataframe\">\n",
       "  <thead>\n",
       "    <tr style=\"text-align: right;\">\n",
       "      <th></th>\n",
       "      <th>Модель</th>\n",
       "      <th>MAE</th>\n",
       "      <th>RMSE</th>\n",
       "      <th>Коэффициент корр. Пирсона</th>\n",
       "      <th>Время работы (c)</th>\n",
       "      <th>Комментарий</th>\n",
       "    </tr>\n",
       "  </thead>\n",
       "  <tbody>\n",
       "    <tr>\n",
       "      <th>0</th>\n",
       "      <td>LinearRegression(copy_X=True, fit_intercept=Tr...</td>\n",
       "      <td>185.454373</td>\n",
       "      <td>232.791414</td>\n",
       "      <td>0.272042</td>\n",
       "      <td>0.104</td>\n",
       "      <td>Обучение на среднем ЭЛО по начинающим</td>\n",
       "    </tr>\n",
       "    <tr>\n",
       "      <th>1</th>\n",
       "      <td>LinearRegression(copy_X=True, fit_intercept=Tr...</td>\n",
       "      <td>167.847740</td>\n",
       "      <td>213.396908</td>\n",
       "      <td>0.604164</td>\n",
       "      <td>0.117</td>\n",
       "      <td>Обучение на разнице ЭЛО по начинающим</td>\n",
       "    </tr>\n",
       "    <tr>\n",
       "      <th>2</th>\n",
       "      <td>LinearRegression(copy_X=True, fit_intercept=Tr...</td>\n",
       "      <td>148.774801</td>\n",
       "      <td>195.120413</td>\n",
       "      <td>0.195972</td>\n",
       "      <td>0.104</td>\n",
       "      <td>Обучение на среднем ЭЛО по средним игрокам</td>\n",
       "    </tr>\n",
       "    <tr>\n",
       "      <th>3</th>\n",
       "      <td>LinearRegression(copy_X=True, fit_intercept=Tr...</td>\n",
       "      <td>153.680899</td>\n",
       "      <td>194.776371</td>\n",
       "      <td>0.621906</td>\n",
       "      <td>0.105</td>\n",
       "      <td>Обучение на разнице в  ЭЛО по средним игрокам</td>\n",
       "    </tr>\n",
       "  </tbody>\n",
       "</table>\n",
       "</div>"
      ],
      "text/plain": [
       "                                              Модель         MAE        RMSE  \\\n",
       "0  LinearRegression(copy_X=True, fit_intercept=Tr...  185.454373  232.791414   \n",
       "1  LinearRegression(copy_X=True, fit_intercept=Tr...  167.847740  213.396908   \n",
       "2  LinearRegression(copy_X=True, fit_intercept=Tr...  148.774801  195.120413   \n",
       "3  LinearRegression(copy_X=True, fit_intercept=Tr...  153.680899  194.776371   \n",
       "\n",
       "   Коэффициент корр. Пирсона  Время работы (c)  \\\n",
       "0                   0.272042             0.104   \n",
       "1                   0.604164             0.117   \n",
       "2                   0.195972             0.104   \n",
       "3                   0.621906             0.105   \n",
       "\n",
       "                                     Комментарий  \n",
       "0          Обучение на среднем ЭЛО по начинающим  \n",
       "1          Обучение на разнице ЭЛО по начинающим  \n",
       "2     Обучение на среднем ЭЛО по средним игрокам  \n",
       "3  Обучение на разнице в  ЭЛО по средним игрокам  "
      ]
     },
     "execution_count": 38,
     "metadata": {},
     "output_type": "execute_result"
    }
   ],
   "source": [
    "output = output.append(pd.Series([str(lr_diff_avg), mae5,rmse5, \n",
    "                                  corr_coef5[0],full_time5,'Обучение на разнице в  ЭЛО по средним игрокам'],\n",
    "                                 index=output.columns ),\n",
    "                      ignore_index=True)\n",
    "\n",
    "output"
   ]
  },
  {
   "cell_type": "code",
   "execution_count": 39,
   "metadata": {
    "scrolled": true
   },
   "outputs": [
    {
     "name": "stdout",
     "output_type": "stream",
     "text": [
      "7082\n"
     ]
    },
    {
     "data": {
      "text/plain": [
       "[(2237.8726261312795, 2264.7587172730973),\n",
       " (2228.8642012611986, 2352.923871599765),\n",
       " (2359.3797633002046, 2228.8589024123044),\n",
       " (2310.1100838791112, 2029.3835280468543),\n",
       " (2298.339017214484, 2207.919136508964)]"
      ]
     },
     "execution_count": 39,
     "metadata": {},
     "output_type": "execute_result"
    }
   ],
   "source": [
    "white_elos_avg = lr_mean_pred_avg + lr_diff_pred_avg/2\n",
    "black_elos_avg = lr_mean_pred_avg-lr_diff_pred_avg/2\n",
    "pred_elos2=list(zip(white_elos_avg,black_elos_avg))\n",
    "print(len(pred_elos2))\n",
    "pred_elos2[:5]"
   ]
  },
  {
   "cell_type": "code",
   "execution_count": 40,
   "metadata": {},
   "outputs": [
    {
     "data": {
      "text/plain": [
       "(2422902.489, 171.061, 218.08)"
      ]
     },
     "execution_count": 40,
     "metadata": {},
     "output_type": "execute_result"
    }
   ],
   "source": [
    "find_abs_error(pred_elos2,elos_avg),find_mean_error(pred_elos2,elos_avg), find_root_mean_squared_error(pred_elos2,elos_avg)"
   ]
  },
  {
   "cell_type": "code",
   "execution_count": 41,
   "metadata": {},
   "outputs": [
    {
     "data": {
      "text/html": [
       "<div>\n",
       "<style scoped>\n",
       "    .dataframe tbody tr th:only-of-type {\n",
       "        vertical-align: middle;\n",
       "    }\n",
       "\n",
       "    .dataframe tbody tr th {\n",
       "        vertical-align: top;\n",
       "    }\n",
       "\n",
       "    .dataframe thead th {\n",
       "        text-align: right;\n",
       "    }\n",
       "</style>\n",
       "<table border=\"1\" class=\"dataframe\">\n",
       "  <thead>\n",
       "    <tr style=\"text-align: right;\">\n",
       "      <th></th>\n",
       "      <th>Группа</th>\n",
       "      <th>Модель</th>\n",
       "      <th>Абсолютная ошибка</th>\n",
       "      <th>MAE</th>\n",
       "      <th>RMSE</th>\n",
       "    </tr>\n",
       "  </thead>\n",
       "  <tbody>\n",
       "    <tr>\n",
       "      <th>0</th>\n",
       "      <td>Слабые игроки</td>\n",
       "      <td>LinearRegression</td>\n",
       "      <td>2636123.624</td>\n",
       "      <td>204.414</td>\n",
       "      <td>256.08</td>\n",
       "    </tr>\n",
       "    <tr>\n",
       "      <th>1</th>\n",
       "      <td>Средние игроки</td>\n",
       "      <td>LinearRegression</td>\n",
       "      <td>2422902.489</td>\n",
       "      <td>171.061</td>\n",
       "      <td>218.08</td>\n",
       "    </tr>\n",
       "  </tbody>\n",
       "</table>\n",
       "</div>"
      ],
      "text/plain": [
       "           Группа            Модель  Абсолютная ошибка      MAE    RMSE\n",
       "0   Слабые игроки  LinearRegression        2636123.624  204.414  256.08\n",
       "1  Средние игроки  LinearRegression        2422902.489  171.061  218.08"
      ]
     },
     "execution_count": 41,
     "metadata": {},
     "output_type": "execute_result"
    }
   ],
   "source": [
    "errors = errors.append(pd.Series(['Средние игроки','LinearRegression',\n",
    "                  find_abs_error(pred_elos2,elos_avg),\n",
    "                  find_mean_error(pred_elos2,elos_avg),\n",
    "                   find_root_mean_squared_error(pred_elos2,elos_avg)],index=errors.columns) ,ignore_index=True)\n",
    "\n",
    "errors.to_excel(r'C:\\Users\\Asus\\PredictingRatings\\models\\class_errors.xlsx',index=False)\n",
    "errors"
   ]
  },
  {
   "cell_type": "code",
   "execution_count": 42,
   "metadata": {},
   "outputs": [],
   "source": [
    "inner_mae_avg = find_mean_error(pred_elos2,elos_avg)"
   ]
  },
  {
   "cell_type": "markdown",
   "metadata": {},
   "source": [
    "#### Может еще больше разбить, раз так мало оценок меньше 2000?"
   ]
  },
  {
   "cell_type": "code",
   "execution_count": 43,
   "metadata": {
    "scrolled": true
   },
   "outputs": [
    {
     "name": "stdout",
     "output_type": "stream",
     "text": [
      "(3855, 6)\n"
     ]
    },
    {
     "data": {
      "text/html": [
       "<div>\n",
       "<style scoped>\n",
       "    .dataframe tbody tr th:only-of-type {\n",
       "        vertical-align: middle;\n",
       "    }\n",
       "\n",
       "    .dataframe tbody tr th {\n",
       "        vertical-align: top;\n",
       "    }\n",
       "\n",
       "    .dataframe thead th {\n",
       "        text-align: right;\n",
       "    }\n",
       "</style>\n",
       "<table border=\"1\" class=\"dataframe\">\n",
       "  <thead>\n",
       "    <tr style=\"text-align: right;\">\n",
       "      <th></th>\n",
       "      <th>WhiteElo</th>\n",
       "      <th>BlackElo</th>\n",
       "      <th>MeanElos</th>\n",
       "      <th>DiffElos</th>\n",
       "      <th>SumElos</th>\n",
       "      <th>Class</th>\n",
       "    </tr>\n",
       "  </thead>\n",
       "  <tbody>\n",
       "    <tr>\n",
       "      <th>1</th>\n",
       "      <td>1915</td>\n",
       "      <td>1999</td>\n",
       "      <td>1957</td>\n",
       "      <td>-84</td>\n",
       "      <td>3914</td>\n",
       "      <td>novice</td>\n",
       "    </tr>\n",
       "    <tr>\n",
       "      <th>6</th>\n",
       "      <td>1813</td>\n",
       "      <td>1643</td>\n",
       "      <td>1728</td>\n",
       "      <td>170</td>\n",
       "      <td>3456</td>\n",
       "      <td>novice</td>\n",
       "    </tr>\n",
       "    <tr>\n",
       "      <th>13</th>\n",
       "      <td>1877</td>\n",
       "      <td>1851</td>\n",
       "      <td>1864</td>\n",
       "      <td>26</td>\n",
       "      <td>3728</td>\n",
       "      <td>novice</td>\n",
       "    </tr>\n",
       "    <tr>\n",
       "      <th>18</th>\n",
       "      <td>1942</td>\n",
       "      <td>1663</td>\n",
       "      <td>1802</td>\n",
       "      <td>279</td>\n",
       "      <td>3605</td>\n",
       "      <td>novice</td>\n",
       "    </tr>\n",
       "    <tr>\n",
       "      <th>39</th>\n",
       "      <td>1870</td>\n",
       "      <td>2086</td>\n",
       "      <td>1978</td>\n",
       "      <td>-216</td>\n",
       "      <td>3956</td>\n",
       "      <td>novice</td>\n",
       "    </tr>\n",
       "  </tbody>\n",
       "</table>\n",
       "</div>"
      ],
      "text/plain": [
       "    WhiteElo  BlackElo  MeanElos  DiffElos  SumElos   Class\n",
       "1       1915      1999      1957       -84     3914  novice\n",
       "6       1813      1643      1728       170     3456  novice\n",
       "13      1877      1851      1864        26     3728  novice\n",
       "18      1942      1663      1802       279     3605  novice\n",
       "39      1870      2086      1978      -216     3956  novice"
      ]
     },
     "execution_count": 43,
     "metadata": {},
     "output_type": "execute_result"
    }
   ],
   "source": [
    "elos_2000=elos[(elos[\"MeanElos\"]<=2000)]\n",
    "print(elos_2000.shape)\n",
    "elos_2000.head()"
   ]
  },
  {
   "cell_type": "markdown",
   "metadata": {},
   "source": [
    "### Подбор модели для мастеров"
   ]
  },
  {
   "cell_type": "code",
   "execution_count": 44,
   "metadata": {},
   "outputs": [
    {
     "name": "stdout",
     "output_type": "stream",
     "text": [
      "(9678, 6)\n"
     ]
    },
    {
     "data": {
      "text/html": [
       "<div>\n",
       "<style scoped>\n",
       "    .dataframe tbody tr th:only-of-type {\n",
       "        vertical-align: middle;\n",
       "    }\n",
       "\n",
       "    .dataframe tbody tr th {\n",
       "        vertical-align: top;\n",
       "    }\n",
       "\n",
       "    .dataframe thead th {\n",
       "        text-align: right;\n",
       "    }\n",
       "</style>\n",
       "<table border=\"1\" class=\"dataframe\">\n",
       "  <thead>\n",
       "    <tr style=\"text-align: right;\">\n",
       "      <th></th>\n",
       "      <th>WhiteElo</th>\n",
       "      <th>BlackElo</th>\n",
       "      <th>MeanElos</th>\n",
       "      <th>DiffElos</th>\n",
       "      <th>SumElos</th>\n",
       "      <th>Class</th>\n",
       "    </tr>\n",
       "  </thead>\n",
       "  <tbody>\n",
       "    <tr>\n",
       "      <th>4</th>\n",
       "      <td>2437</td>\n",
       "      <td>2254</td>\n",
       "      <td>2345</td>\n",
       "      <td>183</td>\n",
       "      <td>4691</td>\n",
       "      <td>master</td>\n",
       "    </tr>\n",
       "    <tr>\n",
       "      <th>5</th>\n",
       "      <td>2449</td>\n",
       "      <td>2201</td>\n",
       "      <td>2325</td>\n",
       "      <td>248</td>\n",
       "      <td>4650</td>\n",
       "      <td>master</td>\n",
       "    </tr>\n",
       "    <tr>\n",
       "      <th>7</th>\n",
       "      <td>2553</td>\n",
       "      <td>2052</td>\n",
       "      <td>2302</td>\n",
       "      <td>501</td>\n",
       "      <td>4605</td>\n",
       "      <td>master</td>\n",
       "    </tr>\n",
       "    <tr>\n",
       "      <th>8</th>\n",
       "      <td>2611</td>\n",
       "      <td>2520</td>\n",
       "      <td>2565</td>\n",
       "      <td>91</td>\n",
       "      <td>5131</td>\n",
       "      <td>grandmaster</td>\n",
       "    </tr>\n",
       "    <tr>\n",
       "      <th>10</th>\n",
       "      <td>2108</td>\n",
       "      <td>2273</td>\n",
       "      <td>2190</td>\n",
       "      <td>-165</td>\n",
       "      <td>4381</td>\n",
       "      <td>average</td>\n",
       "    </tr>\n",
       "  </tbody>\n",
       "</table>\n",
       "</div>"
      ],
      "text/plain": [
       "    WhiteElo  BlackElo  MeanElos  DiffElos  SumElos        Class\n",
       "4       2437      2254      2345       183     4691       master\n",
       "5       2449      2201      2325       248     4650       master\n",
       "7       2553      2052      2302       501     4605       master\n",
       "8       2611      2520      2565        91     5131  grandmaster\n",
       "10      2108      2273      2190      -165     4381      average"
      ]
     },
     "execution_count": 44,
     "metadata": {},
     "output_type": "execute_result"
    }
   ],
   "source": [
    "class_master=classes[classes=='master']\n",
    "elos_master=elos[elos.index.isin(class_master.index)]\n",
    "print(elos_master.shape)\n",
    "elos_master.head()"
   ]
  },
  {
   "cell_type": "code",
   "execution_count": 45,
   "metadata": {},
   "outputs": [
    {
     "name": "stdout",
     "output_type": "stream",
     "text": [
      "(9678, 224)\n"
     ]
    },
    {
     "data": {
      "text/html": [
       "<div>\n",
       "<style scoped>\n",
       "    .dataframe tbody tr th:only-of-type {\n",
       "        vertical-align: middle;\n",
       "    }\n",
       "\n",
       "    .dataframe tbody tr th {\n",
       "        vertical-align: top;\n",
       "    }\n",
       "\n",
       "    .dataframe thead th {\n",
       "        text-align: right;\n",
       "    }\n",
       "</style>\n",
       "<table border=\"1\" class=\"dataframe\">\n",
       "  <thead>\n",
       "    <tr style=\"text-align: right;\">\n",
       "      <th></th>\n",
       "      <th>0</th>\n",
       "      <th>1</th>\n",
       "      <th>2</th>\n",
       "      <th>3</th>\n",
       "      <th>4</th>\n",
       "      <th>5</th>\n",
       "      <th>6</th>\n",
       "      <th>7</th>\n",
       "      <th>8</th>\n",
       "      <th>9</th>\n",
       "      <th>...</th>\n",
       "      <th>214</th>\n",
       "      <th>215</th>\n",
       "      <th>216</th>\n",
       "      <th>217</th>\n",
       "      <th>218</th>\n",
       "      <th>219</th>\n",
       "      <th>220</th>\n",
       "      <th>221</th>\n",
       "      <th>222</th>\n",
       "      <th>223</th>\n",
       "    </tr>\n",
       "  </thead>\n",
       "  <tbody>\n",
       "    <tr>\n",
       "      <th>4</th>\n",
       "      <td>0.5</td>\n",
       "      <td>29.0</td>\n",
       "      <td>30.827586</td>\n",
       "      <td>18.0</td>\n",
       "      <td>-11.0</td>\n",
       "      <td>58.0</td>\n",
       "      <td>-15.0</td>\n",
       "      <td>94.0</td>\n",
       "      <td>29.0</td>\n",
       "      <td>24.845827</td>\n",
       "      <td>...</td>\n",
       "      <td>0.0</td>\n",
       "      <td>1.0</td>\n",
       "      <td>0.0</td>\n",
       "      <td>5.0</td>\n",
       "      <td>1.0</td>\n",
       "      <td>0.0</td>\n",
       "      <td>1.0</td>\n",
       "      <td>0.0</td>\n",
       "      <td>0.0</td>\n",
       "      <td>0.0</td>\n",
       "    </tr>\n",
       "    <tr>\n",
       "      <th>5</th>\n",
       "      <td>1.0</td>\n",
       "      <td>38.0</td>\n",
       "      <td>237.440000</td>\n",
       "      <td>32.0</td>\n",
       "      <td>898.0</td>\n",
       "      <td>75.0</td>\n",
       "      <td>-4.0</td>\n",
       "      <td>6395.0</td>\n",
       "      <td>104.0</td>\n",
       "      <td>744.029556</td>\n",
       "      <td>...</td>\n",
       "      <td>0.0</td>\n",
       "      <td>1.0</td>\n",
       "      <td>0.0</td>\n",
       "      <td>4.0</td>\n",
       "      <td>1.0</td>\n",
       "      <td>1.0</td>\n",
       "      <td>1.0</td>\n",
       "      <td>2.0</td>\n",
       "      <td>0.0</td>\n",
       "      <td>0.0</td>\n",
       "    </tr>\n",
       "    <tr>\n",
       "      <th>7</th>\n",
       "      <td>1.0</td>\n",
       "      <td>46.0</td>\n",
       "      <td>106.923077</td>\n",
       "      <td>37.0</td>\n",
       "      <td>410.0</td>\n",
       "      <td>91.0</td>\n",
       "      <td>-3.0</td>\n",
       "      <td>445.0</td>\n",
       "      <td>83.0</td>\n",
       "      <td>93.119943</td>\n",
       "      <td>...</td>\n",
       "      <td>0.0</td>\n",
       "      <td>0.0</td>\n",
       "      <td>0.0</td>\n",
       "      <td>5.0</td>\n",
       "      <td>0.0</td>\n",
       "      <td>0.0</td>\n",
       "      <td>1.0</td>\n",
       "      <td>2.0</td>\n",
       "      <td>0.0</td>\n",
       "      <td>0.0</td>\n",
       "    </tr>\n",
       "    <tr>\n",
       "      <th>8</th>\n",
       "      <td>1.0</td>\n",
       "      <td>30.0</td>\n",
       "      <td>139.033898</td>\n",
       "      <td>22.0</td>\n",
       "      <td>351.0</td>\n",
       "      <td>59.0</td>\n",
       "      <td>-5.0</td>\n",
       "      <td>420.0</td>\n",
       "      <td>100.0</td>\n",
       "      <td>119.455540</td>\n",
       "      <td>...</td>\n",
       "      <td>1.0</td>\n",
       "      <td>1.0</td>\n",
       "      <td>0.0</td>\n",
       "      <td>5.0</td>\n",
       "      <td>1.0</td>\n",
       "      <td>1.0</td>\n",
       "      <td>1.0</td>\n",
       "      <td>0.0</td>\n",
       "      <td>0.0</td>\n",
       "      <td>14.0</td>\n",
       "    </tr>\n",
       "    <tr>\n",
       "      <th>10</th>\n",
       "      <td>0.0</td>\n",
       "      <td>50.0</td>\n",
       "      <td>-239.680000</td>\n",
       "      <td>6.0</td>\n",
       "      <td>-682.0</td>\n",
       "      <td>100.0</td>\n",
       "      <td>-683.0</td>\n",
       "      <td>63.0</td>\n",
       "      <td>298.0</td>\n",
       "      <td>256.674225</td>\n",
       "      <td>...</td>\n",
       "      <td>1.0</td>\n",
       "      <td>1.0</td>\n",
       "      <td>0.0</td>\n",
       "      <td>2.0</td>\n",
       "      <td>1.0</td>\n",
       "      <td>0.0</td>\n",
       "      <td>0.0</td>\n",
       "      <td>10.0</td>\n",
       "      <td>13.0</td>\n",
       "      <td>14.0</td>\n",
       "    </tr>\n",
       "  </tbody>\n",
       "</table>\n",
       "<p>5 rows × 224 columns</p>\n",
       "</div>"
      ],
      "text/plain": [
       "      0     1           2     3      4      5      6       7      8  \\\n",
       "4   0.5  29.0   30.827586  18.0  -11.0   58.0  -15.0    94.0   29.0   \n",
       "5   1.0  38.0  237.440000  32.0  898.0   75.0   -4.0  6395.0  104.0   \n",
       "7   1.0  46.0  106.923077  37.0  410.0   91.0   -3.0   445.0   83.0   \n",
       "8   1.0  30.0  139.033898  22.0  351.0   59.0   -5.0   420.0  100.0   \n",
       "10  0.0  50.0 -239.680000   6.0 -682.0  100.0 -683.0    63.0  298.0   \n",
       "\n",
       "             9  ...   214  215  216  217  218  219  220   221   222   223  \n",
       "4    24.845827  ...   0.0  1.0  0.0  5.0  1.0  0.0  1.0   0.0   0.0   0.0  \n",
       "5   744.029556  ...   0.0  1.0  0.0  4.0  1.0  1.0  1.0   2.0   0.0   0.0  \n",
       "7    93.119943  ...   0.0  0.0  0.0  5.0  0.0  0.0  1.0   2.0   0.0   0.0  \n",
       "8   119.455540  ...   1.0  1.0  0.0  5.0  1.0  1.0  1.0   0.0   0.0  14.0  \n",
       "10  256.674225  ...   1.0  1.0  0.0  2.0  1.0  0.0  0.0  10.0  13.0  14.0  \n",
       "\n",
       "[5 rows x 224 columns]"
      ]
     },
     "execution_count": 45,
     "metadata": {},
     "output_type": "execute_result"
    }
   ],
   "source": [
    "features_master=features[features.index.isin(class_master.index)]\n",
    "print(features_master.shape)\n",
    "features_master.head()"
   ]
  },
  {
   "cell_type": "code",
   "execution_count": 46,
   "metadata": {},
   "outputs": [],
   "source": [
    "target_white_master=elos_master['WhiteElo']\n",
    "target_black_master=elos_master['BlackElo']\n",
    "target_mean_master=elos_master['MeanElos']\n",
    "target_diff_master=elos_master['DiffElos']\n",
    "target_sum_master=elos_master['SumElos']"
   ]
  },
  {
   "cell_type": "code",
   "execution_count": 47,
   "metadata": {},
   "outputs": [],
   "source": [
    "elos_master.to_csv(r'C:\\Users\\Asus\\PredictingRatings\\data\\elos_master.csv', sep=',',index=False)\n",
    "features_master.to_csv(r'C:\\Users\\Asus\\PredictingRatings\\data\\features_master.csv', sep=',',index=False)"
   ]
  },
  {
   "cell_type": "markdown",
   "metadata": {},
   "source": [
    "#### baseline"
   ]
  },
  {
   "cell_type": "code",
   "execution_count": 48,
   "metadata": {},
   "outputs": [
    {
     "name": "stdout",
     "output_type": "stream",
     "text": [
      "0.113 c\n"
     ]
    }
   ],
   "source": [
    "start6 = time.time()\n",
    "lr_mean_master= LinearRegression()\n",
    "lr_mean_master.fit(features_master, target_mean_master)\n",
    "lr_mean_pred_master = lr_mean_master.predict(features_master)\n",
    "full_time6=round(time.time() - start6,3)\n",
    "print(full_time6, 'c')"
   ]
  },
  {
   "cell_type": "code",
   "execution_count": 49,
   "metadata": {},
   "outputs": [
    {
     "data": {
      "image/png": "[encoded data removed]",
      "text/plain": [
       "<matplotlib.figure.Figure at 0x22782a37940>"
      ]
     },
     "metadata": {},
     "output_type": "display_data"
    }
   ],
   "source": [
    "plt.figure(figsize=(8, 8))\n",
    "plt.scatter(lr_mean_pred_master,target_mean_master, color = 'b',alpha=0.5)\n",
    "plt.xlabel('Модель LR для мастеров - predictions')\n",
    "plt.ylabel('Средний рейтинг (target)')\n",
    "# Линия тренда\n",
    "z = np.polyfit(lr_mean_pred_master,target_mean_master, 1)\n",
    "p = np.poly1d(z)\n",
    "plt.plot(lr_mean_pred_master,p(lr_mean_pred_master),\"r\")\n",
    "plt.show()"
   ]
  },
  {
   "cell_type": "code",
   "execution_count": 50,
   "metadata": {},
   "outputs": [
    {
     "name": "stdout",
     "output_type": "stream",
     "text": [
      "MAE = 144.548\n",
      "RMSE = 186.916\n",
      "Correlation coefficient = 0.212\n"
     ]
    }
   ],
   "source": [
    "mae6=mae(target_mean_master,lr_mean_pred_master)\n",
    "print ('MAE = {:.3f}'.format(mae6))\n",
    "rmse6 = (mse(target_mean_master, lr_mean_pred_master))**0.5\n",
    "print ('RMSE = {:.3f}'.format(rmse6))\n",
    "corr_coef6 = pearsonr(target_mean_master, lr_mean_pred_master)\n",
    "print(\"Correlation coefficient = {:.3f}\".format(corr_coef6[0]))"
   ]
  },
  {
   "cell_type": "code",
   "execution_count": 51,
   "metadata": {},
   "outputs": [
    {
     "data": {
      "text/html": [
       "<div>\n",
       "<style scoped>\n",
       "    .dataframe tbody tr th:only-of-type {\n",
       "        vertical-align: middle;\n",
       "    }\n",
       "\n",
       "    .dataframe tbody tr th {\n",
       "        vertical-align: top;\n",
       "    }\n",
       "\n",
       "    .dataframe thead th {\n",
       "        text-align: right;\n",
       "    }\n",
       "</style>\n",
       "<table border=\"1\" class=\"dataframe\">\n",
       "  <thead>\n",
       "    <tr style=\"text-align: right;\">\n",
       "      <th></th>\n",
       "      <th>Модель</th>\n",
       "      <th>MAE</th>\n",
       "      <th>RMSE</th>\n",
       "      <th>Коэффициент корр. Пирсона</th>\n",
       "      <th>Время работы (c)</th>\n",
       "      <th>Комментарий</th>\n",
       "    </tr>\n",
       "  </thead>\n",
       "  <tbody>\n",
       "    <tr>\n",
       "      <th>0</th>\n",
       "      <td>LinearRegression(copy_X=True, fit_intercept=Tr...</td>\n",
       "      <td>185.454373</td>\n",
       "      <td>232.791414</td>\n",
       "      <td>0.272042</td>\n",
       "      <td>0.104</td>\n",
       "      <td>Обучение на среднем ЭЛО по начинающим</td>\n",
       "    </tr>\n",
       "    <tr>\n",
       "      <th>1</th>\n",
       "      <td>LinearRegression(copy_X=True, fit_intercept=Tr...</td>\n",
       "      <td>167.847740</td>\n",
       "      <td>213.396908</td>\n",
       "      <td>0.604164</td>\n",
       "      <td>0.117</td>\n",
       "      <td>Обучение на разнице ЭЛО по начинающим</td>\n",
       "    </tr>\n",
       "    <tr>\n",
       "      <th>2</th>\n",
       "      <td>LinearRegression(copy_X=True, fit_intercept=Tr...</td>\n",
       "      <td>148.774801</td>\n",
       "      <td>195.120413</td>\n",
       "      <td>0.195972</td>\n",
       "      <td>0.104</td>\n",
       "      <td>Обучение на среднем ЭЛО по средним игрокам</td>\n",
       "    </tr>\n",
       "    <tr>\n",
       "      <th>3</th>\n",
       "      <td>LinearRegression(copy_X=True, fit_intercept=Tr...</td>\n",
       "      <td>153.680899</td>\n",
       "      <td>194.776371</td>\n",
       "      <td>0.621906</td>\n",
       "      <td>0.105</td>\n",
       "      <td>Обучение на разнице в  ЭЛО по средним игрокам</td>\n",
       "    </tr>\n",
       "    <tr>\n",
       "      <th>4</th>\n",
       "      <td>LinearRegression(copy_X=True, fit_intercept=Tr...</td>\n",
       "      <td>144.547821</td>\n",
       "      <td>186.916248</td>\n",
       "      <td>0.211849</td>\n",
       "      <td>0.113</td>\n",
       "      <td>Обучение на среднем ЭЛО по мастерам</td>\n",
       "    </tr>\n",
       "  </tbody>\n",
       "</table>\n",
       "</div>"
      ],
      "text/plain": [
       "                                              Модель         MAE        RMSE  \\\n",
       "0  LinearRegression(copy_X=True, fit_intercept=Tr...  185.454373  232.791414   \n",
       "1  LinearRegression(copy_X=True, fit_intercept=Tr...  167.847740  213.396908   \n",
       "2  LinearRegression(copy_X=True, fit_intercept=Tr...  148.774801  195.120413   \n",
       "3  LinearRegression(copy_X=True, fit_intercept=Tr...  153.680899  194.776371   \n",
       "4  LinearRegression(copy_X=True, fit_intercept=Tr...  144.547821  186.916248   \n",
       "\n",
       "   Коэффициент корр. Пирсона  Время работы (c)  \\\n",
       "0                   0.272042             0.104   \n",
       "1                   0.604164             0.117   \n",
       "2                   0.195972             0.104   \n",
       "3                   0.621906             0.105   \n",
       "4                   0.211849             0.113   \n",
       "\n",
       "                                     Комментарий  \n",
       "0          Обучение на среднем ЭЛО по начинающим  \n",
       "1          Обучение на разнице ЭЛО по начинающим  \n",
       "2     Обучение на среднем ЭЛО по средним игрокам  \n",
       "3  Обучение на разнице в  ЭЛО по средним игрокам  \n",
       "4            Обучение на среднем ЭЛО по мастерам  "
      ]
     },
     "execution_count": 51,
     "metadata": {},
     "output_type": "execute_result"
    }
   ],
   "source": [
    "output = output.append(pd.Series([str(lr_mean_master), mae6,rmse6, \n",
    "                                  corr_coef6[0],full_time6,'Обучение на среднем ЭЛО по мастерам'],\n",
    "                                 index=output.columns ),\n",
    "                      ignore_index=True)\n",
    "output.to_excel(r'C:\\Users\\Asus\\PredictingRatings\\models\\class_results.xlsx',index=False)\n",
    "output"
   ]
  },
  {
   "cell_type": "code",
   "execution_count": 52,
   "metadata": {},
   "outputs": [
    {
     "name": "stdout",
     "output_type": "stream",
     "text": [
      "0.12 c\n"
     ]
    }
   ],
   "source": [
    "start7 = time.time()\n",
    "lr_diff_master= LinearRegression()\n",
    "lr_diff_master.fit(features_master, target_diff_master)\n",
    "lr_diff_pred_master = lr_diff_master.predict(features_master)\n",
    "full_time7=round(time.time() - start7,3)\n",
    "print(full_time7, 'c')"
   ]
  },
  {
   "cell_type": "code",
   "execution_count": 53,
   "metadata": {},
   "outputs": [
    {
     "data": {
      "image/png": "[encoded data removed]",
      "text/plain": [
       "<matplotlib.figure.Figure at 0x2278313a438>"
      ]
     },
     "metadata": {},
     "output_type": "display_data"
    }
   ],
   "source": [
    "plt.figure(figsize=(8, 8))\n",
    "plt.scatter(lr_diff_pred_avg,target_diff_avg, color = 'b',alpha=0.5)\n",
    "plt.xlabel('Модель LR для средних игроков - predictions')\n",
    "plt.ylabel('Разница в рейтинге (target)')\n",
    "# Линия тренда\n",
    "z = np.polyfit(lr_diff_pred_avg,target_diff_avg, 1)\n",
    "p = np.poly1d(z)\n",
    "plt.plot(lr_diff_pred_avg,p(lr_diff_pred_avg),\"r\")\n",
    "plt.show()"
   ]
  },
  {
   "cell_type": "code",
   "execution_count": 54,
   "metadata": {},
   "outputs": [
    {
     "name": "stdout",
     "output_type": "stream",
     "text": [
      "MAE = 137.466\n",
      "RMSE = 174.230\n",
      "Correlation coefficient = 0.542\n"
     ]
    }
   ],
   "source": [
    "mae7=mae(target_diff_master,lr_diff_pred_master)\n",
    "print ('MAE = {:.3f}'.format(mae7))\n",
    "rmse7 = (mse(target_diff_master, lr_diff_pred_master))**0.5\n",
    "print ('RMSE = {:.3f}'.format(rmse7))\n",
    "corr_coef7 = pearsonr(target_diff_master, lr_diff_pred_master)\n",
    "print(\"Correlation coefficient = {:.3f}\".format(corr_coef7[0]))"
   ]
  },
  {
   "cell_type": "code",
   "execution_count": 55,
   "metadata": {},
   "outputs": [
    {
     "data": {
      "text/html": [
       "<div>\n",
       "<style scoped>\n",
       "    .dataframe tbody tr th:only-of-type {\n",
       "        vertical-align: middle;\n",
       "    }\n",
       "\n",
       "    .dataframe tbody tr th {\n",
       "        vertical-align: top;\n",
       "    }\n",
       "\n",
       "    .dataframe thead th {\n",
       "        text-align: right;\n",
       "    }\n",
       "</style>\n",
       "<table border=\"1\" class=\"dataframe\">\n",
       "  <thead>\n",
       "    <tr style=\"text-align: right;\">\n",
       "      <th></th>\n",
       "      <th>Модель</th>\n",
       "      <th>MAE</th>\n",
       "      <th>RMSE</th>\n",
       "      <th>Коэффициент корр. Пирсона</th>\n",
       "      <th>Время работы (c)</th>\n",
       "      <th>Комментарий</th>\n",
       "    </tr>\n",
       "  </thead>\n",
       "  <tbody>\n",
       "    <tr>\n",
       "      <th>0</th>\n",
       "      <td>LinearRegression(copy_X=True, fit_intercept=Tr...</td>\n",
       "      <td>185.454373</td>\n",
       "      <td>232.791414</td>\n",
       "      <td>0.272042</td>\n",
       "      <td>0.104</td>\n",
       "      <td>Обучение на среднем ЭЛО по начинающим</td>\n",
       "    </tr>\n",
       "    <tr>\n",
       "      <th>1</th>\n",
       "      <td>LinearRegression(copy_X=True, fit_intercept=Tr...</td>\n",
       "      <td>167.847740</td>\n",
       "      <td>213.396908</td>\n",
       "      <td>0.604164</td>\n",
       "      <td>0.117</td>\n",
       "      <td>Обучение на разнице ЭЛО по начинающим</td>\n",
       "    </tr>\n",
       "    <tr>\n",
       "      <th>2</th>\n",
       "      <td>LinearRegression(copy_X=True, fit_intercept=Tr...</td>\n",
       "      <td>148.774801</td>\n",
       "      <td>195.120413</td>\n",
       "      <td>0.195972</td>\n",
       "      <td>0.104</td>\n",
       "      <td>Обучение на среднем ЭЛО по средним игрокам</td>\n",
       "    </tr>\n",
       "    <tr>\n",
       "      <th>3</th>\n",
       "      <td>LinearRegression(copy_X=True, fit_intercept=Tr...</td>\n",
       "      <td>153.680899</td>\n",
       "      <td>194.776371</td>\n",
       "      <td>0.621906</td>\n",
       "      <td>0.105</td>\n",
       "      <td>Обучение на разнице в  ЭЛО по средним игрокам</td>\n",
       "    </tr>\n",
       "    <tr>\n",
       "      <th>4</th>\n",
       "      <td>LinearRegression(copy_X=True, fit_intercept=Tr...</td>\n",
       "      <td>144.547821</td>\n",
       "      <td>186.916248</td>\n",
       "      <td>0.211849</td>\n",
       "      <td>0.113</td>\n",
       "      <td>Обучение на среднем ЭЛО по мастерам</td>\n",
       "    </tr>\n",
       "    <tr>\n",
       "      <th>5</th>\n",
       "      <td>LinearRegression(copy_X=True, fit_intercept=Tr...</td>\n",
       "      <td>137.465903</td>\n",
       "      <td>174.230219</td>\n",
       "      <td>0.542416</td>\n",
       "      <td>0.120</td>\n",
       "      <td>Обучение на разнице в  ЭЛО по мастерам</td>\n",
       "    </tr>\n",
       "  </tbody>\n",
       "</table>\n",
       "</div>"
      ],
      "text/plain": [
       "                                              Модель         MAE        RMSE  \\\n",
       "0  LinearRegression(copy_X=True, fit_intercept=Tr...  185.454373  232.791414   \n",
       "1  LinearRegression(copy_X=True, fit_intercept=Tr...  167.847740  213.396908   \n",
       "2  LinearRegression(copy_X=True, fit_intercept=Tr...  148.774801  195.120413   \n",
       "3  LinearRegression(copy_X=True, fit_intercept=Tr...  153.680899  194.776371   \n",
       "4  LinearRegression(copy_X=True, fit_intercept=Tr...  144.547821  186.916248   \n",
       "5  LinearRegression(copy_X=True, fit_intercept=Tr...  137.465903  174.230219   \n",
       "\n",
       "   Коэффициент корр. Пирсона  Время работы (c)  \\\n",
       "0                   0.272042             0.104   \n",
       "1                   0.604164             0.117   \n",
       "2                   0.195972             0.104   \n",
       "3                   0.621906             0.105   \n",
       "4                   0.211849             0.113   \n",
       "5                   0.542416             0.120   \n",
       "\n",
       "                                     Комментарий  \n",
       "0          Обучение на среднем ЭЛО по начинающим  \n",
       "1          Обучение на разнице ЭЛО по начинающим  \n",
       "2     Обучение на среднем ЭЛО по средним игрокам  \n",
       "3  Обучение на разнице в  ЭЛО по средним игрокам  \n",
       "4            Обучение на среднем ЭЛО по мастерам  \n",
       "5         Обучение на разнице в  ЭЛО по мастерам  "
      ]
     },
     "execution_count": 55,
     "metadata": {},
     "output_type": "execute_result"
    }
   ],
   "source": [
    "output = output.append(pd.Series([str(lr_diff_master), mae7,rmse7, \n",
    "                                  corr_coef7[0],full_time7,'Обучение на разнице в  ЭЛО по мастерам'],\n",
    "                                 index=output.columns ),\n",
    "                      ignore_index=True)\n",
    "\n",
    "output.to_excel(r'C:\\Users\\Asus\\PredictingRatings\\models\\class_results.xlsx',index=False)\n",
    "\n",
    "output"
   ]
  },
  {
   "cell_type": "code",
   "execution_count": 56,
   "metadata": {
    "scrolled": true
   },
   "outputs": [
    {
     "name": "stdout",
     "output_type": "stream",
     "text": [
      "9678\n"
     ]
    },
    {
     "data": {
      "text/plain": [
       "[(2350.5894080808375, 2352.3379793328895),\n",
       " (2455.6205260051147, 2305.2239710519007),\n",
       " (2434.9000764580383, 2271.0008193773833),\n",
       " (2446.073053268749, 2229.886799858398),\n",
       " (2273.6244438757612, 2436.974659366014)]"
      ]
     },
     "execution_count": 56,
     "metadata": {},
     "output_type": "execute_result"
    }
   ],
   "source": [
    "white_elos_master = lr_mean_pred_master + lr_diff_pred_master/2\n",
    "black_elos_master = lr_mean_pred_master-lr_diff_pred_master/2\n",
    "pred_elos3=list(zip(white_elos_master,black_elos_master))\n",
    "print(len(pred_elos3))\n",
    "pred_elos3[:5]"
   ]
  },
  {
   "cell_type": "code",
   "execution_count": 57,
   "metadata": {},
   "outputs": [
    {
     "data": {
      "text/plain": [
       "(3121463.524, 161.266, 206.223)"
      ]
     },
     "execution_count": 57,
     "metadata": {},
     "output_type": "execute_result"
    }
   ],
   "source": [
    "find_abs_error(pred_elos3,elos_master),find_mean_error(pred_elos3,elos_master), find_root_mean_squared_error(pred_elos3,elos_master)"
   ]
  },
  {
   "cell_type": "code",
   "execution_count": 58,
   "metadata": {},
   "outputs": [
    {
     "data": {
      "text/html": [
       "<div>\n",
       "<style scoped>\n",
       "    .dataframe tbody tr th:only-of-type {\n",
       "        vertical-align: middle;\n",
       "    }\n",
       "\n",
       "    .dataframe tbody tr th {\n",
       "        vertical-align: top;\n",
       "    }\n",
       "\n",
       "    .dataframe thead th {\n",
       "        text-align: right;\n",
       "    }\n",
       "</style>\n",
       "<table border=\"1\" class=\"dataframe\">\n",
       "  <thead>\n",
       "    <tr style=\"text-align: right;\">\n",
       "      <th></th>\n",
       "      <th>Группа</th>\n",
       "      <th>Модель</th>\n",
       "      <th>Абсолютная ошибка</th>\n",
       "      <th>MAE</th>\n",
       "      <th>RMSE</th>\n",
       "    </tr>\n",
       "  </thead>\n",
       "  <tbody>\n",
       "    <tr>\n",
       "      <th>0</th>\n",
       "      <td>Слабые игроки</td>\n",
       "      <td>LinearRegression</td>\n",
       "      <td>2636123.624</td>\n",
       "      <td>204.414</td>\n",
       "      <td>256.080</td>\n",
       "    </tr>\n",
       "    <tr>\n",
       "      <th>1</th>\n",
       "      <td>Средние игроки</td>\n",
       "      <td>LinearRegression</td>\n",
       "      <td>2422902.489</td>\n",
       "      <td>171.061</td>\n",
       "      <td>218.080</td>\n",
       "    </tr>\n",
       "    <tr>\n",
       "      <th>2</th>\n",
       "      <td>Мастера</td>\n",
       "      <td>LinearRegression</td>\n",
       "      <td>3121463.524</td>\n",
       "      <td>161.266</td>\n",
       "      <td>206.223</td>\n",
       "    </tr>\n",
       "  </tbody>\n",
       "</table>\n",
       "</div>"
      ],
      "text/plain": [
       "           Группа            Модель  Абсолютная ошибка      MAE     RMSE\n",
       "0   Слабые игроки  LinearRegression        2636123.624  204.414  256.080\n",
       "1  Средние игроки  LinearRegression        2422902.489  171.061  218.080\n",
       "2         Мастера  LinearRegression        3121463.524  161.266  206.223"
      ]
     },
     "execution_count": 58,
     "metadata": {},
     "output_type": "execute_result"
    }
   ],
   "source": [
    "errors = errors.append(pd.Series(['Мастера','LinearRegression',\n",
    "                  find_abs_error(pred_elos3,elos_master),\n",
    "                  find_mean_error(pred_elos3,elos_master),\n",
    "                   find_root_mean_squared_error(pred_elos3,elos_master)],index=errors.columns) ,ignore_index=True)\n",
    "\n",
    "errors.to_excel(r'C:\\Users\\Asus\\PredictingRatings\\models\\class_errors.xlsx',index=False,sheet_name='Errors')\n",
    "errors"
   ]
  },
  {
   "cell_type": "code",
   "execution_count": 59,
   "metadata": {},
   "outputs": [],
   "source": [
    "inner_mae_master=find_mean_error(pred_elos3,elos_master)"
   ]
  },
  {
   "cell_type": "markdown",
   "metadata": {},
   "source": [
    "### Подбор модели для гроссмейстеров"
   ]
  },
  {
   "cell_type": "code",
   "execution_count": 60,
   "metadata": {},
   "outputs": [
    {
     "name": "stdout",
     "output_type": "stream",
     "text": [
      "(1047, 6)\n"
     ]
    },
    {
     "data": {
      "text/html": [
       "<div>\n",
       "<style scoped>\n",
       "    .dataframe tbody tr th:only-of-type {\n",
       "        vertical-align: middle;\n",
       "    }\n",
       "\n",
       "    .dataframe tbody tr th {\n",
       "        vertical-align: top;\n",
       "    }\n",
       "\n",
       "    .dataframe thead th {\n",
       "        text-align: right;\n",
       "    }\n",
       "</style>\n",
       "<table border=\"1\" class=\"dataframe\">\n",
       "  <thead>\n",
       "    <tr style=\"text-align: right;\">\n",
       "      <th></th>\n",
       "      <th>WhiteElo</th>\n",
       "      <th>BlackElo</th>\n",
       "      <th>MeanElos</th>\n",
       "      <th>DiffElos</th>\n",
       "      <th>SumElos</th>\n",
       "      <th>Class</th>\n",
       "    </tr>\n",
       "  </thead>\n",
       "  <tbody>\n",
       "    <tr>\n",
       "      <th>24</th>\n",
       "      <td>2413</td>\n",
       "      <td>2315</td>\n",
       "      <td>2364</td>\n",
       "      <td>98</td>\n",
       "      <td>4728</td>\n",
       "      <td>master</td>\n",
       "    </tr>\n",
       "    <tr>\n",
       "      <th>127</th>\n",
       "      <td>2489</td>\n",
       "      <td>2621</td>\n",
       "      <td>2555</td>\n",
       "      <td>-132</td>\n",
       "      <td>5110</td>\n",
       "      <td>grandmaster</td>\n",
       "    </tr>\n",
       "    <tr>\n",
       "      <th>136</th>\n",
       "      <td>2484</td>\n",
       "      <td>2463</td>\n",
       "      <td>2473</td>\n",
       "      <td>21</td>\n",
       "      <td>4947</td>\n",
       "      <td>master</td>\n",
       "    </tr>\n",
       "    <tr>\n",
       "      <th>137</th>\n",
       "      <td>2597</td>\n",
       "      <td>2605</td>\n",
       "      <td>2601</td>\n",
       "      <td>-8</td>\n",
       "      <td>5202</td>\n",
       "      <td>grandmaster</td>\n",
       "    </tr>\n",
       "    <tr>\n",
       "      <th>184</th>\n",
       "      <td>2591</td>\n",
       "      <td>2590</td>\n",
       "      <td>2590</td>\n",
       "      <td>1</td>\n",
       "      <td>5181</td>\n",
       "      <td>grandmaster</td>\n",
       "    </tr>\n",
       "  </tbody>\n",
       "</table>\n",
       "</div>"
      ],
      "text/plain": [
       "     WhiteElo  BlackElo  MeanElos  DiffElos  SumElos        Class\n",
       "24       2413      2315      2364        98     4728       master\n",
       "127      2489      2621      2555      -132     5110  grandmaster\n",
       "136      2484      2463      2473        21     4947       master\n",
       "137      2597      2605      2601        -8     5202  grandmaster\n",
       "184      2591      2590      2590         1     5181  grandmaster"
      ]
     },
     "execution_count": 60,
     "metadata": {},
     "output_type": "execute_result"
    }
   ],
   "source": [
    "class_grandmaster=classes[classes=='grandmaster']\n",
    "elos_grandmaster=elos[elos.index.isin(class_grandmaster.index)]\n",
    "print(elos_grandmaster.shape)\n",
    "elos_grandmaster.head()"
   ]
  },
  {
   "cell_type": "code",
   "execution_count": 61,
   "metadata": {},
   "outputs": [
    {
     "name": "stdout",
     "output_type": "stream",
     "text": [
      "(1047, 224)\n"
     ]
    },
    {
     "data": {
      "text/html": [
       "<div>\n",
       "<style scoped>\n",
       "    .dataframe tbody tr th:only-of-type {\n",
       "        vertical-align: middle;\n",
       "    }\n",
       "\n",
       "    .dataframe tbody tr th {\n",
       "        vertical-align: top;\n",
       "    }\n",
       "\n",
       "    .dataframe thead th {\n",
       "        text-align: right;\n",
       "    }\n",
       "</style>\n",
       "<table border=\"1\" class=\"dataframe\">\n",
       "  <thead>\n",
       "    <tr style=\"text-align: right;\">\n",
       "      <th></th>\n",
       "      <th>0</th>\n",
       "      <th>1</th>\n",
       "      <th>2</th>\n",
       "      <th>3</th>\n",
       "      <th>4</th>\n",
       "      <th>5</th>\n",
       "      <th>6</th>\n",
       "      <th>7</th>\n",
       "      <th>8</th>\n",
       "      <th>9</th>\n",
       "      <th>...</th>\n",
       "      <th>214</th>\n",
       "      <th>215</th>\n",
       "      <th>216</th>\n",
       "      <th>217</th>\n",
       "      <th>218</th>\n",
       "      <th>219</th>\n",
       "      <th>220</th>\n",
       "      <th>221</th>\n",
       "      <th>222</th>\n",
       "      <th>223</th>\n",
       "    </tr>\n",
       "  </thead>\n",
       "  <tbody>\n",
       "    <tr>\n",
       "      <th>24</th>\n",
       "      <td>0.5</td>\n",
       "      <td>36.0</td>\n",
       "      <td>10.833333</td>\n",
       "      <td>0.0</td>\n",
       "      <td>0.0</td>\n",
       "      <td>72.0</td>\n",
       "      <td>-12.0</td>\n",
       "      <td>64.0</td>\n",
       "      <td>8.5</td>\n",
       "      <td>16.455327</td>\n",
       "      <td>...</td>\n",
       "      <td>0.0</td>\n",
       "      <td>0.0</td>\n",
       "      <td>0.0</td>\n",
       "      <td>4.0</td>\n",
       "      <td>0.0</td>\n",
       "      <td>0.0</td>\n",
       "      <td>1.0</td>\n",
       "      <td>1.0</td>\n",
       "      <td>0.0</td>\n",
       "      <td>0.0</td>\n",
       "    </tr>\n",
       "    <tr>\n",
       "      <th>127</th>\n",
       "      <td>0.5</td>\n",
       "      <td>41.0</td>\n",
       "      <td>13.666667</td>\n",
       "      <td>0.0</td>\n",
       "      <td>0.0</td>\n",
       "      <td>81.0</td>\n",
       "      <td>-26.0</td>\n",
       "      <td>63.0</td>\n",
       "      <td>12.0</td>\n",
       "      <td>21.044925</td>\n",
       "      <td>...</td>\n",
       "      <td>0.0</td>\n",
       "      <td>0.0</td>\n",
       "      <td>1.0</td>\n",
       "      <td>2.0</td>\n",
       "      <td>0.0</td>\n",
       "      <td>0.0</td>\n",
       "      <td>0.0</td>\n",
       "      <td>0.0</td>\n",
       "      <td>0.0</td>\n",
       "      <td>0.0</td>\n",
       "    </tr>\n",
       "    <tr>\n",
       "      <th>136</th>\n",
       "      <td>0.0</td>\n",
       "      <td>69.0</td>\n",
       "      <td>-120.386861</td>\n",
       "      <td>0.0</td>\n",
       "      <td>-11239.0</td>\n",
       "      <td>137.0</td>\n",
       "      <td>-11239.0</td>\n",
       "      <td>217.0</td>\n",
       "      <td>83.0</td>\n",
       "      <td>957.923837</td>\n",
       "      <td>...</td>\n",
       "      <td>0.0</td>\n",
       "      <td>1.0</td>\n",
       "      <td>0.0</td>\n",
       "      <td>2.0</td>\n",
       "      <td>1.0</td>\n",
       "      <td>0.0</td>\n",
       "      <td>0.0</td>\n",
       "      <td>3.0</td>\n",
       "      <td>0.0</td>\n",
       "      <td>0.0</td>\n",
       "    </tr>\n",
       "    <tr>\n",
       "      <th>137</th>\n",
       "      <td>0.5</td>\n",
       "      <td>31.0</td>\n",
       "      <td>20.721311</td>\n",
       "      <td>17.0</td>\n",
       "      <td>23.0</td>\n",
       "      <td>61.0</td>\n",
       "      <td>-4.0</td>\n",
       "      <td>49.0</td>\n",
       "      <td>19.0</td>\n",
       "      <td>12.659644</td>\n",
       "      <td>...</td>\n",
       "      <td>1.0</td>\n",
       "      <td>0.0</td>\n",
       "      <td>0.0</td>\n",
       "      <td>7.0</td>\n",
       "      <td>0.0</td>\n",
       "      <td>1.0</td>\n",
       "      <td>2.0</td>\n",
       "      <td>0.0</td>\n",
       "      <td>0.0</td>\n",
       "      <td>0.0</td>\n",
       "    </tr>\n",
       "    <tr>\n",
       "      <th>184</th>\n",
       "      <td>0.0</td>\n",
       "      <td>49.0</td>\n",
       "      <td>-56.500000</td>\n",
       "      <td>56.0</td>\n",
       "      <td>-562.0</td>\n",
       "      <td>98.0</td>\n",
       "      <td>-646.0</td>\n",
       "      <td>133.0</td>\n",
       "      <td>94.0</td>\n",
       "      <td>173.861677</td>\n",
       "      <td>...</td>\n",
       "      <td>1.0</td>\n",
       "      <td>0.0</td>\n",
       "      <td>1.0</td>\n",
       "      <td>5.0</td>\n",
       "      <td>0.0</td>\n",
       "      <td>0.0</td>\n",
       "      <td>1.0</td>\n",
       "      <td>2.0</td>\n",
       "      <td>0.0</td>\n",
       "      <td>0.0</td>\n",
       "    </tr>\n",
       "  </tbody>\n",
       "</table>\n",
       "<p>5 rows × 224 columns</p>\n",
       "</div>"
      ],
      "text/plain": [
       "       0     1           2     3        4      5        6      7     8  \\\n",
       "24   0.5  36.0   10.833333   0.0      0.0   72.0    -12.0   64.0   8.5   \n",
       "127  0.5  41.0   13.666667   0.0      0.0   81.0    -26.0   63.0  12.0   \n",
       "136  0.0  69.0 -120.386861   0.0 -11239.0  137.0 -11239.0  217.0  83.0   \n",
       "137  0.5  31.0   20.721311  17.0     23.0   61.0     -4.0   49.0  19.0   \n",
       "184  0.0  49.0  -56.500000  56.0   -562.0   98.0   -646.0  133.0  94.0   \n",
       "\n",
       "              9 ...   214  215  216  217  218  219  220  221  222  223  \n",
       "24    16.455327 ...   0.0  0.0  0.0  4.0  0.0  0.0  1.0  1.0  0.0  0.0  \n",
       "127   21.044925 ...   0.0  0.0  1.0  2.0  0.0  0.0  0.0  0.0  0.0  0.0  \n",
       "136  957.923837 ...   0.0  1.0  0.0  2.0  1.0  0.0  0.0  3.0  0.0  0.0  \n",
       "137   12.659644 ...   1.0  0.0  0.0  7.0  0.0  1.0  2.0  0.0  0.0  0.0  \n",
       "184  173.861677 ...   1.0  0.0  1.0  5.0  0.0  0.0  1.0  2.0  0.0  0.0  \n",
       "\n",
       "[5 rows x 224 columns]"
      ]
     },
     "execution_count": 61,
     "metadata": {},
     "output_type": "execute_result"
    }
   ],
   "source": [
    "features_grandmaster=features[features.index.isin(class_grandmaster.index)]\n",
    "print(features_grandmaster.shape)\n",
    "features_grandmaster.head()"
   ]
  },
  {
   "cell_type": "code",
   "execution_count": 62,
   "metadata": {},
   "outputs": [],
   "source": [
    "target_white_grandmaster=elos_grandmaster['WhiteElo']\n",
    "target_black_grandmaster=elos_grandmaster['BlackElo']\n",
    "target_mean_grandmaster=elos_grandmaster['MeanElos']\n",
    "target_diff_grandmaster=elos_grandmaster['DiffElos']\n",
    "target_sum_grandmaster=elos_grandmaster['SumElos']"
   ]
  },
  {
   "cell_type": "code",
   "execution_count": 63,
   "metadata": {},
   "outputs": [],
   "source": [
    "elos_grandmaster.to_csv(r'C:\\Users\\Asus\\PredictingRatings\\data\\elos_grandmaster.csv', sep=',',index=False)\n",
    "features_grandmaster.to_csv(r'C:\\Users\\Asus\\PredictingRatings\\data\\features_grandmaster.csv', sep=',',index=False)"
   ]
  },
  {
   "cell_type": "markdown",
   "metadata": {},
   "source": [
    "#### baseline"
   ]
  },
  {
   "cell_type": "code",
   "execution_count": 64,
   "metadata": {},
   "outputs": [
    {
     "name": "stdout",
     "output_type": "stream",
     "text": [
      "0.026 c\n"
     ]
    }
   ],
   "source": [
    "start8 = time.time()\n",
    "lr_mean_grandmaster= LinearRegression()\n",
    "lr_mean_grandmaster.fit(features_grandmaster, target_mean_grandmaster)\n",
    "lr_mean_pred_grandmaster = lr_mean_grandmaster.predict(features_grandmaster)\n",
    "full_time8=round(time.time() - start8,3)\n",
    "print(full_time8, 'c')"
   ]
  },
  {
   "cell_type": "code",
   "execution_count": 65,
   "metadata": {},
   "outputs": [
    {
     "data": {
      "image/png": "[encoded data removed]",
      "text/plain": [
       "<matplotlib.figure.Figure at 0x22782fe3fd0>"
      ]
     },
     "metadata": {},
     "output_type": "display_data"
    }
   ],
   "source": [
    "plt.figure(figsize=(8, 8))\n",
    "plt.scatter(lr_mean_pred_grandmaster,target_mean_grandmaster, color = 'b',alpha=0.5)\n",
    "plt.xlabel('Модель LR для гроссмейстеров - predictions')\n",
    "plt.ylabel('Средний рейтинг (target)')\n",
    "# Линия тренда\n",
    "z = np.polyfit(lr_mean_pred_grandmaster,target_mean_grandmaster, 1)\n",
    "p = np.poly1d(z)\n",
    "plt.plot(lr_mean_pred_grandmaster,p(lr_mean_pred_grandmaster),\"r\")\n",
    "plt.show()"
   ]
  },
  {
   "cell_type": "code",
   "execution_count": 66,
   "metadata": {},
   "outputs": [
    {
     "name": "stdout",
     "output_type": "stream",
     "text": [
      "MAE = 132.400\n",
      "RMSE = 179.034\n",
      "Correlation coefficient = 0.462\n"
     ]
    }
   ],
   "source": [
    "mae8=mae(target_mean_grandmaster,lr_mean_pred_grandmaster)\n",
    "print ('MAE = {:.3f}'.format(mae8))\n",
    "rmse8 = (mse(target_mean_grandmaster, lr_mean_pred_grandmaster))**0.5\n",
    "print ('RMSE = {:.3f}'.format(rmse8))\n",
    "corr_coef8 = pearsonr(target_mean_grandmaster, lr_mean_pred_grandmaster)\n",
    "print(\"Correlation coefficient = {:.3f}\".format(corr_coef8[0]))"
   ]
  },
  {
   "cell_type": "code",
   "execution_count": 67,
   "metadata": {},
   "outputs": [
    {
     "data": {
      "text/html": [
       "<div>\n",
       "<style scoped>\n",
       "    .dataframe tbody tr th:only-of-type {\n",
       "        vertical-align: middle;\n",
       "    }\n",
       "\n",
       "    .dataframe tbody tr th {\n",
       "        vertical-align: top;\n",
       "    }\n",
       "\n",
       "    .dataframe thead th {\n",
       "        text-align: right;\n",
       "    }\n",
       "</style>\n",
       "<table border=\"1\" class=\"dataframe\">\n",
       "  <thead>\n",
       "    <tr style=\"text-align: right;\">\n",
       "      <th></th>\n",
       "      <th>Модель</th>\n",
       "      <th>MAE</th>\n",
       "      <th>RMSE</th>\n",
       "      <th>Коэффициент корр. Пирсона</th>\n",
       "      <th>Время работы (c)</th>\n",
       "      <th>Комментарий</th>\n",
       "    </tr>\n",
       "  </thead>\n",
       "  <tbody>\n",
       "    <tr>\n",
       "      <th>0</th>\n",
       "      <td>LinearRegression(copy_X=True, fit_intercept=Tr...</td>\n",
       "      <td>185.454373</td>\n",
       "      <td>232.791414</td>\n",
       "      <td>0.272042</td>\n",
       "      <td>0.104</td>\n",
       "      <td>Обучение на среднем ЭЛО по начинающим</td>\n",
       "    </tr>\n",
       "    <tr>\n",
       "      <th>1</th>\n",
       "      <td>LinearRegression(copy_X=True, fit_intercept=Tr...</td>\n",
       "      <td>167.847740</td>\n",
       "      <td>213.396908</td>\n",
       "      <td>0.604164</td>\n",
       "      <td>0.117</td>\n",
       "      <td>Обучение на разнице ЭЛО по начинающим</td>\n",
       "    </tr>\n",
       "    <tr>\n",
       "      <th>2</th>\n",
       "      <td>LinearRegression(copy_X=True, fit_intercept=Tr...</td>\n",
       "      <td>148.774801</td>\n",
       "      <td>195.120413</td>\n",
       "      <td>0.195972</td>\n",
       "      <td>0.104</td>\n",
       "      <td>Обучение на среднем ЭЛО по средним игрокам</td>\n",
       "    </tr>\n",
       "    <tr>\n",
       "      <th>3</th>\n",
       "      <td>LinearRegression(copy_X=True, fit_intercept=Tr...</td>\n",
       "      <td>153.680899</td>\n",
       "      <td>194.776371</td>\n",
       "      <td>0.621906</td>\n",
       "      <td>0.105</td>\n",
       "      <td>Обучение на разнице в  ЭЛО по средним игрокам</td>\n",
       "    </tr>\n",
       "    <tr>\n",
       "      <th>4</th>\n",
       "      <td>LinearRegression(copy_X=True, fit_intercept=Tr...</td>\n",
       "      <td>144.547821</td>\n",
       "      <td>186.916248</td>\n",
       "      <td>0.211849</td>\n",
       "      <td>0.113</td>\n",
       "      <td>Обучение на среднем ЭЛО по мастерам</td>\n",
       "    </tr>\n",
       "    <tr>\n",
       "      <th>5</th>\n",
       "      <td>LinearRegression(copy_X=True, fit_intercept=Tr...</td>\n",
       "      <td>137.465903</td>\n",
       "      <td>174.230219</td>\n",
       "      <td>0.542416</td>\n",
       "      <td>0.120</td>\n",
       "      <td>Обучение на разнице в  ЭЛО по мастерам</td>\n",
       "    </tr>\n",
       "    <tr>\n",
       "      <th>6</th>\n",
       "      <td>LinearRegression(copy_X=True, fit_intercept=Tr...</td>\n",
       "      <td>132.400047</td>\n",
       "      <td>179.033987</td>\n",
       "      <td>0.462350</td>\n",
       "      <td>0.026</td>\n",
       "      <td>Обучение на среднем ЭЛО по гроссмейстерам</td>\n",
       "    </tr>\n",
       "  </tbody>\n",
       "</table>\n",
       "</div>"
      ],
      "text/plain": [
       "                                              Модель         MAE        RMSE  \\\n",
       "0  LinearRegression(copy_X=True, fit_intercept=Tr...  185.454373  232.791414   \n",
       "1  LinearRegression(copy_X=True, fit_intercept=Tr...  167.847740  213.396908   \n",
       "2  LinearRegression(copy_X=True, fit_intercept=Tr...  148.774801  195.120413   \n",
       "3  LinearRegression(copy_X=True, fit_intercept=Tr...  153.680899  194.776371   \n",
       "4  LinearRegression(copy_X=True, fit_intercept=Tr...  144.547821  186.916248   \n",
       "5  LinearRegression(copy_X=True, fit_intercept=Tr...  137.465903  174.230219   \n",
       "6  LinearRegression(copy_X=True, fit_intercept=Tr...  132.400047  179.033987   \n",
       "\n",
       "   Коэффициент корр. Пирсона  Время работы (c)  \\\n",
       "0                   0.272042             0.104   \n",
       "1                   0.604164             0.117   \n",
       "2                   0.195972             0.104   \n",
       "3                   0.621906             0.105   \n",
       "4                   0.211849             0.113   \n",
       "5                   0.542416             0.120   \n",
       "6                   0.462350             0.026   \n",
       "\n",
       "                                     Комментарий  \n",
       "0          Обучение на среднем ЭЛО по начинающим  \n",
       "1          Обучение на разнице ЭЛО по начинающим  \n",
       "2     Обучение на среднем ЭЛО по средним игрокам  \n",
       "3  Обучение на разнице в  ЭЛО по средним игрокам  \n",
       "4            Обучение на среднем ЭЛО по мастерам  \n",
       "5         Обучение на разнице в  ЭЛО по мастерам  \n",
       "6      Обучение на среднем ЭЛО по гроссмейстерам  "
      ]
     },
     "execution_count": 67,
     "metadata": {},
     "output_type": "execute_result"
    }
   ],
   "source": [
    "output = output.append(pd.Series([str(lr_mean_grandmaster), mae8,rmse8, \n",
    "                                  corr_coef8[0],full_time8,'Обучение на среднем ЭЛО по гроссмейстерам'],\n",
    "                                 index=output.columns ),\n",
    "                      ignore_index=True)\n",
    "\n",
    "output.to_excel(r'C:\\Users\\Asus\\PredictingRatings\\models\\class_results.xlsx',index=False)\n",
    "\n",
    "output"
   ]
  },
  {
   "cell_type": "code",
   "execution_count": 68,
   "metadata": {},
   "outputs": [
    {
     "name": "stdout",
     "output_type": "stream",
     "text": [
      "0.03 c\n"
     ]
    }
   ],
   "source": [
    "start9 = time.time()\n",
    "lr_diff_grandmaster= LinearRegression()\n",
    "lr_diff_grandmaster.fit(features_grandmaster, target_diff_grandmaster)\n",
    "lr_diff_pred_grandmaster = lr_diff_grandmaster.predict(features_grandmaster)\n",
    "full_time9=round(time.time() - start9,3)\n",
    "print(full_time9, 'c')"
   ]
  },
  {
   "cell_type": "code",
   "execution_count": 69,
   "metadata": {},
   "outputs": [
    {
     "data": {
      "image/png": "[encoded data removed]",
      "text/plain": [
       "<matplotlib.figure.Figure at 0x22784957198>"
      ]
     },
     "metadata": {},
     "output_type": "display_data"
    }
   ],
   "source": [
    "plt.figure(figsize=(8, 8))\n",
    "plt.scatter(lr_diff_pred_avg,target_diff_avg, color = 'b',alpha=0.5)\n",
    "plt.xlabel('Модель LR для средних игроков - predictions')\n",
    "plt.ylabel('Разница в рейтинге (target)')\n",
    "# Линия тренда\n",
    "z = np.polyfit(lr_diff_pred_avg,target_diff_avg, 1)\n",
    "p = np.poly1d(z)\n",
    "plt.plot(lr_diff_pred_avg,p(lr_diff_pred_avg),\"r\")\n",
    "plt.show()"
   ]
  },
  {
   "cell_type": "code",
   "execution_count": 70,
   "metadata": {},
   "outputs": [
    {
     "name": "stdout",
     "output_type": "stream",
     "text": [
      "MAE = 137.466\n",
      "RMSE = 120.574\n",
      "Correlation coefficient = 0.523\n"
     ]
    }
   ],
   "source": [
    "mae9=mae(target_diff_grandmaster,lr_diff_pred_grandmaster)\n",
    "print ('MAE = {:.3f}'.format(mae7))\n",
    "rmse9 = (mse(target_diff_grandmaster, lr_diff_pred_grandmaster))**0.5\n",
    "print ('RMSE = {:.3f}'.format(rmse9))\n",
    "corr_coef9 = pearsonr(target_diff_grandmaster, lr_diff_pred_grandmaster)\n",
    "print(\"Correlation coefficient = {:.3f}\".format(corr_coef9[0]))"
   ]
  },
  {
   "cell_type": "code",
   "execution_count": 71,
   "metadata": {},
   "outputs": [
    {
     "data": {
      "text/html": [
       "<div>\n",
       "<style scoped>\n",
       "    .dataframe tbody tr th:only-of-type {\n",
       "        vertical-align: middle;\n",
       "    }\n",
       "\n",
       "    .dataframe tbody tr th {\n",
       "        vertical-align: top;\n",
       "    }\n",
       "\n",
       "    .dataframe thead th {\n",
       "        text-align: right;\n",
       "    }\n",
       "</style>\n",
       "<table border=\"1\" class=\"dataframe\">\n",
       "  <thead>\n",
       "    <tr style=\"text-align: right;\">\n",
       "      <th></th>\n",
       "      <th>Модель</th>\n",
       "      <th>MAE</th>\n",
       "      <th>RMSE</th>\n",
       "      <th>Коэффициент корр. Пирсона</th>\n",
       "      <th>Время работы (c)</th>\n",
       "      <th>Комментарий</th>\n",
       "    </tr>\n",
       "  </thead>\n",
       "  <tbody>\n",
       "    <tr>\n",
       "      <th>0</th>\n",
       "      <td>LinearRegression(copy_X=True, fit_intercept=Tr...</td>\n",
       "      <td>185.454373</td>\n",
       "      <td>232.791414</td>\n",
       "      <td>0.272042</td>\n",
       "      <td>0.104</td>\n",
       "      <td>Обучение на среднем ЭЛО по начинающим</td>\n",
       "    </tr>\n",
       "    <tr>\n",
       "      <th>1</th>\n",
       "      <td>LinearRegression(copy_X=True, fit_intercept=Tr...</td>\n",
       "      <td>167.847740</td>\n",
       "      <td>213.396908</td>\n",
       "      <td>0.604164</td>\n",
       "      <td>0.117</td>\n",
       "      <td>Обучение на разнице ЭЛО по начинающим</td>\n",
       "    </tr>\n",
       "    <tr>\n",
       "      <th>2</th>\n",
       "      <td>LinearRegression(copy_X=True, fit_intercept=Tr...</td>\n",
       "      <td>148.774801</td>\n",
       "      <td>195.120413</td>\n",
       "      <td>0.195972</td>\n",
       "      <td>0.104</td>\n",
       "      <td>Обучение на среднем ЭЛО по средним игрокам</td>\n",
       "    </tr>\n",
       "    <tr>\n",
       "      <th>3</th>\n",
       "      <td>LinearRegression(copy_X=True, fit_intercept=Tr...</td>\n",
       "      <td>153.680899</td>\n",
       "      <td>194.776371</td>\n",
       "      <td>0.621906</td>\n",
       "      <td>0.105</td>\n",
       "      <td>Обучение на разнице в  ЭЛО по средним игрокам</td>\n",
       "    </tr>\n",
       "    <tr>\n",
       "      <th>4</th>\n",
       "      <td>LinearRegression(copy_X=True, fit_intercept=Tr...</td>\n",
       "      <td>144.547821</td>\n",
       "      <td>186.916248</td>\n",
       "      <td>0.211849</td>\n",
       "      <td>0.113</td>\n",
       "      <td>Обучение на среднем ЭЛО по мастерам</td>\n",
       "    </tr>\n",
       "    <tr>\n",
       "      <th>5</th>\n",
       "      <td>LinearRegression(copy_X=True, fit_intercept=Tr...</td>\n",
       "      <td>137.465903</td>\n",
       "      <td>174.230219</td>\n",
       "      <td>0.542416</td>\n",
       "      <td>0.120</td>\n",
       "      <td>Обучение на разнице в  ЭЛО по мастерам</td>\n",
       "    </tr>\n",
       "    <tr>\n",
       "      <th>6</th>\n",
       "      <td>LinearRegression(copy_X=True, fit_intercept=Tr...</td>\n",
       "      <td>132.400047</td>\n",
       "      <td>179.033987</td>\n",
       "      <td>0.462350</td>\n",
       "      <td>0.026</td>\n",
       "      <td>Обучение на среднем ЭЛО по гроссмейстерам</td>\n",
       "    </tr>\n",
       "    <tr>\n",
       "      <th>7</th>\n",
       "      <td>LinearRegression(copy_X=True, fit_intercept=Tr...</td>\n",
       "      <td>91.863665</td>\n",
       "      <td>120.573687</td>\n",
       "      <td>0.523059</td>\n",
       "      <td>0.030</td>\n",
       "      <td>Обучение на разнице в  ЭЛО по гроссмейстерам</td>\n",
       "    </tr>\n",
       "  </tbody>\n",
       "</table>\n",
       "</div>"
      ],
      "text/plain": [
       "                                              Модель         MAE        RMSE  \\\n",
       "0  LinearRegression(copy_X=True, fit_intercept=Tr...  185.454373  232.791414   \n",
       "1  LinearRegression(copy_X=True, fit_intercept=Tr...  167.847740  213.396908   \n",
       "2  LinearRegression(copy_X=True, fit_intercept=Tr...  148.774801  195.120413   \n",
       "3  LinearRegression(copy_X=True, fit_intercept=Tr...  153.680899  194.776371   \n",
       "4  LinearRegression(copy_X=True, fit_intercept=Tr...  144.547821  186.916248   \n",
       "5  LinearRegression(copy_X=True, fit_intercept=Tr...  137.465903  174.230219   \n",
       "6  LinearRegression(copy_X=True, fit_intercept=Tr...  132.400047  179.033987   \n",
       "7  LinearRegression(copy_X=True, fit_intercept=Tr...   91.863665  120.573687   \n",
       "\n",
       "   Коэффициент корр. Пирсона  Время работы (c)  \\\n",
       "0                   0.272042             0.104   \n",
       "1                   0.604164             0.117   \n",
       "2                   0.195972             0.104   \n",
       "3                   0.621906             0.105   \n",
       "4                   0.211849             0.113   \n",
       "5                   0.542416             0.120   \n",
       "6                   0.462350             0.026   \n",
       "7                   0.523059             0.030   \n",
       "\n",
       "                                     Комментарий  \n",
       "0          Обучение на среднем ЭЛО по начинающим  \n",
       "1          Обучение на разнице ЭЛО по начинающим  \n",
       "2     Обучение на среднем ЭЛО по средним игрокам  \n",
       "3  Обучение на разнице в  ЭЛО по средним игрокам  \n",
       "4            Обучение на среднем ЭЛО по мастерам  \n",
       "5         Обучение на разнице в  ЭЛО по мастерам  \n",
       "6      Обучение на среднем ЭЛО по гроссмейстерам  \n",
       "7   Обучение на разнице в  ЭЛО по гроссмейстерам  "
      ]
     },
     "execution_count": 71,
     "metadata": {},
     "output_type": "execute_result"
    }
   ],
   "source": [
    "output = output.append(pd.Series([str(lr_diff_grandmaster), mae9,rmse9, \n",
    "                                  corr_coef9[0],full_time9,'Обучение на разнице в  ЭЛО по гроссмейстерам'],\n",
    "                                 index=output.columns ),\n",
    "                      ignore_index=True)\n",
    "\n",
    "output.to_excel(r'C:\\Users\\Asus\\PredictingRatings\\models\\class_results.xlsx',index=False)\n",
    "\n",
    "output"
   ]
  },
  {
   "cell_type": "code",
   "execution_count": 72,
   "metadata": {
    "scrolled": true
   },
   "outputs": [
    {
     "name": "stdout",
     "output_type": "stream",
     "text": [
      "1047\n"
     ]
    },
    {
     "data": {
      "text/plain": [
       "[(2353.9211208038764, 2361.0746964063324),\n",
       " (2370.94758170398, 2278.4035604759692),\n",
       " (2581.743621809488, 2469.574900280144),\n",
       " (2392.4122584844094, 2377.8058538818445),\n",
       " (2464.5771821270637, 2508.0928124808015)]"
      ]
     },
     "execution_count": 72,
     "metadata": {},
     "output_type": "execute_result"
    }
   ],
   "source": [
    "white_elos_grandmaster = lr_mean_pred_grandmaster + lr_diff_pred_grandmaster/2\n",
    "black_elos_grandmaster = lr_mean_pred_grandmaster-lr_diff_pred_grandmaster/2\n",
    "pred_elos4=list(zip(white_elos_grandmaster,black_elos_grandmaster))\n",
    "print(len(pred_elos4))\n",
    "pred_elos4[:5]"
   ]
  },
  {
   "cell_type": "code",
   "execution_count": 73,
   "metadata": {},
   "outputs": [
    {
     "data": {
      "text/plain": [
       "(293357.584, 140.094, 188.908)"
      ]
     },
     "execution_count": 73,
     "metadata": {},
     "output_type": "execute_result"
    }
   ],
   "source": [
    "find_abs_error(pred_elos4,elos_grandmaster),find_mean_error(pred_elos4,elos_grandmaster),find_root_mean_squared_error(pred_elos4,elos_grandmaster)"
   ]
  },
  {
   "cell_type": "code",
   "execution_count": 74,
   "metadata": {},
   "outputs": [
    {
     "data": {
      "text/html": [
       "<div>\n",
       "<style scoped>\n",
       "    .dataframe tbody tr th:only-of-type {\n",
       "        vertical-align: middle;\n",
       "    }\n",
       "\n",
       "    .dataframe tbody tr th {\n",
       "        vertical-align: top;\n",
       "    }\n",
       "\n",
       "    .dataframe thead th {\n",
       "        text-align: right;\n",
       "    }\n",
       "</style>\n",
       "<table border=\"1\" class=\"dataframe\">\n",
       "  <thead>\n",
       "    <tr style=\"text-align: right;\">\n",
       "      <th></th>\n",
       "      <th>Группа</th>\n",
       "      <th>Модель</th>\n",
       "      <th>Абсолютная ошибка</th>\n",
       "      <th>MAE</th>\n",
       "      <th>RMSE</th>\n",
       "    </tr>\n",
       "  </thead>\n",
       "  <tbody>\n",
       "    <tr>\n",
       "      <th>0</th>\n",
       "      <td>Слабые игроки</td>\n",
       "      <td>LinearRegression</td>\n",
       "      <td>2636123.624</td>\n",
       "      <td>204.414</td>\n",
       "      <td>256.080</td>\n",
       "    </tr>\n",
       "    <tr>\n",
       "      <th>1</th>\n",
       "      <td>Средние игроки</td>\n",
       "      <td>LinearRegression</td>\n",
       "      <td>2422902.489</td>\n",
       "      <td>171.061</td>\n",
       "      <td>218.080</td>\n",
       "    </tr>\n",
       "    <tr>\n",
       "      <th>2</th>\n",
       "      <td>Мастера</td>\n",
       "      <td>LinearRegression</td>\n",
       "      <td>3121463.524</td>\n",
       "      <td>161.266</td>\n",
       "      <td>206.223</td>\n",
       "    </tr>\n",
       "    <tr>\n",
       "      <th>3</th>\n",
       "      <td>Гроссмейстеры</td>\n",
       "      <td>LinearRegression</td>\n",
       "      <td>293357.584</td>\n",
       "      <td>140.094</td>\n",
       "      <td>188.908</td>\n",
       "    </tr>\n",
       "  </tbody>\n",
       "</table>\n",
       "</div>"
      ],
      "text/plain": [
       "           Группа            Модель  Абсолютная ошибка      MAE     RMSE\n",
       "0   Слабые игроки  LinearRegression        2636123.624  204.414  256.080\n",
       "1  Средние игроки  LinearRegression        2422902.489  171.061  218.080\n",
       "2         Мастера  LinearRegression        3121463.524  161.266  206.223\n",
       "3   Гроссмейстеры  LinearRegression         293357.584  140.094  188.908"
      ]
     },
     "execution_count": 74,
     "metadata": {},
     "output_type": "execute_result"
    }
   ],
   "source": [
    "errors = errors.append(pd.Series(['Гроссмейстеры','LinearRegression',\n",
    "                  find_abs_error(pred_elos4,elos_grandmaster),\n",
    "                  find_mean_error(pred_elos4,elos_grandmaster),\n",
    "                   find_root_mean_squared_error(pred_elos4,elos_grandmaster)],index=errors.columns) ,ignore_index=True)\n",
    "\n",
    "errors.to_excel(r'C:\\Users\\Asus\\PredictingRatings\\models\\class_errors.xlsx',index=False)\n",
    "errors"
   ]
  },
  {
   "cell_type": "code",
   "execution_count": 75,
   "metadata": {},
   "outputs": [],
   "source": [
    "inner_mae_grandmaster=find_mean_error(pred_elos4,elos_grandmaster)"
   ]
  },
  {
   "cell_type": "code",
   "execution_count": 76,
   "metadata": {},
   "outputs": [
    {
     "data": {
      "text/plain": [
       "169.20875"
      ]
     },
     "execution_count": 76,
     "metadata": {},
     "output_type": "execute_result"
    }
   ],
   "source": [
    "lr_mae=(inner_mae_grandmaster+inner_mae_master+inner_mae_avg+inner_mae_novice)/4\n",
    "lr_mae"
   ]
  },
  {
   "cell_type": "code",
   "execution_count": 77,
   "metadata": {},
   "outputs": [
    {
     "data": {
      "text/plain": [
       "2118461.80525"
      ]
     },
     "execution_count": 77,
     "metadata": {},
     "output_type": "execute_result"
    }
   ],
   "source": [
    "lr_abs=(find_abs_error(pred_elos1,elos_novice)+\n",
    "        find_abs_error(pred_elos2,elos_avg)+\n",
    "        find_abs_error(pred_elos3,elos_master)+\n",
    "        find_abs_error(pred_elos4,elos_grandmaster))/4\n",
    "lr_abs"
   ]
  },
  {
   "cell_type": "code",
   "execution_count": 78,
   "metadata": {},
   "outputs": [
    {
     "data": {
      "text/plain": [
       "217.32275"
      ]
     },
     "execution_count": 78,
     "metadata": {},
     "output_type": "execute_result"
    }
   ],
   "source": [
    "lr_rmse=(find_root_mean_squared_error(pred_elos1,elos_novice)+\n",
    "         find_root_mean_squared_error(pred_elos2,elos_avg)+\n",
    "         find_root_mean_squared_error(pred_elos3,elos_master)+\n",
    "         find_root_mean_squared_error(pred_elos4,elos_grandmaster))/4\n",
    "lr_rmse"
   ]
  },
  {
   "cell_type": "code",
   "execution_count": 79,
   "metadata": {},
   "outputs": [
    {
     "data": {
      "text/html": [
       "<div>\n",
       "<style scoped>\n",
       "    .dataframe tbody tr th:only-of-type {\n",
       "        vertical-align: middle;\n",
       "    }\n",
       "\n",
       "    .dataframe tbody tr th {\n",
       "        vertical-align: top;\n",
       "    }\n",
       "\n",
       "    .dataframe thead th {\n",
       "        text-align: right;\n",
       "    }\n",
       "</style>\n",
       "<table border=\"1\" class=\"dataframe\">\n",
       "  <thead>\n",
       "    <tr style=\"text-align: right;\">\n",
       "      <th></th>\n",
       "      <th>Группа</th>\n",
       "      <th>Модель</th>\n",
       "      <th>Абсолютная ошибка</th>\n",
       "      <th>MAE</th>\n",
       "      <th>RMSE</th>\n",
       "    </tr>\n",
       "  </thead>\n",
       "  <tbody>\n",
       "    <tr>\n",
       "      <th>0</th>\n",
       "      <td>Слабые игроки</td>\n",
       "      <td>LinearRegression</td>\n",
       "      <td>2.636124e+06</td>\n",
       "      <td>204.41400</td>\n",
       "      <td>256.08000</td>\n",
       "    </tr>\n",
       "    <tr>\n",
       "      <th>1</th>\n",
       "      <td>Средние игроки</td>\n",
       "      <td>LinearRegression</td>\n",
       "      <td>2.422902e+06</td>\n",
       "      <td>171.06100</td>\n",
       "      <td>218.08000</td>\n",
       "    </tr>\n",
       "    <tr>\n",
       "      <th>2</th>\n",
       "      <td>Мастера</td>\n",
       "      <td>LinearRegression</td>\n",
       "      <td>3.121464e+06</td>\n",
       "      <td>161.26600</td>\n",
       "      <td>206.22300</td>\n",
       "    </tr>\n",
       "    <tr>\n",
       "      <th>3</th>\n",
       "      <td>Гроссмейстеры</td>\n",
       "      <td>LinearRegression</td>\n",
       "      <td>2.933576e+05</td>\n",
       "      <td>140.09400</td>\n",
       "      <td>188.90800</td>\n",
       "    </tr>\n",
       "    <tr>\n",
       "      <th>4</th>\n",
       "      <td>Общая ошибка</td>\n",
       "      <td>LinearRegression</td>\n",
       "      <td>2.118462e+06</td>\n",
       "      <td>169.20875</td>\n",
       "      <td>217.32275</td>\n",
       "    </tr>\n",
       "  </tbody>\n",
       "</table>\n",
       "</div>"
      ],
      "text/plain": [
       "           Группа            Модель  Абсолютная ошибка        MAE       RMSE\n",
       "0   Слабые игроки  LinearRegression       2.636124e+06  204.41400  256.08000\n",
       "1  Средние игроки  LinearRegression       2.422902e+06  171.06100  218.08000\n",
       "2         Мастера  LinearRegression       3.121464e+06  161.26600  206.22300\n",
       "3   Гроссмейстеры  LinearRegression       2.933576e+05  140.09400  188.90800\n",
       "4    Общая ошибка  LinearRegression       2.118462e+06  169.20875  217.32275"
      ]
     },
     "execution_count": 79,
     "metadata": {},
     "output_type": "execute_result"
    }
   ],
   "source": [
    "errors = errors.append(pd.Series(['Общая ошибка','LinearRegression',\n",
    "                  lr_abs,\n",
    "                  lr_mae,\n",
    "                lr_rmse],index=errors.columns) ,ignore_index=True)\n",
    "\n",
    "errors.to_excel(r'C:\\Users\\Asus\\PredictingRatings\\models\\class_errors.xlsx',index=False)\n",
    "errors"
   ]
  },
  {
   "cell_type": "code",
   "execution_count": null,
   "metadata": {},
   "outputs": [],
   "source": []
  }
 ],
 "metadata": {
  "kernelspec": {
   "display_name": "Python 3",
   "language": "python",
   "name": "python3"
  },
  "language_info": {
   "codemirror_mode": {
    "name": "ipython",
    "version": 3
   },
   "file_extension": ".py",
   "mimetype": "text/x-python",
   "name": "python",
   "nbconvert_exporter": "python",
   "pygments_lexer": "ipython3",
   "version": "3.6.4"
  }
 },
 "nbformat": 4,
 "nbformat_minor": 2
}
