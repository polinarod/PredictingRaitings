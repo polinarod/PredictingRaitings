{
 "cells": [
  {
   "cell_type": "code",
   "execution_count": null,
   "metadata": {},
   "outputs": [],
   "source": [
    "%matplotlib inline\n",
    "import pandas as pd\n",
    "import matplotlib.pyplot as plt\n",
    "import numpy as np\n",
    "import time\n",
    "import pickle\n",
    "from sklearn.metrics import mean_absolute_error as mae\n",
    "from sklearn.metrics import mean_squared_error as mse\n",
    "from sklearn.svm import SVR\n",
    "from sklearn import model_selection as ms\n",
    "from scipy.stats import pearsonr\n",
    "from sklearn.metrics import make_scorer\n",
    "from sklearn import metrics\n",
    "from sklearn.feature_selection import VarianceThreshold\n",
    "\n",
    "rand_st=4"
   ]
  },
  {
   "cell_type": "code",
   "execution_count": null,
   "metadata": {},
   "outputs": [],
   "source": [
    "output=pd.read_excel(r'C:\\Users\\Asus\\PredictingRatings\\models\\class_results.xlsx')\n",
    "errors=pd.read_excel(r'C:\\Users\\Asus\\PredictingRatings\\models\\class_errors.xlsx')"
   ]
  },
  {
   "cell_type": "code",
   "execution_count": null,
   "metadata": {},
   "outputs": [],
   "source": [
    "elos_1=pd.read_csv(r'C:\\Users\\Asus\\PredictingRatings\\data\\elos1.csv')\n",
    "elos_2=pd.read_csv(r'C:\\Users\\Asus\\PredictingRatings\\data\\elos2.csv')\n",
    "elos_3=pd.read_csv(r'C:\\Users\\Asus\\PredictingRatings\\data\\elos3.csv')\n",
    "elos_4=pd.read_csv(r'C:\\Users\\Asus\\PredictingRatings\\data\\elos4.csv')\n",
    "features_1=pd.read_csv(r'C:\\Users\\Asus\\PredictingRatings\\data\\features1.csv')\n",
    "features_3=pd.read_csv(r'C:\\Users\\Asus\\PredictingRatings\\data\\features3.csv')\n",
    "features_2=pd.read_csv(r'C:\\Users\\Asus\\PredictingRatings\\data\\features2.csv')\n",
    "features_4=pd.read_csv(r'C:\\Users\\Asus\\PredictingRatings\\data\\features4.csv')"
   ]
  },
  {
   "cell_type": "code",
   "execution_count": null,
   "metadata": {},
   "outputs": [],
   "source": [
    "X_train_mean_1, X_test_mean_1, Y_train_mean_1, Y_test_mean_1 =ms.train_test_split(features_1, elos_1['MeanElos'], test_size = 0.3,random_state=rand_st)\n",
    "X_train_diff_1, X_test_diff_1, Y_train_diff_1, Y_test_diff_1 =ms.train_test_split(features_1, elos_1['DiffElos'], test_size = 0.3,random_state=rand_st)\n",
    "\n",
    "X_train_mean_2, X_test_mean_2, Y_train_mean_2, Y_test_mean_2 =ms.train_test_split(features_2, elos_2['MeanElos'], test_size = 0.3,random_state=rand_st)\n",
    "X_train_diff_2, X_test_diff_2, Y_train_diff_2, Y_test_diff_2 =ms.train_test_split(features_2, elos_2['DiffElos'], test_size = 0.3,random_state=rand_st)\n",
    "\n",
    "X_train_mean_3, X_test_mean_3, Y_train_mean_3, Y_test_mean_3 =ms.train_test_split(features_3, elos_3['MeanElos'], test_size = 0.3,random_state=rand_st)\n",
    "X_train_diff_3, X_test_diff_3, Y_train_diff_3, Y_test_diff_3 =ms.train_test_split(features_3, elos_3['DiffElos'], test_size = 0.3,random_state=rand_st)\n",
    "\n",
    "X_train_mean_4, X_test_mean_4, Y_train_mean_4, Y_test_mean_4 =ms.train_test_split(features_4, elos_4['MeanElos'], test_size = 0.3,random_state=rand_st)\n",
    "X_train_diff_4, X_test_diff_4, Y_train_diff_4, Y_test_diff_4 =ms.train_test_split(features_4, elos_4['DiffElos'], test_size = 0.3,random_state=rand_st)"
   ]
  },
  {
   "cell_type": "code",
   "execution_count": null,
   "metadata": {},
   "outputs": [],
   "source": [
    "model_mean=SVR(C=1.0, cache_size=200, coef0=0.0, degree=3, epsilon=0.1, gamma='auto',\n",
    "              kernel='rbf', max_iter=-1, shrinking=True, tol=0.001, verbose=False)\n",
    "\n",
    "model_diff=SVR(C=1.0, cache_size=200, coef0=0.0, degree=3, epsilon=0.1, gamma='auto',\n",
    "          kernel='rbf', max_iter=-1, shrinking=True, tol=0.001, verbose=False)\n",
    "\n",
    "svm_params =[{'kernel':['poly'],'degree':[2,3,4,5],'gamma':[0,1e-2, 1e-4,1e-6],'C':[0.001,0.01,0.1,1,10,100]},\n",
    "            {'kernel':['rbf','sigmoid'],'gamma':[0,1e-2, 1e-4,1e-6],'C':[0.001,0.01,0.1,1,10,100]},\n",
    "            {'kernel':['linear'],'C':[0.001,0.01,0.1,1,10,100]}]"
   ]
  },
  {
   "cell_type": "code",
   "execution_count": null,
   "metadata": {},
   "outputs": [],
   "source": [
    "def find_mean_error(pred,elos):\n",
    "    er=0\n",
    "    count=0\n",
    "    for ind, val in enumerate(pred):\n",
    "        er+=abs(elos.iloc[ind,0]-val[0])\n",
    "        er+=abs(elos.iloc[ind,1]-val[1])\n",
    "        count+=2\n",
    "    return round(er/count,3)\n",
    "\n",
    "def find_abs_error(pred,elos):\n",
    "    er=0\n",
    "    for ind, val in enumerate(pred):\n",
    "        er+=abs(elos.iloc[ind,0]-val[0])\n",
    "        er+=abs(elos.iloc[ind,1]-val[1])\n",
    "    return round(er,3)\n",
    "\n",
    "def find_root_mean_squared_error(pred,elos):\n",
    "    er=0\n",
    "    count=0\n",
    "    for ind, val in enumerate(pred):\n",
    "        er+=(elos.iloc[ind,0]-val[0])**2\n",
    "        er+=(elos.iloc[ind,1]-val[1])**2\n",
    "        count+=2\n",
    "    return round((er/count)**0.5,3)"
   ]
  },
  {
   "cell_type": "code",
   "execution_count": null,
   "metadata": {},
   "outputs": [],
   "source": [
    "def predictions_report(pred_target,predictions):\n",
    "    mae_report=mae(pred_target,predictions)\n",
    "    print ('MAE = {:.3f}'.format(mae_report))\n",
    "    \n",
    "    rmse_report = (mse(pred_target, predictions))**0.5\n",
    "    print ('RMSE = {:.3f}'.format(rmse_report))\n",
    "    \n",
    "    corr_coef = pearsonr(pred_target,predictions)\n",
    "    print(\"Correlation coefficient = {:.3f}\".format(corr_coef[0]))\n",
    "    \n",
    "    return (mae_report,rmse_report,corr_coef)"
   ]
  },
  {
   "cell_type": "code",
   "execution_count": null,
   "metadata": {},
   "outputs": [],
   "source": [
    "def GridTune(params,classifiers,folds,X_train,Y_train):\n",
    "    fscore = metrics.make_scorer(metrics.f1_score, average='weighted',greater_is_better=True)\n",
    "    \n",
    "    grid = ms.GridSearchCV(classifiers,\n",
    "                           params,  # настройка параметров через кросс-валидацию\n",
    "                           refit=True,    # переобучение по лучшим найденным параметрам   \n",
    "                           scoring=fscore,\n",
    "                           n_jobs=-1,\n",
    "                           cv=ms.StratifiedKFold(n_splits=folds))\n",
    "    \n",
    "    grid_best_model = grid.fit(X_train,Y_train)\n",
    "\n",
    "    print(\"Лучшие параметры для F-меры:\")\n",
    "    print(grid_best_model.best_params_)\n",
    "    print('\\nЛучший алгоритм:')\n",
    "    print(grid_best_model.best_estimator_)\n",
    "    return grid_best_model"
   ]
  },
  {
   "cell_type": "markdown",
   "metadata": {},
   "source": [
    "### Подбор модели для 1 кластера"
   ]
  },
  {
   "cell_type": "code",
   "execution_count": null,
   "metadata": {},
   "outputs": [],
   "source": [
    "start1 = time.time()\n",
    "\n",
    "svr1=SVR(random_state=rand_st)\n",
    "svm_model1=GridTune(svm_params,svr1,5,X_train_mean_1,Y_train_mean_1)\n",
    "svm_pred1=svm_model1.predict(X_test_mean_1)\n",
    "scores1=predictions_report(Y_test_mean_1,svr_pred1)\n",
    "full_time1=round(time.time() - start1,3)\n",
    "print(full_time1, 'c')"
   ]
  },
  {
   "cell_type": "code",
   "execution_count": null,
   "metadata": {},
   "outputs": [],
   "source": [
    "output = output.append(pd.Series([str(model_mean),\n",
    "                                 scores1[0],scores1[1], \n",
    "                                 scores1[2][0],full_time1,'Обучение на среднем ЭЛО по 1 кластеру'],\n",
    "                                 index=output.columns ),\n",
    "                      ignore_index=True)\n",
    "\n",
    "\n",
    "output.to_excel(r'C:\\Users\\Asus\\PredictingRatings\\models\\class_results.xlsx',index=False)\n",
    "output"
   ]
  },
  {
   "cell_type": "code",
   "execution_count": null,
   "metadata": {},
   "outputs": [],
   "source": [
    "start2 = time.time()\n",
    "\n",
    "svr2=model_diff.fit(X_train_diff_1,Y_train_diff_1)\n",
    "svr_pred2=svr2.predict(X_test_mean_1)\n",
    "scores2=predictions_report(Y_test_diff_1,svr_pred2)\n",
    "full_time2=round(time.time() - start2,3)\n",
    "print(full_time2, 'c')"
   ]
  },
  {
   "cell_type": "code",
   "execution_count": null,
   "metadata": {},
   "outputs": [],
   "source": [
    "output = output.append(pd.Series([str(model_diff),\n",
    "                                 scores2[0],scores2[1], \n",
    "                                 scores2[2][0],full_time2,'Обучение на разнице ЭЛО по 1 кластеру'],\n",
    "                                 index=output.columns ),\n",
    "                      ignore_index=True)\n",
    "\n",
    "\n",
    "output"
   ]
  },
  {
   "cell_type": "code",
   "execution_count": null,
   "metadata": {},
   "outputs": [],
   "source": [
    "output.to_excel(r'C:\\Users\\Asus\\PredictingRatings\\models\\class_results.xlsx',index=False)"
   ]
  },
  {
   "cell_type": "code",
   "execution_count": null,
   "metadata": {
    "scrolled": true
   },
   "outputs": [],
   "source": [
    "white_elos_1 = svr_pred1 + svr_pred2/2\n",
    "black_elos_1 = svr_pred1-svr_pred2/2\n",
    "pred_elos1=list(zip(white_elos_1,black_elos_1))\n",
    "print(len(pred_elos1))\n",
    "pred_elos1[:5]"
   ]
  },
  {
   "cell_type": "code",
   "execution_count": null,
   "metadata": {},
   "outputs": [],
   "source": [
    "find_abs_error(pred_elos1,elos_1),find_mean_error(pred_elos1,elos_1),find_root_mean_squared_error(pred_elos1,elos_1)"
   ]
  },
  {
   "cell_type": "code",
   "execution_count": null,
   "metadata": {},
   "outputs": [],
   "source": [
    "inner_mae_1=find_mean_error(pred_elos1,elos_1)"
   ]
  },
  {
   "cell_type": "code",
   "execution_count": null,
   "metadata": {},
   "outputs": [],
   "source": [
    "errors =errors.append(pd.Series(['1 кластер','SVM',\n",
    "                  find_abs_error(pred_elos1,elos_1),\n",
    "                  find_mean_error(pred_elos1,elos_1),\n",
    "                   find_root_mean_squared_error(pred_elos1,elos_1) ],\n",
    "                                   index=errors.columns ),\n",
    "                      ignore_index=True)\n",
    "\n",
    "errors.to_excel(r'C:\\Users\\Asus\\PredictingRatings\\models\\class_errors.xlsx',index=False)\n",
    "errors"
   ]
  },
  {
   "cell_type": "code",
   "execution_count": null,
   "metadata": {},
   "outputs": [],
   "source": [
    "errors.to_excel(r'C:\\Users\\Asus\\PredictingRatings\\models\\class_errors.xlsx',index=False)"
   ]
  },
  {
   "cell_type": "markdown",
   "metadata": {},
   "source": [
    "### Подбор модели для 2 кластера"
   ]
  },
  {
   "cell_type": "code",
   "execution_count": null,
   "metadata": {},
   "outputs": [],
   "source": [
    "start3 = time.time()\n",
    "\n",
    "svr3=model_mean.fit(X_train_mean_2,Y_train_mean_2)\n",
    "svr_pred3=svr3.predict(X_test_mean_2)\n",
    "scores3=predictions_report(Y_test_mean_2,svr_pred3)\n",
    "full_time3=round(time.time() - start3,3)\n",
    "print(full_time3, 'c')"
   ]
  },
  {
   "cell_type": "code",
   "execution_count": null,
   "metadata": {},
   "outputs": [],
   "source": [
    "output = output.append(pd.Series([str(model_mean),\n",
    "                                 scores3[0],scores3[1], \n",
    "                                 scores3[2][0],full_time3,'Обучение на среднем ЭЛО по 2 кластеру'],\n",
    "                                 index=output.columns ),\n",
    "                      ignore_index=True)\n",
    "\n",
    "\n",
    "output.to_excel(r'C:\\Users\\Asus\\PredictingRatings\\models\\class_results.xlsx',index=False)\n",
    "output"
   ]
  },
  {
   "cell_type": "code",
   "execution_count": null,
   "metadata": {},
   "outputs": [],
   "source": [
    "start4 = time.time()\n",
    "\n",
    "svr4=model_diff.fit(X_train_diff_2,Y_train_diff_2)\n",
    "svr_pred4=svr4.predict(X_test_mean_2)\n",
    "scores4=predictions_report(Y_test_diff_2,svr_pred4)\n",
    "full_time4=round(time.time() - start4,3)\n",
    "print(full_time4, 'c')"
   ]
  },
  {
   "cell_type": "code",
   "execution_count": null,
   "metadata": {},
   "outputs": [],
   "source": [
    "output = output.append(pd.Series([str(model_diff),\n",
    "                                 scores4[0],scores4[1], \n",
    "                                 scores4[2][0],full_time4,'Обучение на разнице ЭЛО по 2 кластеру'],\n",
    "                                 index=output.columns ),\n",
    "                      ignore_index=True)\n",
    "\n",
    "\n",
    "output"
   ]
  },
  {
   "cell_type": "code",
   "execution_count": null,
   "metadata": {},
   "outputs": [],
   "source": [
    "output.to_excel(r'C:\\Users\\Asus\\PredictingRatings\\models\\class_results.xlsx',index=False)"
   ]
  },
  {
   "cell_type": "code",
   "execution_count": null,
   "metadata": {
    "scrolled": true
   },
   "outputs": [],
   "source": [
    "white_elos_2 = svr_pred3 + svr_pred3/2\n",
    "black_elos_2 = svr_pred3-svr_pred4/2\n",
    "pred_elos2=list(zip(white_elos_2,black_elos_2))\n",
    "print(len(pred_elos2))\n",
    "pred_elos2[:5]"
   ]
  },
  {
   "cell_type": "code",
   "execution_count": null,
   "metadata": {},
   "outputs": [],
   "source": [
    "find_abs_error(pred_elos2,elos_2),find_mean_error(pred_elos2,elos_2),find_root_mean_squared_error(pred_elos2,elos_2)"
   ]
  },
  {
   "cell_type": "code",
   "execution_count": null,
   "metadata": {},
   "outputs": [],
   "source": [
    "inner_mae_2=find_mean_error(pred_elos2,elos_2)"
   ]
  },
  {
   "cell_type": "code",
   "execution_count": null,
   "metadata": {},
   "outputs": [],
   "source": [
    "errors =errors.append(pd.Series(['2 кластер','SVM',\n",
    "                        find_abs_error(pred_elos2,elos_2),\n",
    "                        find_mean_error(pred_elos2,elos_2),\n",
    "                        find_root_mean_squared_error(pred_elos2,elos_2)],\n",
    "                                index=errors.columns ),\n",
    "                      ignore_index=True)\n",
    "\n",
    "errors.to_excel(r'C:\\Users\\Asus\\PredictingRatings\\models\\class_errors.xlsx',index=False)\n",
    "errors"
   ]
  },
  {
   "cell_type": "markdown",
   "metadata": {},
   "source": [
    "### Подбор модели для 3 кластера"
   ]
  },
  {
   "cell_type": "code",
   "execution_count": null,
   "metadata": {},
   "outputs": [],
   "source": [
    "start5 = time.time()\n",
    "\n",
    "svr5=model_mean.fit(X_train_mean_3,Y_train_mean_3)\n",
    "svr_pred5=svr5.predict(X_test_mean_3)\n",
    "scores5=predictions_report(Y_test_mean_3,svr_pred5)\n",
    "full_time5=round(time.time() - start5,3)\n",
    "print(full_time5, 'c')"
   ]
  },
  {
   "cell_type": "code",
   "execution_count": null,
   "metadata": {},
   "outputs": [],
   "source": [
    "output = output.append(pd.Series([str(model_mean),\n",
    "                                 scores5[0],scores5[1], \n",
    "                                 scores5[2][0],full_time5,'Обучение на среднем ЭЛО по 3 кластеру'],\n",
    "                                 index=output.columns ),\n",
    "                      ignore_index=True)\n",
    "\n",
    "\n",
    "output.to_excel(r'C:\\Users\\Asus\\PredictingRatings\\models\\class_results.xlsx',index=False)\n",
    "output"
   ]
  },
  {
   "cell_type": "code",
   "execution_count": null,
   "metadata": {},
   "outputs": [],
   "source": [
    "start6 = time.time()\n",
    "\n",
    "svr6=model_diff.fit(X_train_diff_3,Y_train_diff_3)\n",
    "svr_pred6=svr6.predict(X_test_mean_3)\n",
    "scores6=predictions_report(Y_test_diff_3,svr_pred6)\n",
    "full_time6=round(time.time() - start6,3)\n",
    "print(full_time6, 'c')"
   ]
  },
  {
   "cell_type": "code",
   "execution_count": null,
   "metadata": {},
   "outputs": [],
   "source": [
    "output = output.append(pd.Series([str(model_diff),\n",
    "                                 scores6[0],scores6[1], \n",
    "                                 scores6[2][0],full_time6,'Обучение на разнице ЭЛО по 3 кластеру'],\n",
    "                                 index=output.columns ),\n",
    "                      ignore_index=True)\n",
    "\n",
    "\n",
    "output"
   ]
  },
  {
   "cell_type": "code",
   "execution_count": null,
   "metadata": {},
   "outputs": [],
   "source": [
    "output.to_excel(r'C:\\Users\\Asus\\PredictingRatings\\models\\class_results.xlsx',index=False)"
   ]
  },
  {
   "cell_type": "code",
   "execution_count": null,
   "metadata": {
    "scrolled": true
   },
   "outputs": [],
   "source": [
    "white_elos_3 = svr_pred5 + svr_pred6/2\n",
    "black_elos_3 = svr_pred5-svr_pred6/2\n",
    "pred_elos3=list(zip(white_elos_3,black_elos_3))\n",
    "print(len(pred_elos3))\n",
    "pred_elos3[:5]"
   ]
  },
  {
   "cell_type": "code",
   "execution_count": null,
   "metadata": {},
   "outputs": [],
   "source": [
    "find_abs_error(pred_elos3,elos_3),find_mean_error(pred_elos3,elos_3),find_root_mean_squared_error(pred_elos3,elos_3)"
   ]
  },
  {
   "cell_type": "code",
   "execution_count": null,
   "metadata": {},
   "outputs": [],
   "source": [
    "inner_mae_3=find_mean_error(pred_elos3,elos_3)"
   ]
  },
  {
   "cell_type": "code",
   "execution_count": null,
   "metadata": {},
   "outputs": [],
   "source": [
    "errors =errors.append(pd.Series(['3 кластер','SVM',\n",
    "                                 find_abs_error(pred_elos3,elos_3),\n",
    "                                 find_mean_error(pred_elos3,elos_3),\n",
    "                                 find_root_mean_squared_error(pred_elos3,elos_3)],\n",
    "                                index=errors.columns ),\n",
    "                      ignore_index=True)\n",
    "\n",
    "errors.to_excel(r'C:\\Users\\Asus\\PredictingRatings\\models\\class_errors.xlsx',index=False)\n",
    "errors"
   ]
  },
  {
   "cell_type": "markdown",
   "metadata": {},
   "source": [
    "### Подбор модели для 4 кластера"
   ]
  },
  {
   "cell_type": "code",
   "execution_count": null,
   "metadata": {},
   "outputs": [],
   "source": [
    "start7 = time.time()\n",
    "\n",
    "svr7=model_mean.fit(X_train_mean_4,Y_train_mean_4)\n",
    "svr_pred7=svr7.predict(X_test_mean_4)\n",
    "scores7=predictions_report(Y_test_mean_4,svr_pred7)\n",
    "full_time7=round(time.time() - start7,3)\n",
    "print(full_time7, 'c')"
   ]
  },
  {
   "cell_type": "code",
   "execution_count": null,
   "metadata": {},
   "outputs": [],
   "source": [
    "output = output.append(pd.Series([str(model_mean),\n",
    "                                 scores7[0],scores7[1], \n",
    "                                 scores7[2][0],full_time7,'Обучение на среднем ЭЛО по 4 кластеру'],\n",
    "                                 index=output.columns ),\n",
    "                      ignore_index=True)\n",
    "\n",
    "\n",
    "output.to_excel(r'C:\\Users\\Asus\\PredictingRatings\\models\\class_results.xlsx',index=False)\n",
    "output"
   ]
  },
  {
   "cell_type": "code",
   "execution_count": null,
   "metadata": {},
   "outputs": [],
   "source": [
    "start8 = time.time()\n",
    "\n",
    "svr8=model_diff.fit(X_train_diff_4,Y_train_diff_4)\n",
    "svr_pred8=svr8.predict(X_test_mean_4)\n",
    "scores8=predictions_report(Y_test_diff_4,svr_pred8)\n",
    "full_time8=round(time.time() - start8,3)\n",
    "print(full_time8, 'c')"
   ]
  },
  {
   "cell_type": "code",
   "execution_count": null,
   "metadata": {},
   "outputs": [],
   "source": [
    "output = output.append(pd.Series([str(model_diff),\n",
    "                                 scores8[0],scores8[1], \n",
    "                                 scores8[2][0],full_time8,'Обучение на разнице ЭЛО по 4 кластеру'],\n",
    "                                 index=output.columns ),\n",
    "                      ignore_index=True)\n",
    "\n",
    "\n",
    "output.to_excel(r'C:\\Users\\Asus\\PredictingRatings\\models\\class_results.xlsx',index=False)\n",
    "output"
   ]
  },
  {
   "cell_type": "code",
   "execution_count": null,
   "metadata": {
    "scrolled": true
   },
   "outputs": [],
   "source": [
    "white_elos_4 = svr_pred7 + svr_pred8/2\n",
    "black_elos_4 = svr_pred7-svr_pred8/2\n",
    "pred_elos4=list(zip(white_elos_4,black_elos_4))\n",
    "print(len(pred_elos4))\n",
    "pred_elos4[:5]"
   ]
  },
  {
   "cell_type": "code",
   "execution_count": null,
   "metadata": {},
   "outputs": [],
   "source": [
    "find_abs_error(pred_elos4,elos_4),find_mean_error(pred_elos4,elos_4),find_root_mean_squared_error(pred_elos4,elos_4)"
   ]
  },
  {
   "cell_type": "code",
   "execution_count": null,
   "metadata": {},
   "outputs": [],
   "source": [
    "inner_mae_4=find_mean_error(pred_elos4,elos_4)"
   ]
  },
  {
   "cell_type": "code",
   "execution_count": null,
   "metadata": {},
   "outputs": [],
   "source": [
    "errors =errors.append(pd.Series(['4 кластер','SVM',find_abs_error(pred_elos4,elos_4),\n",
    "                                 find_mean_error(pred_elos4,elos_4),\n",
    "                                 find_root_mean_squared_error(pred_elos4,elos_4)],\n",
    "                                index=errors.columns ),\n",
    "                      ignore_index=True)\n",
    "\n",
    "errors.to_excel(r'C:\\Users\\Asus\\PredictingRatings\\models\\class_errors.xlsx',index=False)\n",
    "errors"
   ]
  },
  {
   "cell_type": "code",
   "execution_count": null,
   "metadata": {},
   "outputs": [],
   "source": [
    "svr_mae=(inner_mae_4+inner_mae_3+inner_mae_2+inner_mae_1)/4\n",
    "svr_mae"
   ]
  },
  {
   "cell_type": "code",
   "execution_count": null,
   "metadata": {},
   "outputs": [],
   "source": [
    "svr_abs=(find_abs_error(pred_elos1,elos_1)+\n",
    "        find_abs_error(pred_elos2,elos_2)+\n",
    "        find_abs_error(pred_elos3,elos_3)+\n",
    "        find_abs_error(pred_elos4,elos_4))/4\n",
    "svr_abs"
   ]
  },
  {
   "cell_type": "code",
   "execution_count": null,
   "metadata": {},
   "outputs": [],
   "source": [
    "svr_rmse=(find_root_mean_squared_error(pred_elos1,elos_1)+\n",
    "         find_root_mean_squared_error(pred_elos2,elos_2)+\n",
    "         find_root_mean_squared_error(pred_elos3,elos_3)+\n",
    "         find_root_mean_squared_error(pred_elos4,elos_4))/4\n",
    "svr_rmse"
   ]
  },
  {
   "cell_type": "code",
   "execution_count": null,
   "metadata": {},
   "outputs": [],
   "source": [
    "errors = errors.append(pd.Series(['Общая ошибка','SVM',\n",
    "                  svr_abs,\n",
    "                  svr_mae,\n",
    "                 svr_rmse],index=errors.columns) ,ignore_index=True)\n",
    "\n",
    "errors.to_excel(r'C:\\Users\\Asus\\PredictingRatings\\models\\class_errors.xlsx',index=False)\n",
    "errors"
   ]
  }
 ],
 "metadata": {
  "kernelspec": {
   "display_name": "Python 3",
   "language": "python",
   "name": "python3"
  },
  "language_info": {
   "codemirror_mode": {
    "name": "ipython",
    "version": 3
   },
   "file_extension": ".py",
   "mimetype": "text/x-python",
   "name": "python",
   "nbconvert_exporter": "python",
   "pygments_lexer": "ipython3",
   "version": "3.6.4"
  }
 },
 "nbformat": 4,
 "nbformat_minor": 2
}
