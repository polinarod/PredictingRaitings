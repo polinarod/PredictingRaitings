{
 "cells": [
  {
   "cell_type": "code",
   "execution_count": 1,
   "metadata": {},
   "outputs": [],
   "source": [
    "%matplotlib inline\n",
    "import pandas as pd\n",
    "import matplotlib.pyplot as plt\n",
    "import numpy as np\n",
    "import time\n",
    "import pickle\n",
    "from sklearn.metrics import mean_absolute_error as mae\n",
    "from sklearn.metrics import mean_squared_error as mse\n",
    "from sklearn.ensemble import ExtraTreesRegressor\n",
    "from sklearn import model_selection as ms\n",
    "from scipy.stats import pearsonr\n",
    "from sklearn.metrics import make_scorer\n",
    "from sklearn import metrics\n",
    "from sklearn.feature_selection import VarianceThreshold\n",
    "\n",
    "rand_st=4"
   ]
  },
  {
   "cell_type": "code",
   "execution_count": 2,
   "metadata": {},
   "outputs": [],
   "source": [
    "output=pd.read_excel(r'C:\\Users\\Asus\\PredictingRatings\\models\\class_results.xlsx')\n",
    "errors=pd.read_excel(r'C:\\Users\\Asus\\PredictingRatings\\models\\class_errors.xlsx')"
   ]
  },
  {
   "cell_type": "code",
   "execution_count": 3,
   "metadata": {},
   "outputs": [],
   "source": [
    "elos_1=pd.read_csv(r'C:\\Users\\Asus\\PredictingRatings\\data\\elos1.csv')\n",
    "elos_2=pd.read_csv(r'C:\\Users\\Asus\\PredictingRatings\\data\\elos2.csv')\n",
    "elos_3=pd.read_csv(r'C:\\Users\\Asus\\PredictingRatings\\data\\elos3.csv')\n",
    "elos_4=pd.read_csv(r'C:\\Users\\Asus\\PredictingRatings\\data\\elos4.csv')\n",
    "features_1=pd.read_csv(r'C:\\Users\\Asus\\PredictingRatings\\data\\features1.csv')\n",
    "features_3=pd.read_csv(r'C:\\Users\\Asus\\PredictingRatings\\data\\features3.csv')\n",
    "features_2=pd.read_csv(r'C:\\Users\\Asus\\PredictingRatings\\data\\features2.csv')\n",
    "features_4=pd.read_csv(r'C:\\Users\\Asus\\PredictingRatings\\data\\features4.csv')"
   ]
  },
  {
   "cell_type": "code",
   "execution_count": 4,
   "metadata": {},
   "outputs": [],
   "source": [
    "X_train_mean_1, X_test_mean_1, Y_train_mean_1, Y_test_mean_1 =ms.train_test_split(features_1, elos_1['MeanElos'], test_size = 0.3,random_state=rand_st)\n",
    "X_train_diff_1, X_test_diff_1, Y_train_diff_1, Y_test_diff_1 =ms.train_test_split(features_1, elos_1['DiffElos'], test_size = 0.3,random_state=rand_st)\n",
    "\n",
    "X_train_mean_2, X_test_mean_2, Y_train_mean_2, Y_test_mean_2 =ms.train_test_split(features_2, elos_2['MeanElos'], test_size = 0.3,random_state=rand_st)\n",
    "X_train_diff_2, X_test_diff_2, Y_train_diff_2, Y_test_diff_2 =ms.train_test_split(features_2, elos_2['DiffElos'], test_size = 0.3,random_state=rand_st)\n",
    "\n",
    "X_train_mean_3, X_test_mean_3, Y_train_mean_3, Y_test_mean_3 =ms.train_test_split(features_3, elos_3['MeanElos'], test_size = 0.3,random_state=rand_st)\n",
    "X_train_diff_3, X_test_diff_3, Y_train_diff_3, Y_test_diff_3 =ms.train_test_split(features_3, elos_3['DiffElos'], test_size = 0.3,random_state=rand_st)\n",
    "\n",
    "X_train_mean_4, X_test_mean_4, Y_train_mean_4, Y_test_mean_4 =ms.train_test_split(features_4, elos_4['MeanElos'], test_size = 0.3,random_state=rand_st)\n",
    "X_train_diff_4, X_test_diff_4, Y_train_diff_4, Y_test_diff_4 =ms.train_test_split(features_4, elos_4['DiffElos'], test_size = 0.3,random_state=rand_st)"
   ]
  },
  {
   "cell_type": "code",
   "execution_count": 5,
   "metadata": {},
   "outputs": [],
   "source": [
    "model_mean=ExtraTreesRegressor(bootstrap=False, criterion='mae', max_depth=None,\n",
    "          max_features='auto', max_leaf_nodes=None,\n",
    "          min_impurity_decrease=0.0, min_impurity_split=None,\n",
    "          min_samples_leaf=1, min_samples_split=2,\n",
    "          min_weight_fraction_leaf=0.0, n_estimators=500, n_jobs=-1,\n",
    "          oob_score=False, random_state=4, verbose=0, warm_start=False)\n",
    "\n",
    "model_diff=ExtraTreesRegressor(bootstrap=False, criterion='mae', max_depth=None,\n",
    "          max_features='auto', max_leaf_nodes=None,\n",
    "          min_impurity_decrease=0.0, min_impurity_split=None,\n",
    "          min_samples_leaf=1, min_samples_split=2,\n",
    "          min_weight_fraction_leaf=0.0, n_estimators=500, n_jobs=-1,\n",
    "          oob_score=False, random_state=4, verbose=0, warm_start=False)"
   ]
  },
  {
   "cell_type": "code",
   "execution_count": 6,
   "metadata": {},
   "outputs": [],
   "source": [
    "def find_mean_error(pred,elos):\n",
    "    er=0\n",
    "    count=0\n",
    "    for ind, val in enumerate(pred):\n",
    "        er+=abs(elos.iloc[ind,0]-val[0])\n",
    "        er+=abs(elos.iloc[ind,1]-val[1])\n",
    "        count+=2\n",
    "    return round(er/count,3)\n",
    "\n",
    "def find_abs_error(pred,elos):\n",
    "    er=0\n",
    "    for ind, val in enumerate(pred):\n",
    "        er+=abs(elos.iloc[ind,0]-val[0])\n",
    "        er+=abs(elos.iloc[ind,1]-val[1])\n",
    "    return round(er,3)\n",
    "\n",
    "def find_root_mean_squared_error(pred,elos):\n",
    "    er=0\n",
    "    count=0\n",
    "    for ind, val in enumerate(pred):\n",
    "        er+=(elos.iloc[ind,0]-val[0])**2\n",
    "        er+=(elos.iloc[ind,1]-val[1])**2\n",
    "        count+=2\n",
    "    return round((er/count)**0.5,3)"
   ]
  },
  {
   "cell_type": "code",
   "execution_count": 7,
   "metadata": {},
   "outputs": [],
   "source": [
    "def predictions_report(pred_target,predictions):\n",
    "    mae_report=mae(pred_target,predictions)\n",
    "    print ('MAE = {:.3f}'.format(mae_report))\n",
    "    \n",
    "    rmse_report = (mse(pred_target, predictions))**0.5\n",
    "    print ('RMSE = {:.3f}'.format(rmse_report))\n",
    "    \n",
    "    corr_coef = pearsonr(pred_target,predictions)\n",
    "    print(\"Correlation coefficient = {:.3f}\".format(corr_coef[0]))\n",
    "    \n",
    "    return (mae_report,rmse_report,corr_coef)"
   ]
  },
  {
   "cell_type": "markdown",
   "metadata": {},
   "source": [
    "### Подбор модели для 1 кластера"
   ]
  },
  {
   "cell_type": "code",
   "execution_count": 8,
   "metadata": {},
   "outputs": [
    {
     "ename": "KeyboardInterrupt",
     "evalue": "",
     "output_type": "error",
     "traceback": [
      "\u001b[1;31m---------------------------------------------------------------------------\u001b[0m",
      "\u001b[1;31mKeyboardInterrupt\u001b[0m                         Traceback (most recent call last)",
      "\u001b[1;32m<ipython-input-8-180fce2e3495>\u001b[0m in \u001b[0;36m<module>\u001b[1;34m()\u001b[0m\n\u001b[0;32m      1\u001b[0m \u001b[0mstart1\u001b[0m \u001b[1;33m=\u001b[0m \u001b[0mtime\u001b[0m\u001b[1;33m.\u001b[0m\u001b[0mtime\u001b[0m\u001b[1;33m(\u001b[0m\u001b[1;33m)\u001b[0m\u001b[1;33m\u001b[0m\u001b[0m\n\u001b[0;32m      2\u001b[0m \u001b[1;33m\u001b[0m\u001b[0m\n\u001b[1;32m----> 3\u001b[1;33m \u001b[0metr1\u001b[0m\u001b[1;33m=\u001b[0m\u001b[0mmodel_mean\u001b[0m\u001b[1;33m.\u001b[0m\u001b[0mfit\u001b[0m\u001b[1;33m(\u001b[0m\u001b[0mX_train_mean_1\u001b[0m\u001b[1;33m,\u001b[0m\u001b[0mY_train_mean_1\u001b[0m\u001b[1;33m)\u001b[0m\u001b[1;33m\u001b[0m\u001b[0m\n\u001b[0m\u001b[0;32m      4\u001b[0m \u001b[0metr_pred1\u001b[0m\u001b[1;33m=\u001b[0m\u001b[0metr1\u001b[0m\u001b[1;33m.\u001b[0m\u001b[0mpredict\u001b[0m\u001b[1;33m(\u001b[0m\u001b[0mX_test_mean_1\u001b[0m\u001b[1;33m)\u001b[0m\u001b[1;33m\u001b[0m\u001b[0m\n\u001b[0;32m      5\u001b[0m \u001b[0mscores1\u001b[0m\u001b[1;33m=\u001b[0m\u001b[0mpredictions_report\u001b[0m\u001b[1;33m(\u001b[0m\u001b[0mY_test_mean_1\u001b[0m\u001b[1;33m,\u001b[0m\u001b[0metr_pred1\u001b[0m\u001b[1;33m)\u001b[0m\u001b[1;33m\u001b[0m\u001b[0m\n",
      "\u001b[1;32m~\\Anaconda3\\lib\\site-packages\\sklearn\\ensemble\\forest.py\u001b[0m in \u001b[0;36mfit\u001b[1;34m(self, X, y, sample_weight)\u001b[0m\n\u001b[0;32m    328\u001b[0m                     \u001b[0mt\u001b[0m\u001b[1;33m,\u001b[0m \u001b[0mself\u001b[0m\u001b[1;33m,\u001b[0m \u001b[0mX\u001b[0m\u001b[1;33m,\u001b[0m \u001b[0my\u001b[0m\u001b[1;33m,\u001b[0m \u001b[0msample_weight\u001b[0m\u001b[1;33m,\u001b[0m \u001b[0mi\u001b[0m\u001b[1;33m,\u001b[0m \u001b[0mlen\u001b[0m\u001b[1;33m(\u001b[0m\u001b[0mtrees\u001b[0m\u001b[1;33m)\u001b[0m\u001b[1;33m,\u001b[0m\u001b[1;33m\u001b[0m\u001b[0m\n\u001b[0;32m    329\u001b[0m                     verbose=self.verbose, class_weight=self.class_weight)\n\u001b[1;32m--> 330\u001b[1;33m                 for i, t in enumerate(trees))\n\u001b[0m\u001b[0;32m    331\u001b[0m \u001b[1;33m\u001b[0m\u001b[0m\n\u001b[0;32m    332\u001b[0m             \u001b[1;31m# Collect newly grown trees\u001b[0m\u001b[1;33m\u001b[0m\u001b[1;33m\u001b[0m\u001b[0m\n",
      "\u001b[1;32m~\\Anaconda3\\lib\\site-packages\\joblib\\parallel.py\u001b[0m in \u001b[0;36m__call__\u001b[1;34m(self, iterable)\u001b[0m\n\u001b[0;32m    932\u001b[0m \u001b[1;33m\u001b[0m\u001b[0m\n\u001b[0;32m    933\u001b[0m             \u001b[1;32mwith\u001b[0m \u001b[0mself\u001b[0m\u001b[1;33m.\u001b[0m\u001b[0m_backend\u001b[0m\u001b[1;33m.\u001b[0m\u001b[0mretrieval_context\u001b[0m\u001b[1;33m(\u001b[0m\u001b[1;33m)\u001b[0m\u001b[1;33m:\u001b[0m\u001b[1;33m\u001b[0m\u001b[0m\n\u001b[1;32m--> 934\u001b[1;33m                 \u001b[0mself\u001b[0m\u001b[1;33m.\u001b[0m\u001b[0mretrieve\u001b[0m\u001b[1;33m(\u001b[0m\u001b[1;33m)\u001b[0m\u001b[1;33m\u001b[0m\u001b[0m\n\u001b[0m\u001b[0;32m    935\u001b[0m             \u001b[1;31m# Make sure that we get a last message telling us we are done\u001b[0m\u001b[1;33m\u001b[0m\u001b[1;33m\u001b[0m\u001b[0m\n\u001b[0;32m    936\u001b[0m             \u001b[0melapsed_time\u001b[0m \u001b[1;33m=\u001b[0m \u001b[0mtime\u001b[0m\u001b[1;33m.\u001b[0m\u001b[0mtime\u001b[0m\u001b[1;33m(\u001b[0m\u001b[1;33m)\u001b[0m \u001b[1;33m-\u001b[0m \u001b[0mself\u001b[0m\u001b[1;33m.\u001b[0m\u001b[0m_start_time\u001b[0m\u001b[1;33m\u001b[0m\u001b[0m\n",
      "\u001b[1;32m~\\Anaconda3\\lib\\site-packages\\joblib\\parallel.py\u001b[0m in \u001b[0;36mretrieve\u001b[1;34m(self)\u001b[0m\n\u001b[0;32m    831\u001b[0m             \u001b[1;32mtry\u001b[0m\u001b[1;33m:\u001b[0m\u001b[1;33m\u001b[0m\u001b[0m\n\u001b[0;32m    832\u001b[0m                 \u001b[1;32mif\u001b[0m \u001b[0mgetattr\u001b[0m\u001b[1;33m(\u001b[0m\u001b[0mself\u001b[0m\u001b[1;33m.\u001b[0m\u001b[0m_backend\u001b[0m\u001b[1;33m,\u001b[0m \u001b[1;34m'supports_timeout'\u001b[0m\u001b[1;33m,\u001b[0m \u001b[1;32mFalse\u001b[0m\u001b[1;33m)\u001b[0m\u001b[1;33m:\u001b[0m\u001b[1;33m\u001b[0m\u001b[0m\n\u001b[1;32m--> 833\u001b[1;33m                     \u001b[0mself\u001b[0m\u001b[1;33m.\u001b[0m\u001b[0m_output\u001b[0m\u001b[1;33m.\u001b[0m\u001b[0mextend\u001b[0m\u001b[1;33m(\u001b[0m\u001b[0mjob\u001b[0m\u001b[1;33m.\u001b[0m\u001b[0mget\u001b[0m\u001b[1;33m(\u001b[0m\u001b[0mtimeout\u001b[0m\u001b[1;33m=\u001b[0m\u001b[0mself\u001b[0m\u001b[1;33m.\u001b[0m\u001b[0mtimeout\u001b[0m\u001b[1;33m)\u001b[0m\u001b[1;33m)\u001b[0m\u001b[1;33m\u001b[0m\u001b[0m\n\u001b[0m\u001b[0;32m    834\u001b[0m                 \u001b[1;32melse\u001b[0m\u001b[1;33m:\u001b[0m\u001b[1;33m\u001b[0m\u001b[0m\n\u001b[0;32m    835\u001b[0m                     \u001b[0mself\u001b[0m\u001b[1;33m.\u001b[0m\u001b[0m_output\u001b[0m\u001b[1;33m.\u001b[0m\u001b[0mextend\u001b[0m\u001b[1;33m(\u001b[0m\u001b[0mjob\u001b[0m\u001b[1;33m.\u001b[0m\u001b[0mget\u001b[0m\u001b[1;33m(\u001b[0m\u001b[1;33m)\u001b[0m\u001b[1;33m)\u001b[0m\u001b[1;33m\u001b[0m\u001b[0m\n",
      "\u001b[1;32m~\\Anaconda3\\lib\\multiprocessing\\pool.py\u001b[0m in \u001b[0;36mget\u001b[1;34m(self, timeout)\u001b[0m\n\u001b[0;32m    636\u001b[0m \u001b[1;33m\u001b[0m\u001b[0m\n\u001b[0;32m    637\u001b[0m     \u001b[1;32mdef\u001b[0m \u001b[0mget\u001b[0m\u001b[1;33m(\u001b[0m\u001b[0mself\u001b[0m\u001b[1;33m,\u001b[0m \u001b[0mtimeout\u001b[0m\u001b[1;33m=\u001b[0m\u001b[1;32mNone\u001b[0m\u001b[1;33m)\u001b[0m\u001b[1;33m:\u001b[0m\u001b[1;33m\u001b[0m\u001b[0m\n\u001b[1;32m--> 638\u001b[1;33m         \u001b[0mself\u001b[0m\u001b[1;33m.\u001b[0m\u001b[0mwait\u001b[0m\u001b[1;33m(\u001b[0m\u001b[0mtimeout\u001b[0m\u001b[1;33m)\u001b[0m\u001b[1;33m\u001b[0m\u001b[0m\n\u001b[0m\u001b[0;32m    639\u001b[0m         \u001b[1;32mif\u001b[0m \u001b[1;32mnot\u001b[0m \u001b[0mself\u001b[0m\u001b[1;33m.\u001b[0m\u001b[0mready\u001b[0m\u001b[1;33m(\u001b[0m\u001b[1;33m)\u001b[0m\u001b[1;33m:\u001b[0m\u001b[1;33m\u001b[0m\u001b[0m\n\u001b[0;32m    640\u001b[0m             \u001b[1;32mraise\u001b[0m \u001b[0mTimeoutError\u001b[0m\u001b[1;33m\u001b[0m\u001b[0m\n",
      "\u001b[1;32m~\\Anaconda3\\lib\\multiprocessing\\pool.py\u001b[0m in \u001b[0;36mwait\u001b[1;34m(self, timeout)\u001b[0m\n\u001b[0;32m    633\u001b[0m \u001b[1;33m\u001b[0m\u001b[0m\n\u001b[0;32m    634\u001b[0m     \u001b[1;32mdef\u001b[0m \u001b[0mwait\u001b[0m\u001b[1;33m(\u001b[0m\u001b[0mself\u001b[0m\u001b[1;33m,\u001b[0m \u001b[0mtimeout\u001b[0m\u001b[1;33m=\u001b[0m\u001b[1;32mNone\u001b[0m\u001b[1;33m)\u001b[0m\u001b[1;33m:\u001b[0m\u001b[1;33m\u001b[0m\u001b[0m\n\u001b[1;32m--> 635\u001b[1;33m         \u001b[0mself\u001b[0m\u001b[1;33m.\u001b[0m\u001b[0m_event\u001b[0m\u001b[1;33m.\u001b[0m\u001b[0mwait\u001b[0m\u001b[1;33m(\u001b[0m\u001b[0mtimeout\u001b[0m\u001b[1;33m)\u001b[0m\u001b[1;33m\u001b[0m\u001b[0m\n\u001b[0m\u001b[0;32m    636\u001b[0m \u001b[1;33m\u001b[0m\u001b[0m\n\u001b[0;32m    637\u001b[0m     \u001b[1;32mdef\u001b[0m \u001b[0mget\u001b[0m\u001b[1;33m(\u001b[0m\u001b[0mself\u001b[0m\u001b[1;33m,\u001b[0m \u001b[0mtimeout\u001b[0m\u001b[1;33m=\u001b[0m\u001b[1;32mNone\u001b[0m\u001b[1;33m)\u001b[0m\u001b[1;33m:\u001b[0m\u001b[1;33m\u001b[0m\u001b[0m\n",
      "\u001b[1;32m~\\Anaconda3\\lib\\threading.py\u001b[0m in \u001b[0;36mwait\u001b[1;34m(self, timeout)\u001b[0m\n\u001b[0;32m    549\u001b[0m             \u001b[0msignaled\u001b[0m \u001b[1;33m=\u001b[0m \u001b[0mself\u001b[0m\u001b[1;33m.\u001b[0m\u001b[0m_flag\u001b[0m\u001b[1;33m\u001b[0m\u001b[0m\n\u001b[0;32m    550\u001b[0m             \u001b[1;32mif\u001b[0m \u001b[1;32mnot\u001b[0m \u001b[0msignaled\u001b[0m\u001b[1;33m:\u001b[0m\u001b[1;33m\u001b[0m\u001b[0m\n\u001b[1;32m--> 551\u001b[1;33m                 \u001b[0msignaled\u001b[0m \u001b[1;33m=\u001b[0m \u001b[0mself\u001b[0m\u001b[1;33m.\u001b[0m\u001b[0m_cond\u001b[0m\u001b[1;33m.\u001b[0m\u001b[0mwait\u001b[0m\u001b[1;33m(\u001b[0m\u001b[0mtimeout\u001b[0m\u001b[1;33m)\u001b[0m\u001b[1;33m\u001b[0m\u001b[0m\n\u001b[0m\u001b[0;32m    552\u001b[0m             \u001b[1;32mreturn\u001b[0m \u001b[0msignaled\u001b[0m\u001b[1;33m\u001b[0m\u001b[0m\n\u001b[0;32m    553\u001b[0m \u001b[1;33m\u001b[0m\u001b[0m\n",
      "\u001b[1;32m~\\Anaconda3\\lib\\threading.py\u001b[0m in \u001b[0;36mwait\u001b[1;34m(self, timeout)\u001b[0m\n\u001b[0;32m    293\u001b[0m         \u001b[1;32mtry\u001b[0m\u001b[1;33m:\u001b[0m    \u001b[1;31m# restore state no matter what (e.g., KeyboardInterrupt)\u001b[0m\u001b[1;33m\u001b[0m\u001b[0m\n\u001b[0;32m    294\u001b[0m             \u001b[1;32mif\u001b[0m \u001b[0mtimeout\u001b[0m \u001b[1;32mis\u001b[0m \u001b[1;32mNone\u001b[0m\u001b[1;33m:\u001b[0m\u001b[1;33m\u001b[0m\u001b[0m\n\u001b[1;32m--> 295\u001b[1;33m                 \u001b[0mwaiter\u001b[0m\u001b[1;33m.\u001b[0m\u001b[0macquire\u001b[0m\u001b[1;33m(\u001b[0m\u001b[1;33m)\u001b[0m\u001b[1;33m\u001b[0m\u001b[0m\n\u001b[0m\u001b[0;32m    296\u001b[0m                 \u001b[0mgotit\u001b[0m \u001b[1;33m=\u001b[0m \u001b[1;32mTrue\u001b[0m\u001b[1;33m\u001b[0m\u001b[0m\n\u001b[0;32m    297\u001b[0m             \u001b[1;32melse\u001b[0m\u001b[1;33m:\u001b[0m\u001b[1;33m\u001b[0m\u001b[0m\n",
      "\u001b[1;31mKeyboardInterrupt\u001b[0m: "
     ]
    }
   ],
   "source": [
    "start1 = time.time()\n",
    "\n",
    "etr1=model_mean.fit(X_train_mean_1,Y_train_mean_1)\n",
    "etr_pred1=etr1.predict(X_test_mean_1)\n",
    "scores1=predictions_report(Y_test_mean_1,etr_pred1)\n",
    "full_time1=round(time.time() - start1,3)\n",
    "print(full_time1, 'c')"
   ]
  },
  {
   "cell_type": "code",
   "execution_count": null,
   "metadata": {},
   "outputs": [],
   "source": [
    "output = output.append(pd.Series([str(model_mean),\n",
    "                                 scores1[0],scores1[1], \n",
    "                                 scores1[2][0],full_time1,'Обучение на среднем ЭЛО по 1 кластеру'],\n",
    "                                 index=output.columns ),\n",
    "                      ignore_index=True)\n",
    "\n",
    "\n",
    "output.to_excel(r'C:\\Users\\Asus\\PredictingRatings\\models\\class_results.xlsx',index=False)\n",
    "output"
   ]
  },
  {
   "cell_type": "code",
   "execution_count": null,
   "metadata": {},
   "outputs": [],
   "source": [
    "start2 = time.time()\n",
    "\n",
    "etr2=model_diff.fit(X_train_diff_1,Y_train_diff_1)\n",
    "etr_pred2=etr2.predict(X_test_mean_1)\n",
    "scores2=predictions_report(Y_test_diff_1,etr_pred2)\n",
    "full_time2=round(time.time() - start2,3)\n",
    "print(full_time2, 'c')"
   ]
  },
  {
   "cell_type": "code",
   "execution_count": null,
   "metadata": {},
   "outputs": [],
   "source": [
    "output = output.append(pd.Series([str(model_diff),\n",
    "                                 scores2[0],scores2[1], \n",
    "                                 scores2[2][0],full_time2,'Обучение на разнице ЭЛО по 1 кластеру'],\n",
    "                                 index=output.columns ),\n",
    "                      ignore_index=True)\n",
    "\n",
    "\n",
    "output"
   ]
  },
  {
   "cell_type": "code",
   "execution_count": null,
   "metadata": {},
   "outputs": [],
   "source": [
    "output.to_excel(r'C:\\Users\\Asus\\PredictingRatings\\models\\class_results.xlsx',index=False)"
   ]
  },
  {
   "cell_type": "code",
   "execution_count": null,
   "metadata": {
    "scrolled": true
   },
   "outputs": [],
   "source": [
    "white_elos_1 = etr_pred1 + etr_pred2/2\n",
    "black_elos_1 = etr_pred1-etr_pred2/2\n",
    "pred_elos1=list(zip(white_elos_1,black_elos_1))\n",
    "print(len(pred_elos1))\n",
    "pred_elos1[:5]"
   ]
  },
  {
   "cell_type": "code",
   "execution_count": null,
   "metadata": {},
   "outputs": [],
   "source": [
    "find_abs_error(pred_elos1,elos_1),find_mean_error(pred_elos1,elos_1),find_root_mean_squared_error(pred_elos1,elos_1)"
   ]
  },
  {
   "cell_type": "code",
   "execution_count": null,
   "metadata": {},
   "outputs": [],
   "source": [
    "inner_mae_1=find_mean_error(pred_elos1,elos_1)"
   ]
  },
  {
   "cell_type": "code",
   "execution_count": null,
   "metadata": {},
   "outputs": [],
   "source": [
    "errors =errors.append(pd.Series(['1 кластер','Extra Trees',\n",
    "                  find_abs_error(pred_elos1,elos_1),\n",
    "                  find_mean_error(pred_elos1,elos_1),\n",
    "                   find_root_mean_squared_error(pred_elos1,elos_1) ],\n",
    "                                   index=errors.columns ),\n",
    "                      ignore_index=True)\n",
    "\n",
    "errors.to_excel(r'C:\\Users\\Asus\\PredictingRatings\\models\\class_errors.xlsx',index=False)\n",
    "errors"
   ]
  },
  {
   "cell_type": "code",
   "execution_count": null,
   "metadata": {},
   "outputs": [],
   "source": [
    "errors.to_excel(r'C:\\Users\\Asus\\PredictingRatings\\models\\class_errors.xlsx',index=False)"
   ]
  },
  {
   "cell_type": "markdown",
   "metadata": {},
   "source": [
    "### Подбор модели для 2 кластера"
   ]
  },
  {
   "cell_type": "code",
   "execution_count": null,
   "metadata": {},
   "outputs": [],
   "source": [
    "start3 = time.time()\n",
    "\n",
    "etr3=model_mean.fit(X_train_mean_2,Y_train_mean_2)\n",
    "etr_pred3=etr3.predict(X_test_mean_2)\n",
    "scores3=predictions_report(Y_test_mean_2,etr_pred3)\n",
    "full_time3=round(time.time() - start3,3)\n",
    "print(full_time3, 'c')"
   ]
  },
  {
   "cell_type": "code",
   "execution_count": null,
   "metadata": {},
   "outputs": [],
   "source": [
    "output = output.append(pd.Series([str(model_mean),\n",
    "                                 scores3[0],scores3[1], \n",
    "                                 scores3[2][0],full_time3,'Обучение на среднем ЭЛО по 2 кластеру'],\n",
    "                                 index=output.columns ),\n",
    "                      ignore_index=True)\n",
    "\n",
    "\n",
    "output.to_excel(r'C:\\Users\\Asus\\PredictingRatings\\models\\class_results.xlsx',index=False)\n",
    "output"
   ]
  },
  {
   "cell_type": "code",
   "execution_count": null,
   "metadata": {},
   "outputs": [],
   "source": [
    "start4 = time.time()\n",
    "\n",
    "etr4=model_diff.fit(X_train_diff_2,Y_train_diff_2)\n",
    "etr_pred4=etr4.predict(X_test_mean_2)\n",
    "scores4=predictions_report(Y_test_diff_2,etr_pred4)\n",
    "full_time4=round(time.time() - start4,3)\n",
    "print(full_time4, 'c')"
   ]
  },
  {
   "cell_type": "code",
   "execution_count": null,
   "metadata": {},
   "outputs": [],
   "source": [
    "output = output.append(pd.Series([str(model_diff),\n",
    "                                 scores4[0],scores4[1], \n",
    "                                 scores4[2][0],full_time4,'Обучение на разнице ЭЛО по 2 кластеру'],\n",
    "                                 index=output.columns ),\n",
    "                      ignore_index=True)\n",
    "\n",
    "\n",
    "output"
   ]
  },
  {
   "cell_type": "code",
   "execution_count": null,
   "metadata": {},
   "outputs": [],
   "source": [
    "output.to_excel(r'C:\\Users\\Asus\\PredictingRatings\\models\\class_results.xlsx',index=False)"
   ]
  },
  {
   "cell_type": "code",
   "execution_count": null,
   "metadata": {
    "scrolled": true
   },
   "outputs": [],
   "source": [
    "white_elos_2 = etr_pred3 + etr_pred3/2\n",
    "black_elos_2 = etr_pred3-etr_pred4/2\n",
    "pred_elos2=list(zip(white_elos_2,black_elos_2))\n",
    "print(len(pred_elos2))\n",
    "pred_elos2[:5]"
   ]
  },
  {
   "cell_type": "code",
   "execution_count": null,
   "metadata": {},
   "outputs": [],
   "source": [
    "find_abs_error(pred_elos2,elos_2),find_mean_error(pred_elos2,elos_2),find_root_mean_squared_error(pred_elos2,elos_2)"
   ]
  },
  {
   "cell_type": "code",
   "execution_count": null,
   "metadata": {},
   "outputs": [],
   "source": [
    "inner_mae_2=find_mean_error(pred_elos2,elos_2)"
   ]
  },
  {
   "cell_type": "code",
   "execution_count": null,
   "metadata": {},
   "outputs": [],
   "source": [
    "errors =errors.append(pd.Series(['2 кластер','Extra Trees',\n",
    "                        find_abs_error(pred_elos2,elos_2),\n",
    "                        find_mean_error(pred_elos2,elos_2),\n",
    "                        find_root_mean_squared_error(pred_elos2,elos_2)],\n",
    "                                index=errors.columns ),\n",
    "                      ignore_index=True)\n",
    "\n",
    "errors.to_excel(r'C:\\Users\\Asus\\PredictingRatings\\models\\class_errors.xlsx',index=False)\n",
    "errors"
   ]
  },
  {
   "cell_type": "markdown",
   "metadata": {},
   "source": [
    "### Подбор модели для 3 кластера"
   ]
  },
  {
   "cell_type": "code",
   "execution_count": null,
   "metadata": {},
   "outputs": [],
   "source": [
    "start5 = time.time()\n",
    "\n",
    "etr5=model_mean.fit(X_train_mean_3,Y_train_mean_3)\n",
    "etr_pred5=etr5.predict(X_test_mean_3)\n",
    "scores5=predictions_report(Y_test_mean_3,etr_pred5)\n",
    "full_time5=round(time.time() - start5,3)\n",
    "print(full_time5, 'c')"
   ]
  },
  {
   "cell_type": "code",
   "execution_count": null,
   "metadata": {},
   "outputs": [],
   "source": [
    "output = output.append(pd.Series([str(model_mean),\n",
    "                                 scores5[0],scores5[1], \n",
    "                                 scores5[2][0],full_time5,'Обучение на среднем ЭЛО по 3 кластеру'],\n",
    "                                 index=output.columns ),\n",
    "                      ignore_index=True)\n",
    "\n",
    "\n",
    "output.to_excel(r'C:\\Users\\Asus\\PredictingRatings\\models\\class_results.xlsx',index=False)\n",
    "output"
   ]
  },
  {
   "cell_type": "code",
   "execution_count": null,
   "metadata": {},
   "outputs": [],
   "source": [
    "start6 = time.time()\n",
    "\n",
    "etr6=model_diff.fit(X_train_diff_3,Y_train_diff_3)\n",
    "etr_pred6=etr6.predict(X_test_mean_3)\n",
    "scores6=predictions_report(Y_test_diff_3,etr_pred6)\n",
    "full_time6=round(time.time() - start6,3)\n",
    "print(full_time6, 'c')"
   ]
  },
  {
   "cell_type": "code",
   "execution_count": null,
   "metadata": {},
   "outputs": [],
   "source": [
    "output = output.append(pd.Series([str(model_diff),\n",
    "                                 scores6[0],scores6[1], \n",
    "                                 scores6[2][0],full_time6,'Обучение на разнице ЭЛО по 3 кластеру'],\n",
    "                                 index=output.columns ),\n",
    "                      ignore_index=True)\n",
    "\n",
    "\n",
    "output"
   ]
  },
  {
   "cell_type": "code",
   "execution_count": null,
   "metadata": {},
   "outputs": [],
   "source": [
    "output.to_excel(r'C:\\Users\\Asus\\PredictingRatings\\models\\class_results.xlsx',index=False)"
   ]
  },
  {
   "cell_type": "code",
   "execution_count": null,
   "metadata": {
    "scrolled": true
   },
   "outputs": [],
   "source": [
    "white_elos_3 = etr_pred5 + etr_pred6/2\n",
    "black_elos_3 = etr_pred5-etr_pred6/2\n",
    "pred_elos3=list(zip(white_elos_3,black_elos_3))\n",
    "print(len(pred_elos3))\n",
    "pred_elos3[:5]"
   ]
  },
  {
   "cell_type": "code",
   "execution_count": null,
   "metadata": {},
   "outputs": [],
   "source": [
    "find_abs_error(pred_elos3,elos_3),find_mean_error(pred_elos3,elos_3),find_root_mean_squared_error(pred_elos3,elos_3)"
   ]
  },
  {
   "cell_type": "code",
   "execution_count": null,
   "metadata": {},
   "outputs": [],
   "source": [
    "inner_mae_3=find_mean_error(pred_elos3,elos_3)"
   ]
  },
  {
   "cell_type": "code",
   "execution_count": null,
   "metadata": {},
   "outputs": [],
   "source": [
    "errors =errors.append(pd.Series(['3 кластер','Extra Trees',\n",
    "                                 find_abs_error(pred_elos3,elos_3),\n",
    "                                 find_mean_error(pred_elos3,elos_3),\n",
    "                                 find_root_mean_squared_error(pred_elos3,elos_3)],\n",
    "                                index=errors.columns ),\n",
    "                      ignore_index=True)\n",
    "\n",
    "errors.to_excel(r'C:\\Users\\Asus\\PredictingRatings\\models\\class_errors.xlsx',index=False)\n",
    "errors"
   ]
  },
  {
   "cell_type": "markdown",
   "metadata": {},
   "source": [
    "### Подбор модели для 4 кластера"
   ]
  },
  {
   "cell_type": "code",
   "execution_count": null,
   "metadata": {},
   "outputs": [],
   "source": [
    "start7 = time.time()\n",
    "\n",
    "etr7=model_mean.fit(X_train_mean_4,Y_train_mean_4)\n",
    "etr_pred7=etr7.predict(X_test_mean_4)\n",
    "scores7=predictions_report(Y_test_mean_4,etr_pred7)\n",
    "full_time7=round(time.time() - start7,3)\n",
    "print(full_time7, 'c')"
   ]
  },
  {
   "cell_type": "code",
   "execution_count": null,
   "metadata": {},
   "outputs": [],
   "source": [
    "output = output.append(pd.Series([str(model_mean),\n",
    "                                 scores7[0],scores7[1], \n",
    "                                 scores7[2][0],full_time7,'Обучение на среднем ЭЛО по 4 кластеру'],\n",
    "                                 index=output.columns ),\n",
    "                      ignore_index=True)\n",
    "\n",
    "\n",
    "output.to_excel(r'C:\\Users\\Asus\\PredictingRatings\\models\\class_results.xlsx',index=False)\n",
    "output"
   ]
  },
  {
   "cell_type": "code",
   "execution_count": null,
   "metadata": {},
   "outputs": [],
   "source": [
    "start8 = time.time()\n",
    "\n",
    "etr8=model_diff.fit(X_train_diff_4,Y_train_diff_4)\n",
    "etr_pred8=etr8.predict(X_test_mean_4)\n",
    "scores8=predictions_report(Y_test_diff_4,etr_pred8)\n",
    "full_time8=round(time.time() - start8,3)\n",
    "print(full_time8, 'c')"
   ]
  },
  {
   "cell_type": "code",
   "execution_count": null,
   "metadata": {},
   "outputs": [],
   "source": [
    "output = output.append(pd.Series([str(model_diff),\n",
    "                                 scores8[0],scores8[1], \n",
    "                                 scores8[2][0],full_time8,'Обучение на разнице ЭЛО по 4 кластеру'],\n",
    "                                 index=output.columns ),\n",
    "                      ignore_index=True)\n",
    "\n",
    "\n",
    "output.to_excel(r'C:\\Users\\Asus\\PredictingRatings\\models\\class_results.xlsx',index=False)\n",
    "output"
   ]
  },
  {
   "cell_type": "code",
   "execution_count": null,
   "metadata": {
    "scrolled": true
   },
   "outputs": [],
   "source": [
    "white_elos_4 = etr_pred7 + etr_pred8/2\n",
    "black_elos_4 = etr_pred7-etr_pred8/2\n",
    "pred_elos4=list(zip(white_elos_4,black_elos_4))\n",
    "print(len(pred_elos4))\n",
    "pred_elos4[:5]"
   ]
  },
  {
   "cell_type": "code",
   "execution_count": null,
   "metadata": {},
   "outputs": [],
   "source": [
    "find_abs_error(pred_elos4,elos_4),find_mean_error(pred_elos4,elos_4),find_root_mean_squared_error(pred_elos4,elos_4)"
   ]
  },
  {
   "cell_type": "code",
   "execution_count": null,
   "metadata": {},
   "outputs": [],
   "source": [
    "inner_mae_4=find_mean_error(pred_elos4,elos_4)"
   ]
  },
  {
   "cell_type": "code",
   "execution_count": null,
   "metadata": {},
   "outputs": [],
   "source": [
    "errors =errors.append(pd.Series(['4 кластер','Extra Trees',find_abs_error(pred_elos4,elos_4),\n",
    "                                 find_mean_error(pred_elos4,elos_4),\n",
    "                                 find_root_mean_squared_error(pred_elos4,elos_4)],\n",
    "                                index=errors.columns ),\n",
    "                      ignore_index=True)\n",
    "\n",
    "errors.to_excel(r'C:\\Users\\Asus\\PredictingRatings\\models\\class_errors.xlsx',index=False)\n",
    "errors"
   ]
  },
  {
   "cell_type": "code",
   "execution_count": null,
   "metadata": {},
   "outputs": [],
   "source": [
    "etr_mae=(inner_mae_4+inner_mae_3+inner_mae_2+inner_mae_1)/4\n",
    "etr_mae"
   ]
  },
  {
   "cell_type": "code",
   "execution_count": null,
   "metadata": {},
   "outputs": [],
   "source": [
    "etr_abs=(find_abs_error(pred_elos1,elos_1)+\n",
    "        find_abs_error(pred_elos2,elos_2)+\n",
    "        find_abs_error(pred_elos3,elos_3)+\n",
    "        find_abs_error(pred_elos4,elos_4))/4\n",
    "etr_abs"
   ]
  },
  {
   "cell_type": "code",
   "execution_count": null,
   "metadata": {},
   "outputs": [],
   "source": [
    "etr_rmse=(find_root_mean_squared_error(pred_elos1,elos_1)+\n",
    "         find_root_mean_squared_error(pred_elos2,elos_2)+\n",
    "         find_root_mean_squared_error(pred_elos3,elos_3)+\n",
    "         find_root_mean_squared_error(pred_elos4,elos_4))/4\n",
    "etr_rmse"
   ]
  },
  {
   "cell_type": "code",
   "execution_count": null,
   "metadata": {},
   "outputs": [],
   "source": [
    "errors = errors.append(pd.Series(['Общая ошибка','Extra Trees',\n",
    "                  etr_abs,\n",
    "                  etr_mae,\n",
    "                 etr_rmse],index=errors.columns) ,ignore_index=True)\n",
    "\n",
    "errors.to_excel(r'C:\\Users\\Asus\\PredictingRatings\\models\\class_errors.xlsx',index=False)\n",
    "errors"
   ]
  }
 ],
 "metadata": {
  "kernelspec": {
   "display_name": "Python 3",
   "language": "python",
   "name": "python3"
  },
  "language_info": {
   "codemirror_mode": {
    "name": "ipython",
    "version": 3
   },
   "file_extension": ".py",
   "mimetype": "text/x-python",
   "name": "python",
   "nbconvert_exporter": "python",
   "pygments_lexer": "ipython3",
   "version": "3.6.4"
  }
 },
 "nbformat": 4,
 "nbformat_minor": 2
}
