{
 "cells": [
  {
   "cell_type": "code",
   "execution_count": 53,
   "metadata": {},
   "outputs": [],
   "source": [
    "%matplotlib inline\n",
    "import matplotlib.pyplot as plt\n",
    "import pandas as pd\n",
    "import numpy as np\n",
    "import sklearn"
   ]
  },
  {
   "cell_type": "code",
   "execution_count": 3,
   "metadata": {},
   "outputs": [
    {
     "data": {
      "text/html": [
       "<div>\n",
       "<style scoped>\n",
       "    .dataframe tbody tr th:only-of-type {\n",
       "        vertical-align: middle;\n",
       "    }\n",
       "\n",
       "    .dataframe tbody tr th {\n",
       "        vertical-align: top;\n",
       "    }\n",
       "\n",
       "    .dataframe thead th {\n",
       "        text-align: right;\n",
       "    }\n",
       "</style>\n",
       "<table border=\"1\" class=\"dataframe\">\n",
       "  <thead>\n",
       "    <tr style=\"text-align: right;\">\n",
       "      <th></th>\n",
       "      <th>WhiteElo</th>\n",
       "      <th>BlackElo</th>\n",
       "      <th>MeanElos</th>\n",
       "      <th>DiffElos</th>\n",
       "      <th>SumElos</th>\n",
       "      <th>Class</th>\n",
       "    </tr>\n",
       "  </thead>\n",
       "  <tbody>\n",
       "    <tr>\n",
       "      <th>0</th>\n",
       "      <td>2354</td>\n",
       "      <td>2411</td>\n",
       "      <td>2382</td>\n",
       "      <td>-57</td>\n",
       "      <td>4765</td>\n",
       "      <td>master</td>\n",
       "    </tr>\n",
       "    <tr>\n",
       "      <th>1</th>\n",
       "      <td>1915</td>\n",
       "      <td>1999</td>\n",
       "      <td>1957</td>\n",
       "      <td>-84</td>\n",
       "      <td>3914</td>\n",
       "      <td>novice</td>\n",
       "    </tr>\n",
       "    <tr>\n",
       "      <th>2</th>\n",
       "      <td>2446</td>\n",
       "      <td>2191</td>\n",
       "      <td>2318</td>\n",
       "      <td>255</td>\n",
       "      <td>4637</td>\n",
       "      <td>master</td>\n",
       "    </tr>\n",
       "    <tr>\n",
       "      <th>3</th>\n",
       "      <td>2168</td>\n",
       "      <td>2075</td>\n",
       "      <td>2121</td>\n",
       "      <td>93</td>\n",
       "      <td>4243</td>\n",
       "      <td>average</td>\n",
       "    </tr>\n",
       "    <tr>\n",
       "      <th>4</th>\n",
       "      <td>2437</td>\n",
       "      <td>2254</td>\n",
       "      <td>2345</td>\n",
       "      <td>183</td>\n",
       "      <td>4691</td>\n",
       "      <td>master</td>\n",
       "    </tr>\n",
       "  </tbody>\n",
       "</table>\n",
       "</div>"
      ],
      "text/plain": [
       "   WhiteElo  BlackElo  MeanElos  DiffElos  SumElos    Class\n",
       "0      2354      2411      2382       -57     4765   master\n",
       "1      1915      1999      1957       -84     3914   novice\n",
       "2      2446      2191      2318       255     4637   master\n",
       "3      2168      2075      2121        93     4243  average\n",
       "4      2437      2254      2345       183     4691   master"
      ]
     },
     "execution_count": 3,
     "metadata": {},
     "output_type": "execute_result"
    }
   ],
   "source": [
    "elos=pd.read_csv(r'C:\\Users\\Asus\\PredictingRatings\\data\\clean_elos.csv')\n",
    "#elos=pd.read_csv(r'C:\\Users\\vznam\\Downloads\\PredictingRatings-master\\data\\clean_elos.csv')\n",
    "elos.head()"
   ]
  },
  {
   "cell_type": "code",
   "execution_count": 5,
   "metadata": {
    "scrolled": false
   },
   "outputs": [
    {
     "name": "stdout",
     "output_type": "stream",
     "text": [
      "<class 'pandas.core.frame.DataFrame'>\n",
      "RangeIndex: 24255 entries, 0 to 24254\n",
      "Columns: 233 entries, Result to InsufficientMaterial\n",
      "dtypes: float64(111), int64(122)\n",
      "memory usage: 43.1 MB\n",
      "None\n",
      "(24255, 233)\n"
     ]
    },
    {
     "data": {
      "text/html": [
       "<div>\n",
       "<style scoped>\n",
       "    .dataframe tbody tr th:only-of-type {\n",
       "        vertical-align: middle;\n",
       "    }\n",
       "\n",
       "    .dataframe tbody tr th {\n",
       "        vertical-align: top;\n",
       "    }\n",
       "\n",
       "    .dataframe thead th {\n",
       "        text-align: right;\n",
       "    }\n",
       "</style>\n",
       "<table border=\"1\" class=\"dataframe\">\n",
       "  <thead>\n",
       "    <tr style=\"text-align: right;\">\n",
       "      <th></th>\n",
       "      <th>Result</th>\n",
       "      <th>NumMoves</th>\n",
       "      <th>MeanScore</th>\n",
       "      <th>ModeScore</th>\n",
       "      <th>FinalScore</th>\n",
       "      <th>FullMoves</th>\n",
       "      <th>MinScore</th>\n",
       "      <th>MaxScore</th>\n",
       "      <th>MedianScore</th>\n",
       "      <th>StdScore</th>\n",
       "      <th>...</th>\n",
       "      <th>EndB</th>\n",
       "      <th>EndR</th>\n",
       "      <th>EndK</th>\n",
       "      <th>WhiteСhecks</th>\n",
       "      <th>WhiteQueenCastle</th>\n",
       "      <th>BlackQueenCastle</th>\n",
       "      <th>Promotion</th>\n",
       "      <th>EnPassant</th>\n",
       "      <th>CanClaimDraw</th>\n",
       "      <th>InsufficientMaterial</th>\n",
       "    </tr>\n",
       "  </thead>\n",
       "  <tbody>\n",
       "    <tr>\n",
       "      <th>count</th>\n",
       "      <td>24255.000000</td>\n",
       "      <td>24255.000000</td>\n",
       "      <td>24255.000000</td>\n",
       "      <td>24255.000000</td>\n",
       "      <td>24255.000000</td>\n",
       "      <td>24255.000000</td>\n",
       "      <td>24255.000000</td>\n",
       "      <td>24255.000000</td>\n",
       "      <td>24255.000000</td>\n",
       "      <td>24255.000000</td>\n",
       "      <td>...</td>\n",
       "      <td>24255.000000</td>\n",
       "      <td>24255.00000</td>\n",
       "      <td>24255.0</td>\n",
       "      <td>24255.000000</td>\n",
       "      <td>24255.000000</td>\n",
       "      <td>24255.000000</td>\n",
       "      <td>24255.000000</td>\n",
       "      <td>24255.000000</td>\n",
       "      <td>24255.000000</td>\n",
       "      <td>24255.000000</td>\n",
       "    </tr>\n",
       "    <tr>\n",
       "      <th>mean</th>\n",
       "      <td>0.544877</td>\n",
       "      <td>42.252690</td>\n",
       "      <td>30.881103</td>\n",
       "      <td>11.907442</td>\n",
       "      <td>111.901711</td>\n",
       "      <td>83.967223</td>\n",
       "      <td>-794.591878</td>\n",
       "      <td>988.643950</td>\n",
       "      <td>68.913894</td>\n",
       "      <td>314.678490</td>\n",
       "      <td>...</td>\n",
       "      <td>0.631293</td>\n",
       "      <td>1.03892</td>\n",
       "      <td>1.0</td>\n",
       "      <td>2.015584</td>\n",
       "      <td>1.457308</td>\n",
       "      <td>0.910740</td>\n",
       "      <td>0.064069</td>\n",
       "      <td>0.061637</td>\n",
       "      <td>0.035415</td>\n",
       "      <td>0.000783</td>\n",
       "    </tr>\n",
       "    <tr>\n",
       "      <th>std</th>\n",
       "      <td>0.417736</td>\n",
       "      <td>16.235593</td>\n",
       "      <td>233.709202</td>\n",
       "      <td>445.214702</td>\n",
       "      <td>2310.851869</td>\n",
       "      <td>32.489872</td>\n",
       "      <td>2126.099646</td>\n",
       "      <td>2275.840558</td>\n",
       "      <td>64.170646</td>\n",
       "      <td>475.478471</td>\n",
       "      <td>...</td>\n",
       "      <td>0.676858</td>\n",
       "      <td>0.74847</td>\n",
       "      <td>0.0</td>\n",
       "      <td>2.874868</td>\n",
       "      <td>4.179615</td>\n",
       "      <td>3.663225</td>\n",
       "      <td>0.291749</td>\n",
       "      <td>0.245589</td>\n",
       "      <td>0.184831</td>\n",
       "      <td>0.027978</td>\n",
       "    </tr>\n",
       "    <tr>\n",
       "      <th>min</th>\n",
       "      <td>0.000000</td>\n",
       "      <td>10.000000</td>\n",
       "      <td>-2162.262500</td>\n",
       "      <td>-11447.000000</td>\n",
       "      <td>-12261.000000</td>\n",
       "      <td>19.000000</td>\n",
       "      <td>-12348.000000</td>\n",
       "      <td>-51.000000</td>\n",
       "      <td>0.000000</td>\n",
       "      <td>7.795716</td>\n",
       "      <td>...</td>\n",
       "      <td>0.000000</td>\n",
       "      <td>0.00000</td>\n",
       "      <td>1.0</td>\n",
       "      <td>0.000000</td>\n",
       "      <td>0.000000</td>\n",
       "      <td>0.000000</td>\n",
       "      <td>0.000000</td>\n",
       "      <td>0.000000</td>\n",
       "      <td>0.000000</td>\n",
       "      <td>0.000000</td>\n",
       "    </tr>\n",
       "    <tr>\n",
       "      <th>25%</th>\n",
       "      <td>0.000000</td>\n",
       "      <td>31.000000</td>\n",
       "      <td>-60.758665</td>\n",
       "      <td>0.000000</td>\n",
       "      <td>-362.000000</td>\n",
       "      <td>61.000000</td>\n",
       "      <td>-482.000000</td>\n",
       "      <td>67.000000</td>\n",
       "      <td>30.000000</td>\n",
       "      <td>61.336328</td>\n",
       "      <td>...</td>\n",
       "      <td>0.000000</td>\n",
       "      <td>0.00000</td>\n",
       "      <td>1.0</td>\n",
       "      <td>0.000000</td>\n",
       "      <td>0.000000</td>\n",
       "      <td>0.000000</td>\n",
       "      <td>0.000000</td>\n",
       "      <td>0.000000</td>\n",
       "      <td>0.000000</td>\n",
       "      <td>0.000000</td>\n",
       "    </tr>\n",
       "    <tr>\n",
       "      <th>50%</th>\n",
       "      <td>0.500000</td>\n",
       "      <td>40.000000</td>\n",
       "      <td>24.563636</td>\n",
       "      <td>0.000000</td>\n",
       "      <td>0.000000</td>\n",
       "      <td>79.000000</td>\n",
       "      <td>-75.000000</td>\n",
       "      <td>156.000000</td>\n",
       "      <td>49.000000</td>\n",
       "      <td>145.621548</td>\n",
       "      <td>...</td>\n",
       "      <td>1.000000</td>\n",
       "      <td>1.00000</td>\n",
       "      <td>1.0</td>\n",
       "      <td>1.000000</td>\n",
       "      <td>0.000000</td>\n",
       "      <td>0.000000</td>\n",
       "      <td>0.000000</td>\n",
       "      <td>0.000000</td>\n",
       "      <td>0.000000</td>\n",
       "      <td>0.000000</td>\n",
       "    </tr>\n",
       "    <tr>\n",
       "      <th>75%</th>\n",
       "      <td>1.000000</td>\n",
       "      <td>51.000000</td>\n",
       "      <td>123.987715</td>\n",
       "      <td>26.000000</td>\n",
       "      <td>546.500000</td>\n",
       "      <td>102.000000</td>\n",
       "      <td>-18.000000</td>\n",
       "      <td>700.000000</td>\n",
       "      <td>84.000000</td>\n",
       "      <td>291.317992</td>\n",
       "      <td>...</td>\n",
       "      <td>1.000000</td>\n",
       "      <td>2.00000</td>\n",
       "      <td>1.0</td>\n",
       "      <td>3.000000</td>\n",
       "      <td>0.000000</td>\n",
       "      <td>0.000000</td>\n",
       "      <td>0.000000</td>\n",
       "      <td>0.000000</td>\n",
       "      <td>0.000000</td>\n",
       "      <td>0.000000</td>\n",
       "    </tr>\n",
       "    <tr>\n",
       "      <th>max</th>\n",
       "      <td>1.000000</td>\n",
       "      <td>165.000000</td>\n",
       "      <td>2073.289256</td>\n",
       "      <td>11259.000000</td>\n",
       "      <td>12337.000000</td>\n",
       "      <td>329.000000</td>\n",
       "      <td>26.000000</td>\n",
       "      <td>12352.000000</td>\n",
       "      <td>784.000000</td>\n",
       "      <td>3962.575036</td>\n",
       "      <td>...</td>\n",
       "      <td>2.000000</td>\n",
       "      <td>2.00000</td>\n",
       "      <td>1.0</td>\n",
       "      <td>71.000000</td>\n",
       "      <td>35.000000</td>\n",
       "      <td>36.000000</td>\n",
       "      <td>4.000000</td>\n",
       "      <td>2.000000</td>\n",
       "      <td>1.000000</td>\n",
       "      <td>1.000000</td>\n",
       "    </tr>\n",
       "  </tbody>\n",
       "</table>\n",
       "<p>8 rows × 233 columns</p>\n",
       "</div>"
      ],
      "text/plain": [
       "             Result      NumMoves     MeanScore     ModeScore    FinalScore  \\\n",
       "count  24255.000000  24255.000000  24255.000000  24255.000000  24255.000000   \n",
       "mean       0.544877     42.252690     30.881103     11.907442    111.901711   \n",
       "std        0.417736     16.235593    233.709202    445.214702   2310.851869   \n",
       "min        0.000000     10.000000  -2162.262500 -11447.000000 -12261.000000   \n",
       "25%        0.000000     31.000000    -60.758665      0.000000   -362.000000   \n",
       "50%        0.500000     40.000000     24.563636      0.000000      0.000000   \n",
       "75%        1.000000     51.000000    123.987715     26.000000    546.500000   \n",
       "max        1.000000    165.000000   2073.289256  11259.000000  12337.000000   \n",
       "\n",
       "          FullMoves      MinScore      MaxScore   MedianScore      StdScore  \\\n",
       "count  24255.000000  24255.000000  24255.000000  24255.000000  24255.000000   \n",
       "mean      83.967223   -794.591878    988.643950     68.913894    314.678490   \n",
       "std       32.489872   2126.099646   2275.840558     64.170646    475.478471   \n",
       "min       19.000000 -12348.000000    -51.000000      0.000000      7.795716   \n",
       "25%       61.000000   -482.000000     67.000000     30.000000     61.336328   \n",
       "50%       79.000000    -75.000000    156.000000     49.000000    145.621548   \n",
       "75%      102.000000    -18.000000    700.000000     84.000000    291.317992   \n",
       "max      329.000000     26.000000  12352.000000    784.000000   3962.575036   \n",
       "\n",
       "               ...                   EndB         EndR     EndK   WhiteСhecks  \\\n",
       "count          ...           24255.000000  24255.00000  24255.0  24255.000000   \n",
       "mean           ...               0.631293      1.03892      1.0      2.015584   \n",
       "std            ...               0.676858      0.74847      0.0      2.874868   \n",
       "min            ...               0.000000      0.00000      1.0      0.000000   \n",
       "25%            ...               0.000000      0.00000      1.0      0.000000   \n",
       "50%            ...               1.000000      1.00000      1.0      1.000000   \n",
       "75%            ...               1.000000      2.00000      1.0      3.000000   \n",
       "max            ...               2.000000      2.00000      1.0     71.000000   \n",
       "\n",
       "       WhiteQueenCastle  BlackQueenCastle     Promotion     EnPassant  \\\n",
       "count      24255.000000      24255.000000  24255.000000  24255.000000   \n",
       "mean           1.457308          0.910740      0.064069      0.061637   \n",
       "std            4.179615          3.663225      0.291749      0.245589   \n",
       "min            0.000000          0.000000      0.000000      0.000000   \n",
       "25%            0.000000          0.000000      0.000000      0.000000   \n",
       "50%            0.000000          0.000000      0.000000      0.000000   \n",
       "75%            0.000000          0.000000      0.000000      0.000000   \n",
       "max           35.000000         36.000000      4.000000      2.000000   \n",
       "\n",
       "       CanClaimDraw  InsufficientMaterial  \n",
       "count  24255.000000          24255.000000  \n",
       "mean       0.035415              0.000783  \n",
       "std        0.184831              0.027978  \n",
       "min        0.000000              0.000000  \n",
       "25%        0.000000              0.000000  \n",
       "50%        0.000000              0.000000  \n",
       "75%        0.000000              0.000000  \n",
       "max        1.000000              1.000000  \n",
       "\n",
       "[8 rows x 233 columns]"
      ]
     },
     "execution_count": 5,
     "metadata": {},
     "output_type": "execute_result"
    }
   ],
   "source": [
    "features=pd.read_csv(r'C:\\Users\\Asus\\PredictingRatings\\data\\features.csv')\n",
    "#features=pd.read_csv(r'C:\\Users\\vznam\\Downloads\\PredictingRatings-master\\data\\features.csv')\n",
    "\n",
    "print(features.info())\n",
    "print(features.shape)\n",
    "features.describe()"
   ]
  },
  {
   "cell_type": "markdown",
   "metadata": {},
   "source": [
    "#### Поиск пропущенных значений"
   ]
  },
  {
   "cell_type": "code",
   "execution_count": 6,
   "metadata": {},
   "outputs": [
    {
     "data": {
      "text/plain": [
       "array([], shape=(24255, 0), dtype=bool)"
      ]
     },
     "execution_count": 6,
     "metadata": {},
     "output_type": "execute_result"
    }
   ],
   "source": [
    "from sklearn.impute import MissingIndicator\n",
    "\n",
    "indicator = MissingIndicator(missing_values=np.NaN)\n",
    "indicator = indicator.fit_transform(features)\n",
    "\n",
    "indicator"
   ]
  },
  {
   "cell_type": "code",
   "execution_count": 7,
   "metadata": {},
   "outputs": [
    {
     "data": {
      "text/plain": [
       "False"
      ]
     },
     "execution_count": 7,
     "metadata": {},
     "output_type": "execute_result"
    }
   ],
   "source": [
    "features.isnull().values.any()"
   ]
  },
  {
   "cell_type": "markdown",
   "metadata": {},
   "source": [
    "#### Стандартизация\n",
    "Стандартизация - это преобразование, которое центрирует данные путем удаления среднего значения каждого объекта, а затем масштабирует его путем деления (непостоянных) объектов на их стандартное отклонение . После стандартизации данных среднее значение будет равно нулю, а стандартное отклонение - одному.\n",
    "\n",
    "Стандартизация может кардинально улучшить производительность моделей. Например, многие элементы, используемые в целевой функции алгоритма обучения (например, ядро RBF машин опорных векторов или регуляризаторы l1 и l2 линейных моделей), предполагают, что все объекты сосредоточены вокруг нуля и имеют дисперсию в том же порядке. Если у признака есть отклонение, которое на несколько порядков больше, чем у других, оно может доминировать в целевой функции и сделать оценщика неспособным учиться на других признаках правильно, как ожидалось.\n",
    "\n",
    "В зависимости от ваших потребностей и данных, Sklearn предоставляет набор инструментов для масштабирования : StandardScaler , MinMaxScaler , MaxAbsScaler и RobustScaler ."
   ]
  },
  {
   "cell_type": "code",
   "execution_count": 8,
   "metadata": {},
   "outputs": [],
   "source": [
    "from sklearn.preprocessing import StandardScaler\n",
    "scaler = StandardScaler()\n",
    "fscale=scaler.fit_transform(features)"
   ]
  },
  {
   "cell_type": "code",
   "execution_count": 9,
   "metadata": {},
   "outputs": [
    {
     "data": {
      "text/plain": [
       "(24255, 233)"
      ]
     },
     "execution_count": 9,
     "metadata": {},
     "output_type": "execute_result"
    }
   ],
   "source": [
    "len(fscale), len(fscale[0])"
   ]
  },
  {
   "cell_type": "code",
   "execution_count": 10,
   "metadata": {},
   "outputs": [
    {
     "data": {
      "text/plain": [
       "array([[-1.07432180e-01, -1.43223410e+00, -2.96688240e-02, ...,\n",
       "        -2.50980631e-01, -1.91613355e-01, -2.79992455e-02],\n",
       "       [-1.30438557e+00,  6.61973456e-01, -3.09399080e+00, ...,\n",
       "        -2.50980631e-01, -1.91613355e-01, -2.79992455e-02],\n",
       "       [ 1.08952121e+00, -2.00347304e-01,  7.85849638e-02, ...,\n",
       "        -2.50980631e-01, -1.91613355e-01, -2.79992455e-02],\n",
       "       [ 1.08952121e+00, -1.06266806e+00,  1.17738362e+00, ...,\n",
       "        -2.50980631e-01, -1.91613355e-01, -2.79992455e-02],\n",
       "       [-1.07432180e-01, -8.16290704e-01, -2.28992123e-04, ...,\n",
       "        -2.50980631e-01, -1.91613355e-01, -2.79992455e-02]])"
      ]
     },
     "execution_count": 10,
     "metadata": {},
     "output_type": "execute_result"
    }
   ],
   "source": [
    "fscale[:5]"
   ]
  },
  {
   "cell_type": "code",
   "execution_count": 11,
   "metadata": {},
   "outputs": [
    {
     "data": {
      "text/html": [
       "<div>\n",
       "<style scoped>\n",
       "    .dataframe tbody tr th:only-of-type {\n",
       "        vertical-align: middle;\n",
       "    }\n",
       "\n",
       "    .dataframe tbody tr th {\n",
       "        vertical-align: top;\n",
       "    }\n",
       "\n",
       "    .dataframe thead th {\n",
       "        text-align: right;\n",
       "    }\n",
       "</style>\n",
       "<table border=\"1\" class=\"dataframe\">\n",
       "  <thead>\n",
       "    <tr style=\"text-align: right;\">\n",
       "      <th></th>\n",
       "      <th>0</th>\n",
       "      <th>1</th>\n",
       "      <th>2</th>\n",
       "      <th>3</th>\n",
       "      <th>4</th>\n",
       "      <th>5</th>\n",
       "      <th>6</th>\n",
       "      <th>7</th>\n",
       "      <th>8</th>\n",
       "      <th>9</th>\n",
       "      <th>...</th>\n",
       "      <th>223</th>\n",
       "      <th>224</th>\n",
       "      <th>225</th>\n",
       "      <th>226</th>\n",
       "      <th>227</th>\n",
       "      <th>228</th>\n",
       "      <th>229</th>\n",
       "      <th>230</th>\n",
       "      <th>231</th>\n",
       "      <th>232</th>\n",
       "    </tr>\n",
       "  </thead>\n",
       "  <tbody>\n",
       "    <tr>\n",
       "      <th>0</th>\n",
       "      <td>-0.107432</td>\n",
       "      <td>-1.432234</td>\n",
       "      <td>-0.029669</td>\n",
       "      <td>-0.020007</td>\n",
       "      <td>-0.025057</td>\n",
       "      <td>-1.414846</td>\n",
       "      <td>0.361511</td>\n",
       "      <td>-0.402340</td>\n",
       "      <td>-0.754471</td>\n",
       "      <td>-0.606237</td>\n",
       "      <td>...</td>\n",
       "      <td>0.544745</td>\n",
       "      <td>1.284087</td>\n",
       "      <td>0.0</td>\n",
       "      <td>-0.701119</td>\n",
       "      <td>-0.348678</td>\n",
       "      <td>-0.248622</td>\n",
       "      <td>-0.219609</td>\n",
       "      <td>-0.250981</td>\n",
       "      <td>-0.191613</td>\n",
       "      <td>-0.027999</td>\n",
       "    </tr>\n",
       "    <tr>\n",
       "      <th>1</th>\n",
       "      <td>-1.304386</td>\n",
       "      <td>0.661973</td>\n",
       "      <td>-3.093991</td>\n",
       "      <td>0.013685</td>\n",
       "      <td>-5.044089</td>\n",
       "      <td>0.678157</td>\n",
       "      <td>-5.056033</td>\n",
       "      <td>-0.393552</td>\n",
       "      <td>-0.092161</td>\n",
       "      <td>4.146337</td>\n",
       "      <td>...</td>\n",
       "      <td>-0.932700</td>\n",
       "      <td>-0.052000</td>\n",
       "      <td>0.0</td>\n",
       "      <td>0.690277</td>\n",
       "      <td>-0.348678</td>\n",
       "      <td>-0.248622</td>\n",
       "      <td>-0.219609</td>\n",
       "      <td>-0.250981</td>\n",
       "      <td>-0.191613</td>\n",
       "      <td>-0.027999</td>\n",
       "    </tr>\n",
       "    <tr>\n",
       "      <th>2</th>\n",
       "      <td>1.089521</td>\n",
       "      <td>-0.200347</td>\n",
       "      <td>0.078585</td>\n",
       "      <td>0.042885</td>\n",
       "      <td>0.036394</td>\n",
       "      <td>-0.214447</td>\n",
       "      <td>0.359629</td>\n",
       "      <td>-0.347415</td>\n",
       "      <td>-0.497339</td>\n",
       "      <td>-0.553461</td>\n",
       "      <td>...</td>\n",
       "      <td>-0.932700</td>\n",
       "      <td>-0.052000</td>\n",
       "      <td>0.0</td>\n",
       "      <td>-0.353270</td>\n",
       "      <td>-0.348678</td>\n",
       "      <td>-0.248622</td>\n",
       "      <td>-0.219609</td>\n",
       "      <td>-0.250981</td>\n",
       "      <td>-0.191613</td>\n",
       "      <td>-0.027999</td>\n",
       "    </tr>\n",
       "    <tr>\n",
       "      <th>3</th>\n",
       "      <td>1.089521</td>\n",
       "      <td>-1.062668</td>\n",
       "      <td>1.177384</td>\n",
       "      <td>0.013685</td>\n",
       "      <td>0.330231</td>\n",
       "      <td>-1.076272</td>\n",
       "      <td>0.378443</td>\n",
       "      <td>-0.031481</td>\n",
       "      <td>1.138957</td>\n",
       "      <td>-0.002976</td>\n",
       "      <td>...</td>\n",
       "      <td>2.022190</td>\n",
       "      <td>1.284087</td>\n",
       "      <td>0.0</td>\n",
       "      <td>-0.701119</td>\n",
       "      <td>-0.348678</td>\n",
       "      <td>-0.248622</td>\n",
       "      <td>-0.219609</td>\n",
       "      <td>-0.250981</td>\n",
       "      <td>-0.191613</td>\n",
       "      <td>-0.027999</td>\n",
       "    </tr>\n",
       "    <tr>\n",
       "      <th>4</th>\n",
       "      <td>-0.107432</td>\n",
       "      <td>-0.816291</td>\n",
       "      <td>-0.000229</td>\n",
       "      <td>0.013685</td>\n",
       "      <td>-0.053186</td>\n",
       "      <td>-0.799257</td>\n",
       "      <td>0.366685</td>\n",
       "      <td>-0.393113</td>\n",
       "      <td>-0.622009</td>\n",
       "      <td>-0.609573</td>\n",
       "      <td>...</td>\n",
       "      <td>-0.932700</td>\n",
       "      <td>-0.052000</td>\n",
       "      <td>0.0</td>\n",
       "      <td>-0.701119</td>\n",
       "      <td>-0.348678</td>\n",
       "      <td>-0.248622</td>\n",
       "      <td>-0.219609</td>\n",
       "      <td>-0.250981</td>\n",
       "      <td>-0.191613</td>\n",
       "      <td>-0.027999</td>\n",
       "    </tr>\n",
       "  </tbody>\n",
       "</table>\n",
       "<p>5 rows × 233 columns</p>\n",
       "</div>"
      ],
      "text/plain": [
       "        0         1         2         3         4         5         6    \\\n",
       "0 -0.107432 -1.432234 -0.029669 -0.020007 -0.025057 -1.414846  0.361511   \n",
       "1 -1.304386  0.661973 -3.093991  0.013685 -5.044089  0.678157 -5.056033   \n",
       "2  1.089521 -0.200347  0.078585  0.042885  0.036394 -0.214447  0.359629   \n",
       "3  1.089521 -1.062668  1.177384  0.013685  0.330231 -1.076272  0.378443   \n",
       "4 -0.107432 -0.816291 -0.000229  0.013685 -0.053186 -0.799257  0.366685   \n",
       "\n",
       "        7         8         9      ...          223       224  225       226  \\\n",
       "0 -0.402340 -0.754471 -0.606237    ...     0.544745  1.284087  0.0 -0.701119   \n",
       "1 -0.393552 -0.092161  4.146337    ...    -0.932700 -0.052000  0.0  0.690277   \n",
       "2 -0.347415 -0.497339 -0.553461    ...    -0.932700 -0.052000  0.0 -0.353270   \n",
       "3 -0.031481  1.138957 -0.002976    ...     2.022190  1.284087  0.0 -0.701119   \n",
       "4 -0.393113 -0.622009 -0.609573    ...    -0.932700 -0.052000  0.0 -0.701119   \n",
       "\n",
       "        227       228       229       230       231       232  \n",
       "0 -0.348678 -0.248622 -0.219609 -0.250981 -0.191613 -0.027999  \n",
       "1 -0.348678 -0.248622 -0.219609 -0.250981 -0.191613 -0.027999  \n",
       "2 -0.348678 -0.248622 -0.219609 -0.250981 -0.191613 -0.027999  \n",
       "3 -0.348678 -0.248622 -0.219609 -0.250981 -0.191613 -0.027999  \n",
       "4 -0.348678 -0.248622 -0.219609 -0.250981 -0.191613 -0.027999  \n",
       "\n",
       "[5 rows x 233 columns]"
      ]
     },
     "execution_count": 11,
     "metadata": {},
     "output_type": "execute_result"
    }
   ],
   "source": [
    "features_scale = pd.DataFrame(fscale)\n",
    "features_scale.head()"
   ]
  },
  {
   "cell_type": "code",
   "execution_count": 12,
   "metadata": {},
   "outputs": [],
   "source": [
    "from sklearn.preprocessing import RobustScaler\n",
    "robust = RobustScaler(quantile_range = (0.1,0.9))\n",
    "frobust=robust.fit_transform(features)"
   ]
  },
  {
   "cell_type": "code",
   "execution_count": 13,
   "metadata": {},
   "outputs": [
    {
     "data": {
      "text/plain": [
       "(24255, 233)"
      ]
     },
     "execution_count": 13,
     "metadata": {},
     "output_type": "execute_result"
    }
   ],
   "source": [
    "len(frobust), len(frobust[0])"
   ]
  },
  {
   "cell_type": "code",
   "execution_count": 14,
   "metadata": {},
   "outputs": [
    {
     "data": {
      "text/plain": [
       "array([[ 0.00000000e+00, -7.00000000e+00, -9.36157950e-04, ...,\n",
       "         0.00000000e+00,  0.00000000e+00,  0.00000000e+00],\n",
       "       [-5.00000000e-01,  4.33333333e+00, -1.08881570e+00, ...,\n",
       "         0.00000000e+00,  0.00000000e+00,  0.00000000e+00],\n",
       "       [ 5.00000000e-01, -3.33333333e-01,  3.74955348e-02, ...,\n",
       "         0.00000000e+00,  0.00000000e+00,  0.00000000e+00],\n",
       "       [ 5.00000000e-01, -5.00000000e+00,  4.27585278e-01, ...,\n",
       "         0.00000000e+00,  0.00000000e+00,  0.00000000e+00],\n",
       "       [ 0.00000000e+00, -3.66666667e+00,  9.51541698e-03, ...,\n",
       "         0.00000000e+00,  0.00000000e+00,  0.00000000e+00]])"
      ]
     },
     "execution_count": 14,
     "metadata": {},
     "output_type": "execute_result"
    }
   ],
   "source": [
    "frobust[:5]"
   ]
  },
  {
   "cell_type": "code",
   "execution_count": 15,
   "metadata": {},
   "outputs": [
    {
     "data": {
      "text/html": [
       "<div>\n",
       "<style scoped>\n",
       "    .dataframe tbody tr th:only-of-type {\n",
       "        vertical-align: middle;\n",
       "    }\n",
       "\n",
       "    .dataframe tbody tr th {\n",
       "        vertical-align: top;\n",
       "    }\n",
       "\n",
       "    .dataframe thead th {\n",
       "        text-align: right;\n",
       "    }\n",
       "</style>\n",
       "<table border=\"1\" class=\"dataframe\">\n",
       "  <thead>\n",
       "    <tr style=\"text-align: right;\">\n",
       "      <th></th>\n",
       "      <th>0</th>\n",
       "      <th>1</th>\n",
       "      <th>2</th>\n",
       "      <th>3</th>\n",
       "      <th>4</th>\n",
       "      <th>5</th>\n",
       "      <th>6</th>\n",
       "      <th>7</th>\n",
       "      <th>8</th>\n",
       "      <th>9</th>\n",
       "      <th>...</th>\n",
       "      <th>223</th>\n",
       "      <th>224</th>\n",
       "      <th>225</th>\n",
       "      <th>226</th>\n",
       "      <th>227</th>\n",
       "      <th>228</th>\n",
       "      <th>229</th>\n",
       "      <th>230</th>\n",
       "      <th>231</th>\n",
       "      <th>232</th>\n",
       "    </tr>\n",
       "  </thead>\n",
       "  <tbody>\n",
       "    <tr>\n",
       "      <th>0</th>\n",
       "      <td>0.0</td>\n",
       "      <td>-7.000000</td>\n",
       "      <td>-0.000936</td>\n",
       "      <td>0.000616</td>\n",
       "      <td>0.041667</td>\n",
       "      <td>-6.833333</td>\n",
       "      <td>0.056813</td>\n",
       "      <td>-4.677110</td>\n",
       "      <td>-4.471991</td>\n",
       "      <td>-28.719548</td>\n",
       "      <td>...</td>\n",
       "      <td>0.0</td>\n",
       "      <td>1.0</td>\n",
       "      <td>0.0</td>\n",
       "      <td>-1.0</td>\n",
       "      <td>0.0</td>\n",
       "      <td>0.0</td>\n",
       "      <td>0.0</td>\n",
       "      <td>0.0</td>\n",
       "      <td>0.0</td>\n",
       "      <td>0.0</td>\n",
       "    </tr>\n",
       "    <tr>\n",
       "      <th>1</th>\n",
       "      <td>-0.5</td>\n",
       "      <td>4.333333</td>\n",
       "      <td>-1.088816</td>\n",
       "      <td>0.003694</td>\n",
       "      <td>-8.907517</td>\n",
       "      <td>4.500000</td>\n",
       "      <td>-13.297761</td>\n",
       "      <td>-3.550096</td>\n",
       "      <td>2.196768</td>\n",
       "      <td>515.768981</td>\n",
       "      <td>...</td>\n",
       "      <td>-1.0</td>\n",
       "      <td>0.0</td>\n",
       "      <td>0.0</td>\n",
       "      <td>3.0</td>\n",
       "      <td>0.0</td>\n",
       "      <td>0.0</td>\n",
       "      <td>0.0</td>\n",
       "      <td>0.0</td>\n",
       "      <td>0.0</td>\n",
       "      <td>0.0</td>\n",
       "    </tr>\n",
       "    <tr>\n",
       "      <th>2</th>\n",
       "      <td>0.5</td>\n",
       "      <td>-0.333333</td>\n",
       "      <td>0.037496</td>\n",
       "      <td>0.006362</td>\n",
       "      <td>0.151236</td>\n",
       "      <td>-0.333333</td>\n",
       "      <td>0.052175</td>\n",
       "      <td>2.366731</td>\n",
       "      <td>-1.882944</td>\n",
       "      <td>-22.673115</td>\n",
       "      <td>...</td>\n",
       "      <td>-1.0</td>\n",
       "      <td>0.0</td>\n",
       "      <td>0.0</td>\n",
       "      <td>0.0</td>\n",
       "      <td>0.0</td>\n",
       "      <td>0.0</td>\n",
       "      <td>0.0</td>\n",
       "      <td>0.0</td>\n",
       "      <td>0.0</td>\n",
       "      <td>0.0</td>\n",
       "    </tr>\n",
       "    <tr>\n",
       "      <th>3</th>\n",
       "      <td>0.5</td>\n",
       "      <td>-5.000000</td>\n",
       "      <td>0.427585</td>\n",
       "      <td>0.003694</td>\n",
       "      <td>0.675163</td>\n",
       "      <td>-5.000000</td>\n",
       "      <td>0.098553</td>\n",
       "      <td>42.882903</td>\n",
       "      <td>14.592813</td>\n",
       "      <td>40.394373</td>\n",
       "      <td>...</td>\n",
       "      <td>1.0</td>\n",
       "      <td>1.0</td>\n",
       "      <td>0.0</td>\n",
       "      <td>-1.0</td>\n",
       "      <td>0.0</td>\n",
       "      <td>0.0</td>\n",
       "      <td>0.0</td>\n",
       "      <td>0.0</td>\n",
       "      <td>0.0</td>\n",
       "      <td>0.0</td>\n",
       "    </tr>\n",
       "    <tr>\n",
       "      <th>4</th>\n",
       "      <td>0.0</td>\n",
       "      <td>-3.666667</td>\n",
       "      <td>0.009515</td>\n",
       "      <td>0.003694</td>\n",
       "      <td>-0.008488</td>\n",
       "      <td>-3.500000</td>\n",
       "      <td>0.069567</td>\n",
       "      <td>-3.493745</td>\n",
       "      <td>-3.138239</td>\n",
       "      <td>-29.101647</td>\n",
       "      <td>...</td>\n",
       "      <td>-1.0</td>\n",
       "      <td>0.0</td>\n",
       "      <td>0.0</td>\n",
       "      <td>-1.0</td>\n",
       "      <td>0.0</td>\n",
       "      <td>0.0</td>\n",
       "      <td>0.0</td>\n",
       "      <td>0.0</td>\n",
       "      <td>0.0</td>\n",
       "      <td>0.0</td>\n",
       "    </tr>\n",
       "  </tbody>\n",
       "</table>\n",
       "<p>5 rows × 233 columns</p>\n",
       "</div>"
      ],
      "text/plain": [
       "   0         1         2         3         4         5          6    \\\n",
       "0  0.0 -7.000000 -0.000936  0.000616  0.041667 -6.833333   0.056813   \n",
       "1 -0.5  4.333333 -1.088816  0.003694 -8.907517  4.500000 -13.297761   \n",
       "2  0.5 -0.333333  0.037496  0.006362  0.151236 -0.333333   0.052175   \n",
       "3  0.5 -5.000000  0.427585  0.003694  0.675163 -5.000000   0.098553   \n",
       "4  0.0 -3.666667  0.009515  0.003694 -0.008488 -3.500000   0.069567   \n",
       "\n",
       "         7          8           9   ...   223  224  225  226  227  228  229  \\\n",
       "0  -4.677110  -4.471991  -28.719548 ...   0.0  1.0  0.0 -1.0  0.0  0.0  0.0   \n",
       "1  -3.550096   2.196768  515.768981 ...  -1.0  0.0  0.0  3.0  0.0  0.0  0.0   \n",
       "2   2.366731  -1.882944  -22.673115 ...  -1.0  0.0  0.0  0.0  0.0  0.0  0.0   \n",
       "3  42.882903  14.592813   40.394373 ...   1.0  1.0  0.0 -1.0  0.0  0.0  0.0   \n",
       "4  -3.493745  -3.138239  -29.101647 ...  -1.0  0.0  0.0 -1.0  0.0  0.0  0.0   \n",
       "\n",
       "   230  231  232  \n",
       "0  0.0  0.0  0.0  \n",
       "1  0.0  0.0  0.0  \n",
       "2  0.0  0.0  0.0  \n",
       "3  0.0  0.0  0.0  \n",
       "4  0.0  0.0  0.0  \n",
       "\n",
       "[5 rows x 233 columns]"
      ]
     },
     "execution_count": 15,
     "metadata": {},
     "output_type": "execute_result"
    }
   ],
   "source": [
    "features_robust = pd.DataFrame(frobust)\n",
    "features_robust.head()"
   ]
  },
  {
   "cell_type": "code",
   "execution_count": 16,
   "metadata": {},
   "outputs": [],
   "source": [
    "from sklearn.preprocessing import MinMaxScaler\n",
    "minmax = MinMaxScaler()\n",
    "fminmax=minmax.fit_transform(features)"
   ]
  },
  {
   "cell_type": "code",
   "execution_count": 17,
   "metadata": {},
   "outputs": [
    {
     "data": {
      "text/plain": [
       "array([[0.5       , 0.05806452, 0.51615704, ..., 0.        , 0.        ,\n",
       "        0.        ],\n",
       "       [0.        , 0.27741935, 0.34707742, ..., 0.        , 0.        ,\n",
       "        0.        ],\n",
       "       [1.        , 0.18709677, 0.52213015, ..., 0.        , 0.        ,\n",
       "        0.        ],\n",
       "       [1.        , 0.09677419, 0.58275839, ..., 0.        , 0.        ,\n",
       "        0.        ],\n",
       "       [0.5       , 0.12258065, 0.51778144, ..., 0.        , 0.        ,\n",
       "        0.        ]])"
      ]
     },
     "execution_count": 17,
     "metadata": {},
     "output_type": "execute_result"
    }
   ],
   "source": [
    "fminmax[:5]"
   ]
  },
  {
   "cell_type": "code",
   "execution_count": 16,
   "metadata": {},
   "outputs": [
    {
     "data": {
      "text/html": [
       "<div>\n",
       "<style scoped>\n",
       "    .dataframe tbody tr th:only-of-type {\n",
       "        vertical-align: middle;\n",
       "    }\n",
       "\n",
       "    .dataframe tbody tr th {\n",
       "        vertical-align: top;\n",
       "    }\n",
       "\n",
       "    .dataframe thead th {\n",
       "        text-align: right;\n",
       "    }\n",
       "</style>\n",
       "<table border=\"1\" class=\"dataframe\">\n",
       "  <thead>\n",
       "    <tr style=\"text-align: right;\">\n",
       "      <th></th>\n",
       "      <th>0</th>\n",
       "      <th>1</th>\n",
       "      <th>2</th>\n",
       "      <th>3</th>\n",
       "      <th>4</th>\n",
       "      <th>5</th>\n",
       "      <th>6</th>\n",
       "      <th>7</th>\n",
       "      <th>8</th>\n",
       "      <th>9</th>\n",
       "      <th>...</th>\n",
       "      <th>223</th>\n",
       "      <th>224</th>\n",
       "      <th>225</th>\n",
       "      <th>226</th>\n",
       "      <th>227</th>\n",
       "      <th>228</th>\n",
       "      <th>229</th>\n",
       "      <th>230</th>\n",
       "      <th>231</th>\n",
       "      <th>232</th>\n",
       "    </tr>\n",
       "  </thead>\n",
       "  <tbody>\n",
       "    <tr>\n",
       "      <th>0</th>\n",
       "      <td>0.5</td>\n",
       "      <td>0.058065</td>\n",
       "      <td>0.516157</td>\n",
       "      <td>0.504272</td>\n",
       "      <td>0.500650</td>\n",
       "      <td>0.061290</td>\n",
       "      <td>0.995798</td>\n",
       "      <td>0.009998</td>\n",
       "      <td>0.026148</td>\n",
       "      <td>0.004712</td>\n",
       "      <td>...</td>\n",
       "      <td>0.5</td>\n",
       "      <td>1.0</td>\n",
       "      <td>0.0</td>\n",
       "      <td>0.000000</td>\n",
       "      <td>0.0</td>\n",
       "      <td>0.0</td>\n",
       "      <td>0.0</td>\n",
       "      <td>0.0</td>\n",
       "      <td>0.0</td>\n",
       "      <td>0.0</td>\n",
       "    </tr>\n",
       "    <tr>\n",
       "      <th>1</th>\n",
       "      <td>0.0</td>\n",
       "      <td>0.277419</td>\n",
       "      <td>0.347077</td>\n",
       "      <td>0.504933</td>\n",
       "      <td>0.029149</td>\n",
       "      <td>0.280645</td>\n",
       "      <td>0.064975</td>\n",
       "      <td>0.011610</td>\n",
       "      <td>0.080357</td>\n",
       "      <td>0.576097</td>\n",
       "      <td>...</td>\n",
       "      <td>0.0</td>\n",
       "      <td>0.5</td>\n",
       "      <td>0.0</td>\n",
       "      <td>0.056338</td>\n",
       "      <td>0.0</td>\n",
       "      <td>0.0</td>\n",
       "      <td>0.0</td>\n",
       "      <td>0.0</td>\n",
       "      <td>0.0</td>\n",
       "      <td>0.0</td>\n",
       "    </tr>\n",
       "    <tr>\n",
       "      <th>2</th>\n",
       "      <td>1.0</td>\n",
       "      <td>0.187097</td>\n",
       "      <td>0.522130</td>\n",
       "      <td>0.505505</td>\n",
       "      <td>0.506423</td>\n",
       "      <td>0.187097</td>\n",
       "      <td>0.995474</td>\n",
       "      <td>0.020076</td>\n",
       "      <td>0.047194</td>\n",
       "      <td>0.011057</td>\n",
       "      <td>...</td>\n",
       "      <td>0.0</td>\n",
       "      <td>0.5</td>\n",
       "      <td>0.0</td>\n",
       "      <td>0.014085</td>\n",
       "      <td>0.0</td>\n",
       "      <td>0.0</td>\n",
       "      <td>0.0</td>\n",
       "      <td>0.0</td>\n",
       "      <td>0.0</td>\n",
       "      <td>0.0</td>\n",
       "    </tr>\n",
       "    <tr>\n",
       "      <th>3</th>\n",
       "      <td>1.0</td>\n",
       "      <td>0.096774</td>\n",
       "      <td>0.582758</td>\n",
       "      <td>0.504933</td>\n",
       "      <td>0.534027</td>\n",
       "      <td>0.096774</td>\n",
       "      <td>0.998707</td>\n",
       "      <td>0.078046</td>\n",
       "      <td>0.181122</td>\n",
       "      <td>0.077240</td>\n",
       "      <td>...</td>\n",
       "      <td>1.0</td>\n",
       "      <td>1.0</td>\n",
       "      <td>0.0</td>\n",
       "      <td>0.000000</td>\n",
       "      <td>0.0</td>\n",
       "      <td>0.0</td>\n",
       "      <td>0.0</td>\n",
       "      <td>0.0</td>\n",
       "      <td>0.0</td>\n",
       "      <td>0.0</td>\n",
       "    </tr>\n",
       "    <tr>\n",
       "      <th>4</th>\n",
       "      <td>0.5</td>\n",
       "      <td>0.122581</td>\n",
       "      <td>0.517781</td>\n",
       "      <td>0.504933</td>\n",
       "      <td>0.498008</td>\n",
       "      <td>0.125806</td>\n",
       "      <td>0.996687</td>\n",
       "      <td>0.011691</td>\n",
       "      <td>0.036990</td>\n",
       "      <td>0.004311</td>\n",
       "      <td>...</td>\n",
       "      <td>0.0</td>\n",
       "      <td>0.5</td>\n",
       "      <td>0.0</td>\n",
       "      <td>0.000000</td>\n",
       "      <td>0.0</td>\n",
       "      <td>0.0</td>\n",
       "      <td>0.0</td>\n",
       "      <td>0.0</td>\n",
       "      <td>0.0</td>\n",
       "      <td>0.0</td>\n",
       "    </tr>\n",
       "  </tbody>\n",
       "</table>\n",
       "<p>5 rows × 233 columns</p>\n",
       "</div>"
      ],
      "text/plain": [
       "   0         1         2         3         4         5         6         7    \\\n",
       "0  0.5  0.058065  0.516157  0.504272  0.500650  0.061290  0.995798  0.009998   \n",
       "1  0.0  0.277419  0.347077  0.504933  0.029149  0.280645  0.064975  0.011610   \n",
       "2  1.0  0.187097  0.522130  0.505505  0.506423  0.187097  0.995474  0.020076   \n",
       "3  1.0  0.096774  0.582758  0.504933  0.534027  0.096774  0.998707  0.078046   \n",
       "4  0.5  0.122581  0.517781  0.504933  0.498008  0.125806  0.996687  0.011691   \n",
       "\n",
       "        8         9   ...   223  224  225       226  227  228  229  230  231  \\\n",
       "0  0.026148  0.004712 ...   0.5  1.0  0.0  0.000000  0.0  0.0  0.0  0.0  0.0   \n",
       "1  0.080357  0.576097 ...   0.0  0.5  0.0  0.056338  0.0  0.0  0.0  0.0  0.0   \n",
       "2  0.047194  0.011057 ...   0.0  0.5  0.0  0.014085  0.0  0.0  0.0  0.0  0.0   \n",
       "3  0.181122  0.077240 ...   1.0  1.0  0.0  0.000000  0.0  0.0  0.0  0.0  0.0   \n",
       "4  0.036990  0.004311 ...   0.0  0.5  0.0  0.000000  0.0  0.0  0.0  0.0  0.0   \n",
       "\n",
       "   232  \n",
       "0  0.0  \n",
       "1  0.0  \n",
       "2  0.0  \n",
       "3  0.0  \n",
       "4  0.0  \n",
       "\n",
       "[5 rows x 233 columns]"
      ]
     },
     "execution_count": 16,
     "metadata": {},
     "output_type": "execute_result"
    }
   ],
   "source": [
    "features_minmax = pd.DataFrame(fminmax)\n",
    "features_minmax.head()"
   ]
  },
  {
   "cell_type": "markdown",
   "metadata": {},
   "source": [
    "#### Нормализация\n",
    "Нормализация - это процесс масштабирования отдельных образцов для получения единичной нормы . В основных терминах вам необходимо нормализовать данные, когда алгоритм прогнозирует на основе взвешенных отношений, сформированных между точками данных. Масштабирование входных данных в единичные нормы является обычной операцией для классификации или кластеризации текста .\n",
    "\n",
    "Одно из ключевых различий между масштабированием (например, стандартизацией) и нормализацией заключается в том, что нормализация является построчной операцией , в то время как масштабирование является столбцовой операцией.\n",
    "Хотя существует много других способов нормализации данных, sklearn предоставляет три нормы (значение, с которым сравниваются отдельные значения): l1 , l2 и макс . При создании нового экземпляра класса Normalizer вы можете указать желаемую норму в параметре norm .\n",
    "\n",
    "Ниже формула для имеющихся норм обсуждаются и реализуются в коде Python - где результат представляет собой список знаменателей для каждого образца набора данных X  ."
   ]
  },
  {
   "cell_type": "code",
   "execution_count": 18,
   "metadata": {},
   "outputs": [],
   "source": [
    "from sklearn.preprocessing import Normalizer\n",
    "\n",
    "normalizer = Normalizer()\n",
    "fnorm=normalizer.fit_transform(features)"
   ]
  },
  {
   "cell_type": "code",
   "execution_count": 19,
   "metadata": {},
   "outputs": [
    {
     "data": {
      "text/html": [
       "<div>\n",
       "<style scoped>\n",
       "    .dataframe tbody tr th:only-of-type {\n",
       "        vertical-align: middle;\n",
       "    }\n",
       "\n",
       "    .dataframe tbody tr th {\n",
       "        vertical-align: top;\n",
       "    }\n",
       "\n",
       "    .dataframe thead th {\n",
       "        text-align: right;\n",
       "    }\n",
       "</style>\n",
       "<table border=\"1\" class=\"dataframe\">\n",
       "  <thead>\n",
       "    <tr style=\"text-align: right;\">\n",
       "      <th></th>\n",
       "      <th>0</th>\n",
       "      <th>1</th>\n",
       "      <th>2</th>\n",
       "      <th>3</th>\n",
       "      <th>4</th>\n",
       "      <th>5</th>\n",
       "      <th>6</th>\n",
       "      <th>7</th>\n",
       "      <th>8</th>\n",
       "      <th>9</th>\n",
       "      <th>...</th>\n",
       "      <th>223</th>\n",
       "      <th>224</th>\n",
       "      <th>225</th>\n",
       "      <th>226</th>\n",
       "      <th>227</th>\n",
       "      <th>228</th>\n",
       "      <th>229</th>\n",
       "      <th>230</th>\n",
       "      <th>231</th>\n",
       "      <th>232</th>\n",
       "    </tr>\n",
       "  </thead>\n",
       "  <tbody>\n",
       "    <tr>\n",
       "      <th>0</th>\n",
       "      <td>0.000281</td>\n",
       "      <td>0.010694</td>\n",
       "      <td>0.013478</td>\n",
       "      <td>0.001689</td>\n",
       "      <td>0.030393</td>\n",
       "      <td>0.021388</td>\n",
       "      <td>-0.014634</td>\n",
       "      <td>0.041087</td>\n",
       "      <td>0.011538</td>\n",
       "      <td>0.014877</td>\n",
       "      <td>...</td>\n",
       "      <td>0.000563</td>\n",
       "      <td>1.125676e-03</td>\n",
       "      <td>5.628378e-04</td>\n",
       "      <td>0.000000e+00</td>\n",
       "      <td>0.0</td>\n",
       "      <td>0.0</td>\n",
       "      <td>0.0</td>\n",
       "      <td>0.0</td>\n",
       "      <td>0.0</td>\n",
       "      <td>0.0</td>\n",
       "    </tr>\n",
       "    <tr>\n",
       "      <th>1</th>\n",
       "      <td>0.000000</td>\n",
       "      <td>0.000003</td>\n",
       "      <td>-0.000042</td>\n",
       "      <td>0.000001</td>\n",
       "      <td>-0.000707</td>\n",
       "      <td>0.000006</td>\n",
       "      <td>-0.000707</td>\n",
       "      <td>0.000006</td>\n",
       "      <td>0.000004</td>\n",
       "      <td>0.000140</td>\n",
       "      <td>...</td>\n",
       "      <td>0.000000</td>\n",
       "      <td>6.121344e-08</td>\n",
       "      <td>6.121344e-08</td>\n",
       "      <td>2.448538e-07</td>\n",
       "      <td>0.0</td>\n",
       "      <td>0.0</td>\n",
       "      <td>0.0</td>\n",
       "      <td>0.0</td>\n",
       "      <td>0.0</td>\n",
       "      <td>0.0</td>\n",
       "    </tr>\n",
       "    <tr>\n",
       "      <th>2</th>\n",
       "      <td>0.000127</td>\n",
       "      <td>0.004959</td>\n",
       "      <td>0.006262</td>\n",
       "      <td>0.003942</td>\n",
       "      <td>0.024921</td>\n",
       "      <td>0.009790</td>\n",
       "      <td>-0.003814</td>\n",
       "      <td>0.025176</td>\n",
       "      <td>0.004705</td>\n",
       "      <td>0.006551</td>\n",
       "      <td>...</td>\n",
       "      <td>0.000000</td>\n",
       "      <td>1.271491e-04</td>\n",
       "      <td>1.271491e-04</td>\n",
       "      <td>1.271491e-04</td>\n",
       "      <td>0.0</td>\n",
       "      <td>0.0</td>\n",
       "      <td>0.0</td>\n",
       "      <td>0.0</td>\n",
       "      <td>0.0</td>\n",
       "      <td>0.0</td>\n",
       "    </tr>\n",
       "    <tr>\n",
       "      <th>3</th>\n",
       "      <td>0.000006</td>\n",
       "      <td>0.000143</td>\n",
       "      <td>0.001751</td>\n",
       "      <td>0.000103</td>\n",
       "      <td>0.005005</td>\n",
       "      <td>0.000280</td>\n",
       "      <td>0.000057</td>\n",
       "      <td>0.005245</td>\n",
       "      <td>0.000812</td>\n",
       "      <td>0.001792</td>\n",
       "      <td>...</td>\n",
       "      <td>0.000011</td>\n",
       "      <td>1.143992e-05</td>\n",
       "      <td>5.719961e-06</td>\n",
       "      <td>0.000000e+00</td>\n",
       "      <td>0.0</td>\n",
       "      <td>0.0</td>\n",
       "      <td>0.0</td>\n",
       "      <td>0.0</td>\n",
       "      <td>0.0</td>\n",
       "      <td>0.0</td>\n",
       "    </tr>\n",
       "    <tr>\n",
       "      <th>4</th>\n",
       "      <td>0.000218</td>\n",
       "      <td>0.012648</td>\n",
       "      <td>0.013445</td>\n",
       "      <td>0.007850</td>\n",
       "      <td>-0.004797</td>\n",
       "      <td>0.025296</td>\n",
       "      <td>-0.006542</td>\n",
       "      <td>0.040997</td>\n",
       "      <td>0.012648</td>\n",
       "      <td>0.010836</td>\n",
       "      <td>...</td>\n",
       "      <td>0.000000</td>\n",
       "      <td>4.361357e-04</td>\n",
       "      <td>4.361357e-04</td>\n",
       "      <td>0.000000e+00</td>\n",
       "      <td>0.0</td>\n",
       "      <td>0.0</td>\n",
       "      <td>0.0</td>\n",
       "      <td>0.0</td>\n",
       "      <td>0.0</td>\n",
       "      <td>0.0</td>\n",
       "    </tr>\n",
       "  </tbody>\n",
       "</table>\n",
       "<p>5 rows × 233 columns</p>\n",
       "</div>"
      ],
      "text/plain": [
       "        0         1         2         3         4         5         6    \\\n",
       "0  0.000281  0.010694  0.013478  0.001689  0.030393  0.021388 -0.014634   \n",
       "1  0.000000  0.000003 -0.000042  0.000001 -0.000707  0.000006 -0.000707   \n",
       "2  0.000127  0.004959  0.006262  0.003942  0.024921  0.009790 -0.003814   \n",
       "3  0.000006  0.000143  0.001751  0.000103  0.005005  0.000280  0.000057   \n",
       "4  0.000218  0.012648  0.013445  0.007850 -0.004797  0.025296 -0.006542   \n",
       "\n",
       "        7         8         9   ...        223           224           225  \\\n",
       "0  0.041087  0.011538  0.014877 ...   0.000563  1.125676e-03  5.628378e-04   \n",
       "1  0.000006  0.000004  0.000140 ...   0.000000  6.121344e-08  6.121344e-08   \n",
       "2  0.025176  0.004705  0.006551 ...   0.000000  1.271491e-04  1.271491e-04   \n",
       "3  0.005245  0.000812  0.001792 ...   0.000011  1.143992e-05  5.719961e-06   \n",
       "4  0.040997  0.012648  0.010836 ...   0.000000  4.361357e-04  4.361357e-04   \n",
       "\n",
       "            226  227  228  229  230  231  232  \n",
       "0  0.000000e+00  0.0  0.0  0.0  0.0  0.0  0.0  \n",
       "1  2.448538e-07  0.0  0.0  0.0  0.0  0.0  0.0  \n",
       "2  1.271491e-04  0.0  0.0  0.0  0.0  0.0  0.0  \n",
       "3  0.000000e+00  0.0  0.0  0.0  0.0  0.0  0.0  \n",
       "4  0.000000e+00  0.0  0.0  0.0  0.0  0.0  0.0  \n",
       "\n",
       "[5 rows x 233 columns]"
      ]
     },
     "execution_count": 19,
     "metadata": {},
     "output_type": "execute_result"
    }
   ],
   "source": [
    "features_norm = pd.DataFrame(fnorm)\n",
    "features_norm.head()"
   ]
  },
  {
   "cell_type": "markdown",
   "metadata": {},
   "source": [
    "#### mutual_info_regression\n",
    "Оценивает взаимную информацию для непрерывной целевой переменной.\n",
    "\n",
    "Взаимная информация (MI)  между двумя случайными переменными является неотрицательным значением, которое измеряет зависимость между переменными. Она равен нулю тогда и только тогда, когда две случайные переменные являются независимыми, а более высокие значения означают более высокую зависимость.\n",
    "\n",
    "Функция основана на непараметрических методах, основанных на оценке энтропии по расстояниям k-ближайших соседей."
   ]
  },
  {
   "cell_type": "code",
   "execution_count": 21,
   "metadata": {},
   "outputs": [
    {
     "name": "stderr",
     "output_type": "stream",
     "text": [
      "C:\\Program Files (x86)\\Microsoft Visual Studio\\Shared\\Anaconda3_64\\lib\\site-packages\\sklearn\\utils\\validation.py:475: DataConversionWarning: Data with input dtype int64 was converted to float64 by the scale function.\n",
      "  warnings.warn(msg, DataConversionWarning)\n"
     ]
    }
   ],
   "source": [
    "from sklearn.feature_selection import mutual_info_regression\n",
    "\n",
    "mutual_info=mutual_info_regression(features,elos.SumElos)"
   ]
  },
  {
   "cell_type": "code",
   "execution_count": 22,
   "metadata": {},
   "outputs": [
    {
     "name": "stdout",
     "output_type": "stream",
     "text": [
      "233\n"
     ]
    },
    {
     "data": {
      "text/plain": [
       "array([0.01144929, 0.0074461 , 0.02354213, 0.01343421, 0.02500307,\n",
       "       0.00979916, 0.00939231, 0.00767176, 0.03364565, 0.03353404,\n",
       "       0.0342469 , 0.00662867, 0.01337795, 0.02781061, 0.02156062,\n",
       "       0.03001329, 0.02657642, 0.01531805, 0.02755646, 0.01260773,\n",
       "       0.        , 0.02920756, 0.02934639, 0.02792328, 0.03281694,\n",
       "       0.02164038, 0.02747721, 0.02596771, 0.02488595, 0.01929532,\n",
       "       0.03208715, 0.0430293 , 0.03937981, 0.0121913 , 0.01151433,\n",
       "       0.0261361 , 0.0282812 , 0.02733352, 0.02442344, 0.03495535,\n",
       "       0.01784161, 0.02728654, 0.00334934, 0.03468696, 0.0347202 ,\n",
       "       0.02005031, 0.01705049, 0.00558312, 0.00702134, 0.02013665,\n",
       "       0.00621245, 0.00718467, 0.01036591, 0.01234481, 0.        ,\n",
       "       0.02577642, 0.03634354, 0.02152702, 0.02304255, 0.04149552,\n",
       "       0.02959531, 0.02520405, 0.02376031, 0.01812476, 0.02896865,\n",
       "       0.02763978, 0.02928624, 0.0250804 , 0.02121925, 0.02263335,\n",
       "       0.02477367, 0.02966116, 0.03338042, 0.01910373, 0.02025618,\n",
       "       0.01824188, 0.02538937, 0.02838901, 0.01368733, 0.03698387,\n",
       "       0.03206887, 0.02737631, 0.02221938, 0.0157131 , 0.02480811,\n",
       "       0.01903687, 0.01163737, 0.0209291 , 0.00948643, 0.01999021,\n",
       "       0.02024113, 0.00401299, 0.03639634, 0.03505709, 0.02763699,\n",
       "       0.02163937, 0.04474762, 0.04774116, 0.00777817, 0.0191028 ,\n",
       "       0.0221305 , 0.02611305, 0.02557711, 0.02774127, 0.03221587,\n",
       "       0.01478398, 0.00525637, 0.01293123, 0.00398218, 0.01360818,\n",
       "       0.01377452, 0.01378203, 0.00254213, 0.        , 0.03860283,\n",
       "       0.0361183 , 0.01710076, 0.03844554, 0.03760475, 0.00949433,\n",
       "       0.01606543, 0.02381582, 0.029342  , 0.02084735, 0.02435934,\n",
       "       0.02384699, 0.00613365, 0.01561817, 0.00624204, 0.00659311,\n",
       "       0.0078531 , 0.00233773, 0.00591534, 0.        , 0.03754744,\n",
       "       0.00479028, 0.03609766, 0.00987262, 0.03182526, 0.02454591,\n",
       "       0.        , 0.02037164, 0.01379902, 0.01272527, 0.01886094,\n",
       "       0.0273469 , 0.02237132, 0.00800162, 0.04862609, 0.        ,\n",
       "       0.03862284, 0.00902004, 0.03697018, 0.05060554, 0.0331021 ,\n",
       "       0.04563629, 0.03366576, 0.03822085, 0.01021762, 0.00393056,\n",
       "       0.00519327, 0.0028261 , 0.00705812, 0.00336118, 0.02714975,\n",
       "       0.02931024, 0.01981853, 0.01432406, 0.02152034, 0.02023466,\n",
       "       0.01310897, 0.01498474, 0.01114856, 0.02202799, 0.00705118,\n",
       "       0.01060978, 0.02850308, 0.03346937, 0.03179502, 0.03169875,\n",
       "       0.01885842, 0.02751652, 0.01045681, 0.0039787 , 0.00538346,\n",
       "       0.0080184 , 0.00908904, 0.00092944, 0.03862247, 0.02895548,\n",
       "       0.02645446, 0.01694371, 0.03075012, 0.02303398, 0.00832328,\n",
       "       0.02249928, 0.01898468, 0.01550367, 0.02374242, 0.02118632,\n",
       "       0.00506215, 0.        , 0.00686792, 0.        , 0.        ,\n",
       "       0.        , 0.00643025, 0.00056604, 0.        , 0.00620968,\n",
       "       0.00149281, 0.00046092, 0.        , 0.        , 0.00434461,\n",
       "       0.00053067, 0.01706324, 0.        , 0.        , 0.        ,\n",
       "       0.00103122, 0.01125355, 0.00155255, 0.00270531, 0.00573036,\n",
       "       0.00026612, 0.00062108, 0.        , 0.        , 0.00218464,\n",
       "       0.00212803, 0.00646853, 0.00044146])"
      ]
     },
     "execution_count": 22,
     "metadata": {},
     "output_type": "execute_result"
    }
   ],
   "source": [
    "print(len(mutual_info))\n",
    "mutual_info"
   ]
  },
  {
   "cell_type": "code",
   "execution_count": 31,
   "metadata": {},
   "outputs": [],
   "source": [
    "def get_dependency(info):\n",
    "    for ind,val in enumerate(info):\n",
    "        if val > 0.5:\n",
    "            print(ind)"
   ]
  },
  {
   "cell_type": "code",
   "execution_count": 24,
   "metadata": {},
   "outputs": [
    {
     "name": "stderr",
     "output_type": "stream",
     "text": [
      "C:\\Program Files (x86)\\Microsoft Visual Studio\\Shared\\Anaconda3_64\\lib\\site-packages\\sklearn\\utils\\validation.py:475: DataConversionWarning: Data with input dtype int64 was converted to float64 by the scale function.\n",
      "  warnings.warn(msg, DataConversionWarning)\n"
     ]
    },
    {
     "name": "stdout",
     "output_type": "stream",
     "text": [
      "233\n"
     ]
    },
    {
     "data": {
      "text/plain": [
       "array([0.01658198, 0.01039483, 0.02194736, 0.01149659, 0.02289977,\n",
       "       0.00786855, 0.01212491, 0.00526847, 0.03503934, 0.02911937,\n",
       "       0.03562077, 0.00819085, 0.0109332 , 0.02725668, 0.02325845,\n",
       "       0.02965184, 0.0301473 , 0.01946948, 0.02685086, 0.01646823,\n",
       "       0.        , 0.02591258, 0.02723816, 0.02748008, 0.0289034 ,\n",
       "       0.02441105, 0.02946009, 0.02551394, 0.0297602 , 0.02209971,\n",
       "       0.03465052, 0.04327108, 0.04480094, 0.00982754, 0.00966432,\n",
       "       0.0326526 , 0.02780023, 0.02821425, 0.02453801, 0.02699022,\n",
       "       0.01804713, 0.02564503, 0.00413503, 0.03534215, 0.03303127,\n",
       "       0.02008609, 0.01771829, 0.00626337, 0.0046899 , 0.02362236,\n",
       "       0.00536385, 0.00452332, 0.01027122, 0.01346936, 0.        ,\n",
       "       0.0233709 , 0.03661452, 0.02076567, 0.02188074, 0.03890365,\n",
       "       0.04012029, 0.022122  , 0.02731584, 0.01800073, 0.02690955,\n",
       "       0.02816431, 0.03057426, 0.0203961 , 0.02243416, 0.02521578,\n",
       "       0.0228462 , 0.02849831, 0.03507206, 0.02320153, 0.01305398,\n",
       "       0.02711943, 0.02723485, 0.03001389, 0.01639532, 0.03503862,\n",
       "       0.0304977 , 0.0289244 , 0.01495594, 0.02014426, 0.02924002,\n",
       "       0.02149463, 0.01637286, 0.02019536, 0.01371151, 0.02132597,\n",
       "       0.02275714, 0.        , 0.03673296, 0.03464244, 0.02735828,\n",
       "       0.0207094 , 0.04515872, 0.04448036, 0.00561674, 0.02034806,\n",
       "       0.02552781, 0.02486083, 0.03083894, 0.02882623, 0.03336842,\n",
       "       0.02443307, 0.        , 0.01972619, 0.00336055, 0.01144244,\n",
       "       0.01340496, 0.01624873, 0.00262479, 0.00366609, 0.03689113,\n",
       "       0.03532192, 0.02007292, 0.03937353, 0.04019914, 0.00686558,\n",
       "       0.01591246, 0.02380789, 0.03044306, 0.02067188, 0.02264632,\n",
       "       0.02552556, 0.00708093, 0.01736615, 0.00702551, 0.01124313,\n",
       "       0.00790369, 0.00227379, 0.00435102, 0.00062387, 0.03818132,\n",
       "       0.00584268, 0.03491259, 0.01276823, 0.03389544, 0.03171406,\n",
       "       0.        , 0.0185839 , 0.01269126, 0.01831888, 0.01754716,\n",
       "       0.03143479, 0.02660553, 0.00916731, 0.04785617, 0.00163957,\n",
       "       0.03734154, 0.00839159, 0.04193582, 0.04910143, 0.03020182,\n",
       "       0.04332885, 0.03375074, 0.04003617, 0.01077624, 0.00475947,\n",
       "       0.00550262, 0.00131914, 0.00340923, 0.00644923, 0.02402359,\n",
       "       0.02653757, 0.01955643, 0.01070325, 0.01512663, 0.02063599,\n",
       "       0.01462724, 0.01671359, 0.01500322, 0.01736016, 0.01264006,\n",
       "       0.01787932, 0.02788358, 0.02706363, 0.02478056, 0.03062733,\n",
       "       0.02324177, 0.03393416, 0.01321761, 0.00717346, 0.00359338,\n",
       "       0.00413338, 0.00968468, 0.00215994, 0.04201852, 0.02715199,\n",
       "       0.03498644, 0.02004434, 0.02719816, 0.01876113, 0.01171427,\n",
       "       0.01991489, 0.02017142, 0.01809079, 0.02248837, 0.02182442,\n",
       "       0.        , 0.00106099, 0.00663512, 0.        , 0.        ,\n",
       "       0.        , 0.00011851, 0.        , 0.        , 0.        ,\n",
       "       0.00199557, 0.        , 0.00090765, 0.0035004 , 0.        ,\n",
       "       0.        , 0.01267278, 0.        , 0.00435801, 0.        ,\n",
       "       0.        , 0.01532226, 0.        , 0.        , 0.00921647,\n",
       "       0.003408  , 0.        , 0.        , 0.00211037, 0.00154622,\n",
       "       0.        , 0.00773139, 0.00322651])"
      ]
     },
     "execution_count": 24,
     "metadata": {},
     "output_type": "execute_result"
    }
   ],
   "source": [
    "mutual_info_mean=mutual_info_regression(features,elos.MeanElos)\n",
    "print(len(mutual_info_mean))\n",
    "mutual_info_mean"
   ]
  },
  {
   "cell_type": "code",
   "execution_count": 25,
   "metadata": {},
   "outputs": [
    {
     "name": "stderr",
     "output_type": "stream",
     "text": [
      "C:\\Program Files (x86)\\Microsoft Visual Studio\\Shared\\Anaconda3_64\\lib\\site-packages\\sklearn\\utils\\validation.py:475: DataConversionWarning: Data with input dtype int64 was converted to float64 by the scale function.\n",
      "  warnings.warn(msg, DataConversionWarning)\n"
     ]
    },
    {
     "name": "stdout",
     "output_type": "stream",
     "text": [
      "233\n"
     ]
    },
    {
     "data": {
      "text/plain": [
       "array([1.90156218e-01, 1.39717538e-02, 1.51834660e-01, 4.80450273e-02,\n",
       "       1.70169120e-01, 8.20388768e-02, 1.19406066e-01, 1.28169254e-01,\n",
       "       1.46024411e-02, 2.38521773e-02, 2.80158316e-02, 1.25318138e-01,\n",
       "       1.22360509e-01, 1.50667056e-01, 1.45227360e-02, 2.15881938e-02,\n",
       "       2.46556532e-02, 5.02003839e-02, 1.72382150e-01, 1.36611882e-01,\n",
       "       1.22229860e-01, 1.58154374e-01, 1.86074261e-02, 2.28008937e-02,\n",
       "       2.64011836e-02, 4.79306125e-02, 1.71709666e-01, 2.37174386e-02,\n",
       "       3.81701561e-02, 1.66330530e-01, 3.16178115e-02, 1.98015392e-02,\n",
       "       1.72820078e-02, 0.00000000e+00, 1.10329215e-02, 4.36113736e-02,\n",
       "       4.86305439e-02, 2.21158222e-02, 3.71859174e-02, 2.87077983e-02,\n",
       "       1.11453146e-02, 2.91952325e-02, 9.29700176e-03, 3.99033664e-02,\n",
       "       1.74051316e-02, 2.56417125e-02, 2.48205869e-02, 7.57342767e-03,\n",
       "       1.32023315e-02, 6.98521474e-03, 0.00000000e+00, 2.58656080e-03,\n",
       "       1.20132414e-02, 5.47539892e-03, 1.01593979e-02, 6.14037066e-02,\n",
       "       5.91991695e-02, 8.04692141e-02, 1.37298959e-02, 1.89503404e-02,\n",
       "       1.47542895e-02, 4.14461508e-02, 1.34130305e-01, 1.30137408e-01,\n",
       "       1.56389846e-01, 1.84557683e-02, 2.15276865e-02, 2.37723739e-02,\n",
       "       1.16640950e-01, 1.43328340e-01, 1.32621915e-01, 1.52003815e-01,\n",
       "       2.46775762e-02, 1.43624626e-02, 1.26615709e-02, 1.14350689e-01,\n",
       "       1.60577513e-01, 1.40140104e-01, 1.28151699e-01, 1.55968885e-01,\n",
       "       2.91289963e-02, 1.61531061e-02, 2.34024656e-02, 1.15112909e-01,\n",
       "       1.65137761e-01, 1.26637404e-02, 5.77543394e-03, 2.22988694e-02,\n",
       "       0.00000000e+00, 1.63880489e-03, 1.98057325e-03, 5.24958123e-03,\n",
       "       8.49387957e-03, 1.74686919e-02, 5.49553928e-02, 8.44191621e-03,\n",
       "       1.19291007e-02, 1.74078582e-02, 2.78820008e-03, 2.23365450e-02,\n",
       "       2.54627889e-02, 1.50318085e-01, 2.42821593e-02, 2.03064975e-02,\n",
       "       1.80263847e-02, 1.31193537e-03, 3.62862212e-03, 4.36030643e-03,\n",
       "       4.27940351e-03, 0.00000000e+00, 9.35770714e-04, 0.00000000e+00,\n",
       "       4.89107619e-04, 4.38656811e-03, 1.82434332e-02, 2.48249313e-02,\n",
       "       8.57389896e-03, 2.01042805e-02, 1.69535219e-02, 8.96857931e-03,\n",
       "       1.60486712e-02, 2.98289430e-02, 4.28775922e-02, 2.56067506e-02,\n",
       "       2.38802275e-02, 1.80719998e-02, 9.69550935e-03, 1.11222374e-02,\n",
       "       0.00000000e+00, 2.37054191e-03, 4.37747174e-03, 2.69654049e-05,\n",
       "       2.51667157e-03, 0.00000000e+00, 9.21409008e-03, 6.55480448e-03,\n",
       "       1.07914037e-02, 4.17655083e-04, 9.57881336e-03, 0.00000000e+00,\n",
       "       8.45437500e-03, 2.54979245e-02, 1.96936610e-02, 4.20612854e-02,\n",
       "       1.63367926e-02, 2.00536424e-02, 1.10910653e-02, 1.34546960e-02,\n",
       "       3.19420318e-02, 0.00000000e+00, 1.98880302e-02, 1.79248684e-02,\n",
       "       2.71259868e-02, 5.83109529e-02, 1.91548900e-02, 2.70898703e-02,\n",
       "       1.32460089e-02, 2.89465789e-02, 2.45776508e-03, 0.00000000e+00,\n",
       "       4.54231522e-03, 3.13018548e-03, 8.59997540e-03, 1.53923143e-03,\n",
       "       1.75911897e-02, 1.33769025e-02, 0.00000000e+00, 3.16521456e-04,\n",
       "       5.62236684e-03, 5.32866985e-03, 2.82549257e-02, 4.60635060e-02,\n",
       "       2.15751302e-03, 2.37349265e-02, 6.83566431e-03, 1.80417587e-02,\n",
       "       1.51273351e-02, 1.97940388e-02, 1.86287396e-02, 1.55623030e-02,\n",
       "       1.37403515e-02, 1.16053052e-02, 1.08193567e-03, 3.70540590e-03,\n",
       "       0.00000000e+00, 1.77535483e-03, 0.00000000e+00, 2.93919480e-03,\n",
       "       6.87873632e-03, 1.99267976e-03, 1.21064820e-04, 8.10531512e-03,\n",
       "       6.94906940e-03, 2.28957634e-03, 5.32602222e-03, 6.69452938e-03,\n",
       "       9.22646689e-03, 1.84112650e-02, 9.82837864e-03, 6.14256056e-03,\n",
       "       0.00000000e+00, 0.00000000e+00, 1.89544052e-03, 3.59251164e-03,\n",
       "       7.12617279e-03, 0.00000000e+00, 7.15379380e-03, 2.89147244e-02,\n",
       "       2.36289747e-02, 1.10762728e-02, 4.67691992e-03, 0.00000000e+00,\n",
       "       3.68133598e-02, 5.84998072e-02, 3.69293695e-04, 4.19905420e-03,\n",
       "       2.99143705e-03, 0.00000000e+00, 6.81664314e-03, 1.35802803e-03,\n",
       "       2.57454400e-03, 1.61528676e-02, 2.50663808e-03, 4.21957100e-03,\n",
       "       0.00000000e+00, 2.21036657e-03, 1.25189245e-02, 1.19670040e-02,\n",
       "       1.12641520e-03, 2.00982635e-03, 7.39407758e-03, 5.89077027e-03,\n",
       "       0.00000000e+00])"
      ]
     },
     "execution_count": 25,
     "metadata": {},
     "output_type": "execute_result"
    }
   ],
   "source": [
    "mutual_info_diff=mutual_info_regression(features,elos.DiffElos)\n",
    "print(len(mutual_info_diff))\n",
    "mutual_info_diff"
   ]
  },
  {
   "cell_type": "code",
   "execution_count": 32,
   "metadata": {},
   "outputs": [
    {
     "name": "stdout",
     "output_type": "stream",
     "text": [
      "SumElos\n",
      "MeanElos\n",
      "DiffElos\n"
     ]
    }
   ],
   "source": [
    "print('SumElos')\n",
    "get_dependency(mutual_info)\n",
    "print('MeanElos')\n",
    "get_dependency(mutual_info_mean)\n",
    "print('DiffElos')\n",
    "get_dependency(mutual_info_diff)"
   ]
  },
  {
   "cell_type": "markdown",
   "metadata": {},
   "source": [
    "#### f-regression\n",
    "Одномерные линейные регрессионные тесты.\n",
    "\n",
    "Линейная модель для тестирования индивидуального эффекта каждого из множества регрессоров. Эта функция оценки используется в процедуре выбора функции, а не в процедуре выбора отдельно стоящей функции.\n",
    "\n",
    "2 этапа:\n",
    "\n",
    "1. Вычисляется корреляция между каждым регрессором и целью\n",
    "2. Она преобразуется в F-оценку, а затем в р-значение."
   ]
  },
  {
   "cell_type": "code",
   "execution_count": 39,
   "metadata": {},
   "outputs": [
    {
     "name": "stderr",
     "output_type": "stream",
     "text": [
      "C:\\Program Files (x86)\\Microsoft Visual Studio\\Shared\\Anaconda3_64\\lib\\site-packages\\sklearn\\feature_selection\\univariate_selection.py:298: RuntimeWarning: divide by zero encountered in true_divide\n",
      "  corr /= X_norms\n",
      "C:\\Program Files (x86)\\Microsoft Visual Studio\\Shared\\Anaconda3_64\\lib\\site-packages\\sklearn\\feature_selection\\univariate_selection.py:303: RuntimeWarning: invalid value encountered in true_divide\n",
      "  F = corr ** 2 / (1 - corr ** 2) * degrees_of_freedom\n",
      "C:\\Program Files (x86)\\Microsoft Visual Studio\\Shared\\Anaconda3_64\\lib\\site-packages\\scipy\\stats\\_distn_infrastructure.py:879: RuntimeWarning: invalid value encountered in greater\n",
      "  return (self.a < x) & (x < self.b)\n",
      "C:\\Program Files (x86)\\Microsoft Visual Studio\\Shared\\Anaconda3_64\\lib\\site-packages\\scipy\\stats\\_distn_infrastructure.py:879: RuntimeWarning: invalid value encountered in less\n",
      "  return (self.a < x) & (x < self.b)\n",
      "C:\\Program Files (x86)\\Microsoft Visual Studio\\Shared\\Anaconda3_64\\lib\\site-packages\\scipy\\stats\\_distn_infrastructure.py:1821: RuntimeWarning: invalid value encountered in less_equal\n",
      "  cond2 = cond0 & (x <= self.a)\n"
     ]
    }
   ],
   "source": [
    "from sklearn.feature_selection import f_regression\n",
    "\n",
    "pval_mean=f_regression(features,elos.MeanElos)[1]\n",
    "pval_sum=f_regression(features,elos.SumElos)[1]\n",
    "pval_diff=f_regression(features,elos.DiffElos)[1]\n",
    "pval_white=f_regression(features,elos.WhiteElo)[1]\n",
    "pval_black=f_regression(features,elos.BlackElo)[1]"
   ]
  },
  {
   "cell_type": "markdown",
   "metadata": {},
   "source": [
    "#### проверка коэффициентов регрессии\n",
    "\n",
    "Вычисление индексов тех признаков, у которых p_value > 0.05, то есть они вероятно являются незначимыми"
   ]
  },
  {
   "cell_type": "code",
   "execution_count": 78,
   "metadata": {},
   "outputs": [],
   "source": [
    "def get_significance(pvals):\n",
    "    res=[]\n",
    "    for ind,val in enumerate(pvals):\n",
    "        if val >= 0.05:\n",
    "            res.append(ind)\n",
    "    return res"
   ]
  },
  {
   "cell_type": "code",
   "execution_count": 79,
   "metadata": {},
   "outputs": [
    {
     "name": "stdout",
     "output_type": "stream",
     "text": [
      "MeanElos\n",
      "33\n",
      "SumElos\n",
      "33\n",
      "DiffElos\n",
      "60\n",
      "WhiteElos\n",
      "19\n",
      "BlackElos\n",
      "13\n"
     ]
    }
   ],
   "source": [
    "print('MeanElos')\n",
    "ind_rej_mean=get_significance(pval_mean)\n",
    "print(len(ind_rej_mean))\n",
    "print('SumElos')\n",
    "ind_rej_sum=get_significance(pval_sum)\n",
    "print(len(ind_rej_sum))\n",
    "print('DiffElos')\n",
    "ind_rej_diff=get_significance(pval_diff)\n",
    "print(len(ind_rej_diff))\n",
    "print('WhiteElos')\n",
    "ind_rej_white=get_significance(pval_white)\n",
    "print(len(ind_rej_white))\n",
    "print('BlackElos')\n",
    "ind_rej_black=get_significance(pval_black)\n",
    "print(len(ind_rej_black))"
   ]
  },
  {
   "cell_type": "code",
   "execution_count": 80,
   "metadata": {},
   "outputs": [
    {
     "data": {
      "text/plain": [
       "Index(['Result', 'NumMoves', 'MeanScore', 'ModeScore', 'FinalScore',\n",
       "       'FullMoves', 'MinScore', 'MaxScore', 'MedianScore', 'StdScore',\n",
       "       ...\n",
       "       'EndB', 'EndR', 'EndK', 'WhiteСhecks', 'WhiteQueenCastle',\n",
       "       'BlackQueenCastle', 'Promotion', 'EnPassant', 'CanClaimDraw',\n",
       "       'InsufficientMaterial'],\n",
       "      dtype='object', length=233)"
      ]
     },
     "execution_count": 80,
     "metadata": {},
     "output_type": "execute_result"
    }
   ],
   "source": [
    "features.columns"
   ]
  },
  {
   "cell_type": "code",
   "execution_count": 81,
   "metadata": {},
   "outputs": [
    {
     "name": "stdout",
     "output_type": "stream",
     "text": [
      "Result\n",
      "MeanScore\n",
      "ModeScore\n",
      "FinalScore\n",
      "MeanWhiteScore\n",
      "ModeWhiteScore\n",
      "FinalWhiteScore\n",
      "FinalBlackScore\n",
      "MeanDeltaScore\n",
      "MeanDebScore\n",
      "ModeDebScore\n",
      "MeanEndScore\n",
      "ModeEndScore\n",
      "MeanWhiteEndScore\n",
      "ModeWhiteEndScore\n",
      "FinalWhiteEndScore\n",
      "ModeBlackEndScore\n",
      "FinalBlackEndScore\n",
      "ModeDebDeltaScore\n",
      "ModeMitDeltaScore\n",
      "ModeEndDeltaScore\n",
      "MinWhiteDebDeltaScore\n",
      "MinWhiteMitDeltaScore\n",
      "MaxBlackMitDeltaScore\n",
      "VarianceBlackMitDeltaScore\n",
      "IsFirstAdvantageRealised\n",
      "IndWhiteBlunder\n",
      "WhiteKingCastle\n",
      "MovesBlackAdvantage\n",
      "Endn\n",
      "EndB\n",
      "WhiteQueenCastle\n",
      "InsufficientMaterial\n"
     ]
    }
   ],
   "source": [
    "for ind,val in enumerate(ind_rej_sum):\n",
    "    print(features.columns[val])"
   ]
  },
  {
   "cell_type": "code",
   "execution_count": 82,
   "metadata": {},
   "outputs": [
    {
     "name": "stdout",
     "output_type": "stream",
     "text": [
      "Result\n",
      "MeanScore\n",
      "ModeScore\n",
      "FinalScore\n",
      "MeanWhiteScore\n",
      "ModeWhiteScore\n",
      "FinalWhiteScore\n",
      "FinalBlackScore\n",
      "MeanDeltaScore\n",
      "MeanDebScore\n",
      "ModeDebScore\n",
      "MeanEndScore\n",
      "ModeEndScore\n",
      "MeanWhiteEndScore\n",
      "ModeWhiteEndScore\n",
      "FinalWhiteEndScore\n",
      "ModeBlackEndScore\n",
      "FinalBlackEndScore\n",
      "ModeDebDeltaScore\n",
      "ModeMitDeltaScore\n",
      "ModeEndDeltaScore\n",
      "MinWhiteDebDeltaScore\n",
      "MinWhiteMitDeltaScore\n",
      "MaxBlackMitDeltaScore\n",
      "VarianceBlackMitDeltaScore\n",
      "IsFirstAdvantageRealised\n",
      "IndWhiteBlunder\n",
      "WhiteKingCastle\n",
      "MovesBlackAdvantage\n",
      "Endn\n",
      "EndB\n",
      "WhiteQueenCastle\n",
      "InsufficientMaterial\n"
     ]
    }
   ],
   "source": [
    "for ind,val in enumerate(ind_rej_mean):\n",
    "    print(features.columns[val])"
   ]
  },
  {
   "cell_type": "code",
   "execution_count": 83,
   "metadata": {},
   "outputs": [],
   "source": [
    "%matplotlib inline\n",
    "import pandas as pd\n",
    "import matplotlib.pyplot as plt\n",
    "import numpy as np\n",
    "import time\n",
    "from sklearn.metrics import mean_absolute_error as mae\n",
    "from sklearn.metrics import mean_squared_error as mse\n",
    "from sklearn.linear_model import LinearRegression\n",
    "from sklearn import model_selection as ms\n",
    "from scipy.stats import pearsonr\n",
    "\n",
    "from warnings import simplefilter\n",
    "\n",
    "rand_st=4\n",
    "#simplefilter(\"ignore\") "
   ]
  },
  {
   "cell_type": "code",
   "execution_count": 84,
   "metadata": {},
   "outputs": [],
   "source": [
    "target_white=elos['WhiteElo']\n",
    "target_black=elos['BlackElo']\n",
    "target_mean=elos['MeanElos']\n",
    "target_diff=elos['DiffElos']\n",
    "target_sum=elos['SumElos']"
   ]
  },
  {
   "cell_type": "markdown",
   "metadata": {},
   "source": [
    "#### Baseline до удаления незначимых признаков"
   ]
  },
  {
   "cell_type": "code",
   "execution_count": 85,
   "metadata": {},
   "outputs": [
    {
     "name": "stdout",
     "output_type": "stream",
     "text": [
      "0.24 c\n"
     ]
    }
   ],
   "source": [
    "start10 = time.time()\n",
    "lr_10 = LinearRegression()\n",
    "lr_10.fit(features, target_sum)\n",
    "sum_pred = lr_10.predict(features)\n",
    "full_time10=round(time.time() - start10,3)\n",
    "print(full_time10, 'c')"
   ]
  },
  {
   "cell_type": "code",
   "execution_count": 86,
   "metadata": {},
   "outputs": [
    {
     "data": {
      "image/png": "[encoded data removed]",
      "text/plain": [
       "<Figure size 576x576 with 1 Axes>"
      ]
     },
     "metadata": {},
     "output_type": "display_data"
    }
   ],
   "source": [
    "plt.figure(figsize=(8, 8))\n",
    "plt.scatter(sum_pred,target_sum, color = 'b',alpha=0.5)\n",
    "plt.xlabel('Модель 10 - predictions')\n",
    "plt.ylabel('Сумма рейтингов (target)')\n",
    "# Линия тренда\n",
    "z = np.polyfit(sum_pred,target_sum, 1)\n",
    "p = np.poly1d(z)\n",
    "plt.plot(sum_pred,p(sum_pred),\"r\")\n",
    "plt.show()"
   ]
  },
  {
   "cell_type": "code",
   "execution_count": 87,
   "metadata": {},
   "outputs": [
    {
     "name": "stdout",
     "output_type": "stream",
     "text": [
      "MAE = 342.161\n",
      "RMSE = 431.050\n",
      "Correlation coefficient = 0.461\n"
     ]
    }
   ],
   "source": [
    "mae10=mae(target_sum,sum_pred)\n",
    "print ('MAE = {:.3f}'.format(mae10))\n",
    "rmse10 = (mse(target_sum, sum_pred))**0.5\n",
    "print ('RMSE = {:.3f}'.format(rmse10))\n",
    "corr_coef10 = pearsonr(target_sum,sum_pred)\n",
    "print(\"Correlation coefficient = {:.3f}\".format(corr_coef10[0]))"
   ]
  },
  {
   "cell_type": "code",
   "execution_count": 88,
   "metadata": {},
   "outputs": [
    {
     "name": "stdout",
     "output_type": "stream",
     "text": [
      "0.217 c\n"
     ]
    }
   ],
   "source": [
    "start9 = time.time()\n",
    "lr_9 = LinearRegression()\n",
    "lr_9.fit(features, target_diff)\n",
    "diff_pred = lr_9.predict(features)\n",
    "full_time9=round(time.time() - start9,3)\n",
    "print(full_time9, 'c')"
   ]
  },
  {
   "cell_type": "code",
   "execution_count": 89,
   "metadata": {},
   "outputs": [
    {
     "data": {
      "image/png": "[encoded data removed]",
      "text/plain": [
       "<Figure size 576x576 with 1 Axes>"
      ]
     },
     "metadata": {},
     "output_type": "display_data"
    }
   ],
   "source": [
    "plt.figure(figsize=(8, 8))\n",
    "plt.scatter(diff_pred,target_diff, color = 'b',alpha=0.5)\n",
    "plt.xlabel('Модель 9 - predictions')\n",
    "plt.ylabel('Разница в рейтинге (target)')\n",
    "# Линия тренда\n",
    "z = np.polyfit(diff_pred,target_diff, 1)\n",
    "p = np.poly1d(z)\n",
    "plt.plot(diff_pred,p(diff_pred),\"r\")\n",
    "plt.show()"
   ]
  },
  {
   "cell_type": "code",
   "execution_count": 90,
   "metadata": {},
   "outputs": [
    {
     "name": "stdout",
     "output_type": "stream",
     "text": [
      "MAE = 150.701\n",
      "RMSE = 192.272\n",
      "Correlation coefficient = 0.574\n"
     ]
    }
   ],
   "source": [
    "mae9=mae(target_diff,diff_pred)\n",
    "print ('MAE = {:.3f}'.format(mae9))\n",
    "rmse9 = (mse(target_diff, diff_pred))**0.5\n",
    "print ('RMSE = {:.3f}'.format(rmse9))\n",
    "corr_coef9 = pearsonr(target_diff,diff_pred)\n",
    "print(\"Correlation coefficient = {:.3f}\".format(corr_coef9[0]))"
   ]
  },
  {
   "cell_type": "code",
   "execution_count": 91,
   "metadata": {},
   "outputs": [],
   "source": [
    "def find_abs_error(pred,elos):\n",
    "    er=0\n",
    "    for ind, val in enumerate(pred):\n",
    "        er+=elos.iloc[ind,0]-val[0]\n",
    "        er+=elos.iloc[ind,1]-val[1]\n",
    "    return round(er,5)\n",
    "\n",
    "def find_mean_error(pred,elos):\n",
    "    er=0\n",
    "    count=0\n",
    "    for ind, val in enumerate(pred):\n",
    "        er+=elos.iloc[ind,0]-val[0]\n",
    "        er+=elos.iloc[ind,1]-val[1]\n",
    "        count+=2\n",
    "    return round(er/count,5)"
   ]
  },
  {
   "cell_type": "code",
   "execution_count": 93,
   "metadata": {},
   "outputs": [
    {
     "data": {
      "text/plain": [
       "(24255,\n",
       " [(2364.3741264853497, 2370.915906383957),\n",
       "  (2159.4095888945535, 2303.5793870122093),\n",
       "  (2283.705143274372, 2164.957692564116),\n",
       "  (2250.18960031077, 2015.5700975836887),\n",
       "  (2364.459217744196, 2354.6440159719764)])"
      ]
     },
     "execution_count": 93,
     "metadata": {},
     "output_type": "execute_result"
    }
   ],
   "source": [
    "white_elos1 = (sum_pred + diff_pred)/2\n",
    "black_elos1 = (sum_pred-diff_pred)/2\n",
    "pred_elos1=list(zip(white_elos1,black_elos1))\n",
    "len(pred_elos1),pred_elos1[:5]"
   ]
  },
  {
   "cell_type": "code",
   "execution_count": 94,
   "metadata": {},
   "outputs": [
    {
     "data": {
      "text/plain": [
       "(0.0, 0.0)"
      ]
     },
     "execution_count": 94,
     "metadata": {},
     "output_type": "execute_result"
    }
   ],
   "source": [
    "find_abs_error(pred_elos1,elos),find_mean_error(pred_elos1,elos)"
   ]
  },
  {
   "cell_type": "markdown",
   "metadata": {},
   "source": [
    "#### Пробуем удалить незначимые по гипотезе выше признаки"
   ]
  },
  {
   "cell_type": "code",
   "execution_count": 96,
   "metadata": {},
   "outputs": [
    {
     "data": {
      "text/plain": [
       "(33, (24255, 233))"
      ]
     },
     "execution_count": 96,
     "metadata": {},
     "output_type": "execute_result"
    }
   ],
   "source": [
    "cols_reject=[]\n",
    "for ind,val in enumerate(ind_rej_sum):\n",
    "    cols_reject.append(features.columns[val])\n",
    "\n",
    "len(cols_reject),features.shape"
   ]
  },
  {
   "cell_type": "code",
   "execution_count": 98,
   "metadata": {},
   "outputs": [],
   "source": [
    "features_new=features.drop(columns=cols_reject,inplace=False)"
   ]
  },
  {
   "cell_type": "code",
   "execution_count": 99,
   "metadata": {},
   "outputs": [
    {
     "data": {
      "text/plain": [
       "(24255, 200)"
      ]
     },
     "execution_count": 99,
     "metadata": {},
     "output_type": "execute_result"
    }
   ],
   "source": [
    "features_new.shape"
   ]
  },
  {
   "cell_type": "code",
   "execution_count": 100,
   "metadata": {},
   "outputs": [
    {
     "name": "stdout",
     "output_type": "stream",
     "text": [
      "0.211 c\n"
     ]
    }
   ],
   "source": [
    "start10 = time.time()\n",
    "lr_10 = LinearRegression()\n",
    "lr_10.fit(features_new, target_sum)\n",
    "sum_pred = lr_10.predict(features_new)\n",
    "full_time10=round(time.time() - start10,3)\n",
    "print(full_time10, 'c')"
   ]
  },
  {
   "cell_type": "code",
   "execution_count": 101,
   "metadata": {},
   "outputs": [
    {
     "data": {
      "image/png": "[encoded data removed]",
      "text/plain": [
       "<Figure size 576x576 with 1 Axes>"
      ]
     },
     "metadata": {},
     "output_type": "display_data"
    }
   ],
   "source": [
    "plt.figure(figsize=(8, 8))\n",
    "plt.scatter(sum_pred,target_sum, color = 'b',alpha=0.5)\n",
    "plt.xlabel('Модель 10 - predictions')\n",
    "plt.ylabel('Сумма рейтингов (target)')\n",
    "# Линия тренда\n",
    "z = np.polyfit(sum_pred,target_sum, 1)\n",
    "p = np.poly1d(z)\n",
    "plt.plot(sum_pred,p(sum_pred),\"r\")\n",
    "plt.show()"
   ]
  },
  {
   "cell_type": "code",
   "execution_count": 102,
   "metadata": {},
   "outputs": [
    {
     "name": "stdout",
     "output_type": "stream",
     "text": [
      "MAE = 344.214\n",
      "RMSE = 433.726\n",
      "Correlation coefficient = 0.450\n"
     ]
    }
   ],
   "source": [
    "mae10=mae(target_sum,sum_pred)\n",
    "print ('MAE = {:.3f}'.format(mae10))\n",
    "rmse10 = (mse(target_sum, sum_pred))**0.5\n",
    "print ('RMSE = {:.3f}'.format(rmse10))\n",
    "corr_coef10 = pearsonr(target_sum,sum_pred)\n",
    "print(\"Correlation coefficient = {:.3f}\".format(corr_coef10[0]))"
   ]
  },
  {
   "cell_type": "code",
   "execution_count": 103,
   "metadata": {},
   "outputs": [
    {
     "name": "stdout",
     "output_type": "stream",
     "text": [
      "0.188 c\n"
     ]
    }
   ],
   "source": [
    "start9 = time.time()\n",
    "lr_9 = LinearRegression()\n",
    "lr_9.fit(features_new, target_diff)\n",
    "diff_pred = lr_9.predict(features_new)\n",
    "full_time9=round(time.time() - start9,3)\n",
    "print(full_time9, 'c')"
   ]
  },
  {
   "cell_type": "code",
   "execution_count": 104,
   "metadata": {},
   "outputs": [
    {
     "data": {
      "image/png": "[encoded data removed]",
      "text/plain": [
       "<Figure size 576x576 with 1 Axes>"
      ]
     },
     "metadata": {},
     "output_type": "display_data"
    }
   ],
   "source": [
    "plt.figure(figsize=(8, 8))\n",
    "plt.scatter(diff_pred,target_diff, color = 'b',alpha=0.5)\n",
    "plt.xlabel('Модель 9 - predictions')\n",
    "plt.ylabel('Разница в рейтинге (target)')\n",
    "# Линия тренда\n",
    "z = np.polyfit(diff_pred,target_diff, 1)\n",
    "p = np.poly1d(z)\n",
    "plt.plot(diff_pred,p(diff_pred),\"r\")\n",
    "plt.show()"
   ]
  },
  {
   "cell_type": "code",
   "execution_count": 105,
   "metadata": {},
   "outputs": [
    {
     "name": "stdout",
     "output_type": "stream",
     "text": [
      "MAE = 159.612\n",
      "RMSE = 201.730\n",
      "Correlation coefficient = 0.512\n"
     ]
    }
   ],
   "source": [
    "mae9=mae(target_diff,diff_pred)\n",
    "print ('MAE = {:.3f}'.format(mae9))\n",
    "rmse9 = (mse(target_diff, diff_pred))**0.5\n",
    "print ('RMSE = {:.3f}'.format(rmse9))\n",
    "corr_coef9 = pearsonr(target_diff,diff_pred)\n",
    "print(\"Correlation coefficient = {:.3f}\".format(corr_coef9[0]))"
   ]
  },
  {
   "cell_type": "code",
   "execution_count": 106,
   "metadata": {},
   "outputs": [],
   "source": [
    "def find_abs_error(pred,elos):\n",
    "    er=0\n",
    "    for ind, val in enumerate(pred):\n",
    "        er+=elos.iloc[ind,0]-val[0]\n",
    "        er+=elos.iloc[ind,1]-val[1]\n",
    "    return round(er,5)\n",
    "\n",
    "def find_mean_error(pred,elos):\n",
    "    er=0\n",
    "    count=0\n",
    "    for ind, val in enumerate(pred):\n",
    "        er+=elos.iloc[ind,0]-val[0]\n",
    "        er+=elos.iloc[ind,1]-val[1]\n",
    "        count+=2\n",
    "    return round(er/count,5)"
   ]
  },
  {
   "cell_type": "code",
   "execution_count": 107,
   "metadata": {},
   "outputs": [
    {
     "data": {
      "text/plain": [
       "(24255,\n",
       " [(2324.009799327124, 2389.0124107257116),\n",
       "  (2108.507019362289, 2307.147170201311),\n",
       "  (2233.761759169973, 2191.1738447418816),\n",
       "  (2276.224624911866, 1985.9017831200663),\n",
       "  (2342.8211062649984, 2371.6941982110825)])"
      ]
     },
     "execution_count": 107,
     "metadata": {},
     "output_type": "execute_result"
    }
   ],
   "source": [
    "white_elos1 = (sum_pred + diff_pred)/2\n",
    "black_elos1 = (sum_pred-diff_pred)/2\n",
    "pred_elos1=list(zip(white_elos1,black_elos1))\n",
    "len(pred_elos1),pred_elos1[:5]"
   ]
  },
  {
   "cell_type": "code",
   "execution_count": 108,
   "metadata": {},
   "outputs": [
    {
     "data": {
      "text/plain": [
       "(0.0, 0.0)"
      ]
     },
     "execution_count": 108,
     "metadata": {},
     "output_type": "execute_result"
    }
   ],
   "source": [
    "find_abs_error(pred_elos1,elos),find_mean_error(pred_elos1,elos)"
   ]
  },
  {
   "cell_type": "code",
   "execution_count": 26,
   "metadata": {},
   "outputs": [
    {
     "data": {
      "text/plain": [
       "(24255, 224)"
      ]
     },
     "execution_count": 26,
     "metadata": {},
     "output_type": "execute_result"
    }
   ],
   "source": [
    "from sklearn.feature_selection import VarianceThreshold\n",
    "\n",
    "sel = VarianceThreshold(threshold=(.8 * (1 - .8)))\n",
    "sel_fit = sel.fit(features)\n",
    "transform=sel_fit.transform(features)\n",
    "features_new=pd.DataFrame(transform)\n",
    "features_new.shape"
   ]
  },
  {
   "cell_type": "code",
   "execution_count": 29,
   "metadata": {},
   "outputs": [
    {
     "data": {
      "text/plain": [
       "Int64Index([183, 185, 187, 215, 225, 229, 230, 231, 232], dtype='int64')"
      ]
     },
     "execution_count": 29,
     "metadata": {},
     "output_type": "execute_result"
    }
   ],
   "source": [
    "inv_trans=sel_fit.inverse_transform(features_new)\n",
    "inv_features=pd.DataFrame(inv_trans)\n",
    "reject_features=inv_features.columns[(inv_features== 0).all()]\n",
    "reject_features"
   ]
  },
  {
   "cell_type": "code",
   "execution_count": 32,
   "metadata": {},
   "outputs": [
    {
     "name": "stdout",
     "output_type": "stream",
     "text": [
      "NumDebBlunders\n",
      "NumWhiteDebBlunders\n",
      "NumBlackDebBlunders\n",
      "Endk\n",
      "EndK\n",
      "Promotion\n",
      "EnPassant\n",
      "CanClaimDraw\n",
      "InsufficientMaterial\n"
     ]
    }
   ],
   "source": [
    "for ind,val in enumerate(reject_features):\n",
    "    print(features.columns[val])"
   ]
  },
  {
   "cell_type": "markdown",
   "metadata": {},
   "source": [
    "### Новое:\n",
    "Поиск корреляций между признаками и целевой переменной"
   ]
  },
  {
   "cell_type": "code",
   "execution_count": 45,
   "metadata": {},
   "outputs": [
    {
     "name": "stderr",
     "output_type": "stream",
     "text": [
      "C:\\Users\\Asus\\Anaconda3\\lib\\site-packages\\scipy\\stats\\stats.py:3038: RuntimeWarning: invalid value encountered in double_scalars\n",
      "  r = r_num / r_den\n"
     ]
    },
    {
     "data": {
      "text/html": [
       "<div>\n",
       "<style scoped>\n",
       "    .dataframe tbody tr th:only-of-type {\n",
       "        vertical-align: middle;\n",
       "    }\n",
       "\n",
       "    .dataframe tbody tr th {\n",
       "        vertical-align: top;\n",
       "    }\n",
       "\n",
       "    .dataframe thead th {\n",
       "        text-align: right;\n",
       "    }\n",
       "</style>\n",
       "<table border=\"1\" class=\"dataframe\">\n",
       "  <thead>\n",
       "    <tr style=\"text-align: right;\">\n",
       "      <th></th>\n",
       "      <th>Value</th>\n",
       "    </tr>\n",
       "  </thead>\n",
       "  <tbody>\n",
       "    <tr>\n",
       "      <th>NumMitErrors vs MeanElos</th>\n",
       "      <td>-0.265196</td>\n",
       "    </tr>\n",
       "    <tr>\n",
       "      <th>LastAdvantageInd vs MeanElos</th>\n",
       "      <td>0.246657</td>\n",
       "    </tr>\n",
       "    <tr>\n",
       "      <th>NumBlackMitErrors vs MeanElos</th>\n",
       "      <td>-0.240913</td>\n",
       "    </tr>\n",
       "    <tr>\n",
       "      <th>NumWhiteMitErrors vs MeanElos</th>\n",
       "      <td>-0.234930</td>\n",
       "    </tr>\n",
       "    <tr>\n",
       "      <th>NumMitBlunders vs MeanElos</th>\n",
       "      <td>-0.219782</td>\n",
       "    </tr>\n",
       "  </tbody>\n",
       "</table>\n",
       "</div>"
      ],
      "text/plain": [
       "                                  Value\n",
       "NumMitErrors vs MeanElos      -0.265196\n",
       "LastAdvantageInd vs MeanElos   0.246657\n",
       "NumBlackMitErrors vs MeanElos -0.240913\n",
       "NumWhiteMitErrors vs MeanElos -0.234930\n",
       "NumMitBlunders vs MeanElos    -0.219782"
      ]
     },
     "execution_count": 45,
     "metadata": {},
     "output_type": "execute_result"
    }
   ],
   "source": [
    "from scipy.stats import pearsonr\n",
    "\n",
    "correlations = {}\n",
    "\n",
    "target = elos['MeanElos']\n",
    "features_name=features.columns.tolist()\n",
    "\n",
    "for f in features_name:\n",
    "    data_temp = features.copy()\n",
    "    data_temp['MeanElos']=target\n",
    "    x1 = data_temp[f].values\n",
    "    x2 = data_temp['MeanElos'].values\n",
    "    key = f + ' vs ' + 'MeanElos'\n",
    "    correlations[key] = pearsonr(x1,x2)[0]\n",
    "    \n",
    "data_correlations = pd.DataFrame(correlations, index=['Value']).T\n",
    "data_correlations.loc[data_correlations['Value'].abs().sort_values(ascending=False).index].head()"
   ]
  },
  {
   "cell_type": "code",
   "execution_count": 48,
   "metadata": {},
   "outputs": [
    {
     "name": "stderr",
     "output_type": "stream",
     "text": [
      "C:\\Users\\Asus\\Anaconda3\\lib\\site-packages\\scipy\\stats\\stats.py:3038: RuntimeWarning: invalid value encountered in double_scalars\n",
      "  r = r_num / r_den\n"
     ]
    },
    {
     "data": {
      "text/html": [
       "<div>\n",
       "<style scoped>\n",
       "    .dataframe tbody tr th:only-of-type {\n",
       "        vertical-align: middle;\n",
       "    }\n",
       "\n",
       "    .dataframe tbody tr th {\n",
       "        vertical-align: top;\n",
       "    }\n",
       "\n",
       "    .dataframe thead th {\n",
       "        text-align: right;\n",
       "    }\n",
       "</style>\n",
       "<table border=\"1\" class=\"dataframe\">\n",
       "  <thead>\n",
       "    <tr style=\"text-align: right;\">\n",
       "      <th></th>\n",
       "      <th>Value</th>\n",
       "    </tr>\n",
       "  </thead>\n",
       "  <tbody>\n",
       "    <tr>\n",
       "      <th>Result vs DiffElos</th>\n",
       "      <td>0.546094</td>\n",
       "    </tr>\n",
       "    <tr>\n",
       "      <th>MeanEndScore vs DiffElos</th>\n",
       "      <td>0.391551</td>\n",
       "    </tr>\n",
       "    <tr>\n",
       "      <th>MeanWhiteEndScore vs DiffElos</th>\n",
       "      <td>0.386893</td>\n",
       "    </tr>\n",
       "    <tr>\n",
       "      <th>MeanBlackEndScore vs DiffElos</th>\n",
       "      <td>0.385615</td>\n",
       "    </tr>\n",
       "    <tr>\n",
       "      <th>MeanScore vs DiffElos</th>\n",
       "      <td>0.368756</td>\n",
       "    </tr>\n",
       "  </tbody>\n",
       "</table>\n",
       "</div>"
      ],
      "text/plain": [
       "                                  Value\n",
       "Result vs DiffElos             0.546094\n",
       "MeanEndScore vs DiffElos       0.391551\n",
       "MeanWhiteEndScore vs DiffElos  0.386893\n",
       "MeanBlackEndScore vs DiffElos  0.385615\n",
       "MeanScore vs DiffElos          0.368756"
      ]
     },
     "execution_count": 48,
     "metadata": {},
     "output_type": "execute_result"
    }
   ],
   "source": [
    "correlations = {}\n",
    "\n",
    "target = elos['DiffElos']\n",
    "features_name=features.columns.tolist()\n",
    "\n",
    "for f in features_name:\n",
    "    data_temp = features.copy()\n",
    "    data_temp['DiffElos']=target\n",
    "    x1 = data_temp[f].values\n",
    "    x2 = data_temp['DiffElos'].values\n",
    "    key = f + ' vs ' + 'DiffElos'\n",
    "    correlations[key] = pearsonr(x1,x2)[0]\n",
    "    \n",
    "data_correlations = pd.DataFrame(correlations, index=['Value']).T\n",
    "data_correlations.loc[data_correlations['Value'].abs().sort_values(ascending=False).index].head()"
   ]
  },
  {
   "cell_type": "code",
   "execution_count": 58,
   "metadata": {},
   "outputs": [
    {
     "data": {
      "image/png": "[encoded data removed]",
      "text/plain": [
       "<matplotlib.figure.Figure at 0x22b804386d8>"
      ]
     },
     "metadata": {},
     "output_type": "display_data"
    }
   ],
   "source": [
    "plt.plot(features.Result,elos['DiffElos'])\n",
    "plt.xlabel('Result')\n",
    "plt.ylabel('DiffELos')\n",
    "plt.show()"
   ]
  },
  {
   "cell_type": "code",
   "execution_count": 49,
   "metadata": {},
   "outputs": [
    {
     "name": "stderr",
     "output_type": "stream",
     "text": [
      "C:\\Users\\Asus\\Anaconda3\\lib\\site-packages\\scipy\\stats\\stats.py:3038: RuntimeWarning: invalid value encountered in double_scalars\n",
      "  r = r_num / r_den\n"
     ]
    },
    {
     "data": {
      "text/html": [
       "<div>\n",
       "<style scoped>\n",
       "    .dataframe tbody tr th:only-of-type {\n",
       "        vertical-align: middle;\n",
       "    }\n",
       "\n",
       "    .dataframe tbody tr th {\n",
       "        vertical-align: top;\n",
       "    }\n",
       "\n",
       "    .dataframe thead th {\n",
       "        text-align: right;\n",
       "    }\n",
       "</style>\n",
       "<table border=\"1\" class=\"dataframe\">\n",
       "  <thead>\n",
       "    <tr style=\"text-align: right;\">\n",
       "      <th></th>\n",
       "      <th>Value</th>\n",
       "    </tr>\n",
       "  </thead>\n",
       "  <tbody>\n",
       "    <tr>\n",
       "      <th>NumMitErrors vs SumElos</th>\n",
       "      <td>-0.265197</td>\n",
       "    </tr>\n",
       "    <tr>\n",
       "      <th>LastAdvantageInd vs SumElos</th>\n",
       "      <td>0.246662</td>\n",
       "    </tr>\n",
       "    <tr>\n",
       "      <th>NumBlackMitErrors vs SumElos</th>\n",
       "      <td>-0.240921</td>\n",
       "    </tr>\n",
       "    <tr>\n",
       "      <th>NumWhiteMitErrors vs SumElos</th>\n",
       "      <td>-0.234928</td>\n",
       "    </tr>\n",
       "    <tr>\n",
       "      <th>NumMitBlunders vs SumElos</th>\n",
       "      <td>-0.219781</td>\n",
       "    </tr>\n",
       "  </tbody>\n",
       "</table>\n",
       "</div>"
      ],
      "text/plain": [
       "                                 Value\n",
       "NumMitErrors vs SumElos      -0.265197\n",
       "LastAdvantageInd vs SumElos   0.246662\n",
       "NumBlackMitErrors vs SumElos -0.240921\n",
       "NumWhiteMitErrors vs SumElos -0.234928\n",
       "NumMitBlunders vs SumElos    -0.219781"
      ]
     },
     "execution_count": 49,
     "metadata": {},
     "output_type": "execute_result"
    }
   ],
   "source": [
    "correlations = {}\n",
    "\n",
    "target = elos['SumElos']\n",
    "features_name=features.columns.tolist()\n",
    "\n",
    "for f in features_name:\n",
    "    data_temp = features.copy()\n",
    "    data_temp['SumElos']=target\n",
    "    x1 = data_temp[f].values\n",
    "    x2 = data_temp['SumElos'].values\n",
    "    key = f + ' vs ' + 'SumElos'\n",
    "    correlations[key] = pearsonr(x1,x2)[0]\n",
    "    \n",
    "data_correlations = pd.DataFrame(correlations, index=['Value']).T\n",
    "data_correlations.loc[data_correlations['Value'].abs().sort_values(ascending=False).index].head()"
   ]
  },
  {
   "cell_type": "code",
   "execution_count": 50,
   "metadata": {},
   "outputs": [
    {
     "name": "stderr",
     "output_type": "stream",
     "text": [
      "C:\\Users\\Asus\\Anaconda3\\lib\\site-packages\\scipy\\stats\\stats.py:3038: RuntimeWarning: invalid value encountered in double_scalars\n",
      "  r = r_num / r_den\n"
     ]
    },
    {
     "data": {
      "text/html": [
       "<div>\n",
       "<style scoped>\n",
       "    .dataframe tbody tr th:only-of-type {\n",
       "        vertical-align: middle;\n",
       "    }\n",
       "\n",
       "    .dataframe tbody tr th {\n",
       "        vertical-align: top;\n",
       "    }\n",
       "\n",
       "    .dataframe thead th {\n",
       "        text-align: right;\n",
       "    }\n",
       "</style>\n",
       "<table border=\"1\" class=\"dataframe\">\n",
       "  <thead>\n",
       "    <tr style=\"text-align: right;\">\n",
       "      <th></th>\n",
       "      <th>Value</th>\n",
       "    </tr>\n",
       "  </thead>\n",
       "  <tbody>\n",
       "    <tr>\n",
       "      <th>Result vs WhiteElo</th>\n",
       "      <td>0.244666</td>\n",
       "    </tr>\n",
       "    <tr>\n",
       "      <th>MedianBlackDeltaScore vs WhiteElo</th>\n",
       "      <td>-0.229775</td>\n",
       "    </tr>\n",
       "    <tr>\n",
       "      <th>NumMitErrors vs WhiteElo</th>\n",
       "      <td>-0.217271</td>\n",
       "    </tr>\n",
       "    <tr>\n",
       "      <th>MeanBlackMitDeltaScore vs WhiteElo</th>\n",
       "      <td>0.206191</td>\n",
       "    </tr>\n",
       "    <tr>\n",
       "      <th>NumWhiteMitErrors vs WhiteElo</th>\n",
       "      <td>-0.200324</td>\n",
       "    </tr>\n",
       "  </tbody>\n",
       "</table>\n",
       "</div>"
      ],
      "text/plain": [
       "                                       Value\n",
       "Result vs WhiteElo                  0.244666\n",
       "MedianBlackDeltaScore vs WhiteElo  -0.229775\n",
       "NumMitErrors vs WhiteElo           -0.217271\n",
       "MeanBlackMitDeltaScore vs WhiteElo  0.206191\n",
       "NumWhiteMitErrors vs WhiteElo      -0.200324"
      ]
     },
     "execution_count": 50,
     "metadata": {},
     "output_type": "execute_result"
    }
   ],
   "source": [
    "correlations = {}\n",
    "\n",
    "target = elos['WhiteElo']\n",
    "features_name=features.columns.tolist()\n",
    "\n",
    "for f in features_name:\n",
    "    data_temp = features.copy()\n",
    "    data_temp['WhiteElo']=target\n",
    "    x1 = data_temp[f].values\n",
    "    x2 = data_temp['WhiteElo'].values\n",
    "    key = f + ' vs ' + 'WhiteElo'\n",
    "    correlations[key] = pearsonr(x1,x2)[0]\n",
    "    \n",
    "data_correlations = pd.DataFrame(correlations, index=['Value']).T\n",
    "data_correlations.loc[data_correlations['Value'].abs().sort_values(ascending=False).index].head()"
   ]
  },
  {
   "cell_type": "code",
   "execution_count": 51,
   "metadata": {},
   "outputs": [
    {
     "name": "stderr",
     "output_type": "stream",
     "text": [
      "C:\\Users\\Asus\\Anaconda3\\lib\\site-packages\\scipy\\stats\\stats.py:3038: RuntimeWarning: invalid value encountered in double_scalars\n",
      "  r = r_num / r_den\n"
     ]
    },
    {
     "data": {
      "text/html": [
       "<div>\n",
       "<style scoped>\n",
       "    .dataframe tbody tr th:only-of-type {\n",
       "        vertical-align: middle;\n",
       "    }\n",
       "\n",
       "    .dataframe tbody tr th {\n",
       "        vertical-align: top;\n",
       "    }\n",
       "\n",
       "    .dataframe thead th {\n",
       "        text-align: right;\n",
       "    }\n",
       "</style>\n",
       "<table border=\"1\" class=\"dataframe\">\n",
       "  <thead>\n",
       "    <tr style=\"text-align: right;\">\n",
       "      <th></th>\n",
       "      <th>Value</th>\n",
       "    </tr>\n",
       "  </thead>\n",
       "  <tbody>\n",
       "    <tr>\n",
       "      <th>NumMitErrors vs BlackElo</th>\n",
       "      <td>-0.260030</td>\n",
       "    </tr>\n",
       "    <tr>\n",
       "      <th>MedianWhiteDeltaScore vs BlackElo</th>\n",
       "      <td>-0.248096</td>\n",
       "    </tr>\n",
       "    <tr>\n",
       "      <th>LastAdvantageInd vs BlackElo</th>\n",
       "      <td>0.247141</td>\n",
       "    </tr>\n",
       "    <tr>\n",
       "      <th>MeanWhiteMitDeltaScore vs BlackElo</th>\n",
       "      <td>-0.246326</td>\n",
       "    </tr>\n",
       "    <tr>\n",
       "      <th>NumBlackMitErrors vs BlackElo</th>\n",
       "      <td>-0.236171</td>\n",
       "    </tr>\n",
       "  </tbody>\n",
       "</table>\n",
       "</div>"
      ],
      "text/plain": [
       "                                       Value\n",
       "NumMitErrors vs BlackElo           -0.260030\n",
       "MedianWhiteDeltaScore vs BlackElo  -0.248096\n",
       "LastAdvantageInd vs BlackElo        0.247141\n",
       "MeanWhiteMitDeltaScore vs BlackElo -0.246326\n",
       "NumBlackMitErrors vs BlackElo      -0.236171"
      ]
     },
     "execution_count": 51,
     "metadata": {},
     "output_type": "execute_result"
    }
   ],
   "source": [
    "correlations = {}\n",
    "\n",
    "target = elos['BlackElo']\n",
    "features_name=features.columns.tolist()\n",
    "\n",
    "for f in features_name:\n",
    "    data_temp = features.copy()\n",
    "    data_temp['BlackElo']=target\n",
    "    x1 = data_temp[f].values\n",
    "    x2 = data_temp['BlackElo'].values\n",
    "    key = f + ' vs ' + 'BlackElo'\n",
    "    correlations[key] = pearsonr(x1,x2)[0]\n",
    "    \n",
    "data_correlations = pd.DataFrame(correlations, index=['Value']).T\n",
    "data_correlations.loc[data_correlations['Value'].abs().sort_values(ascending=False).index].head()"
   ]
  },
  {
   "cell_type": "code",
   "execution_count": null,
   "metadata": {},
   "outputs": [],
   "source": []
  }
 ],
 "metadata": {
  "kernelspec": {
   "display_name": "Python 3",
   "language": "python",
   "name": "python3"
  },
  "language_info": {
   "codemirror_mode": {
    "name": "ipython",
    "version": 3
   },
   "file_extension": ".py",
   "mimetype": "text/x-python",
   "name": "python",
   "nbconvert_exporter": "python",
   "pygments_lexer": "ipython3",
   "version": "3.6.4"
  }
 },
 "nbformat": 4,
 "nbformat_minor": 2
}
